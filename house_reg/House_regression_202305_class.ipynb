{
  "cells": [
    {
      "attachments": {},
      "cell_type": "markdown",
      "metadata": {
        "id": "rSg2ZuSgANDQ"
      },
      "source": [
        "### 필요한 패키지들"
      ]
    },
    {
      "cell_type": "code",
      "execution_count": 207,
      "metadata": {
        "colab": {
          "base_uri": "https://localhost:8080/",
          "height": 35
        },
        "id": "HzvCSU-LBghm",
        "outputId": "18417f32-5371-46b7-8225-003379032af8"
      },
      "outputs": [
        {
          "data": {
            "text/plain": [
              "'0.22.0'"
            ]
          },
          "execution_count": 207,
          "metadata": {},
          "output_type": "execute_result"
        }
      ],
      "source": [
        "import mlxtend\n",
        "mlxtend.__version__\n",
        "# ---> 아직 colab에서는 신버전을 지원을 하지 않아서..\n",
        "#      최신 버전으로 하기 위해서는 업그레이드를 해야함...\n",
        "# 참고) 본인 pc에서 하기 위해서는 따로 설치를 하셔야 함!!!!!\n",
        "#       https://anaconda.org/conda-forge/mlxtend\n",
        "#       conda install -c conda-forge mlxtend"
      ]
    },
    {
      "cell_type": "code",
      "execution_count": 208,
      "metadata": {
        "id": "r_405bHNBw6z"
      },
      "outputs": [
        {
          "name": "stdout",
          "output_type": "stream",
          "text": [
            "Requirement already satisfied: mlxtend in c:\\users\\ntx550\\anaconda3\\lib\\site-packages (0.22.0)\n",
            "Requirement already satisfied: joblib>=0.13.2 in c:\\users\\ntx550\\anaconda3\\lib\\site-packages (from mlxtend) (1.1.1)\n",
            "Requirement already satisfied: numpy>=1.16.2 in c:\\users\\ntx550\\anaconda3\\lib\\site-packages (from mlxtend) (1.23.5)\n",
            "Requirement already satisfied: pandas>=0.24.2 in c:\\users\\ntx550\\anaconda3\\lib\\site-packages (from mlxtend) (1.5.3)\n",
            "Requirement already satisfied: matplotlib>=3.0.0 in c:\\users\\ntx550\\anaconda3\\lib\\site-packages (from mlxtend) (3.7.0)\n",
            "Requirement already satisfied: scikit-learn>=1.0.2 in c:\\users\\ntx550\\anaconda3\\lib\\site-packages (from mlxtend) (1.2.1)\n",
            "Requirement already satisfied: scipy>=1.2.1 in c:\\users\\ntx550\\anaconda3\\lib\\site-packages (from mlxtend) (1.10.0)\n",
            "Requirement already satisfied: setuptools in c:\\users\\ntx550\\anaconda3\\lib\\site-packages (from mlxtend) (65.6.3)\n",
            "Requirement already satisfied: contourpy>=1.0.1 in c:\\users\\ntx550\\anaconda3\\lib\\site-packages (from matplotlib>=3.0.0->mlxtend) (1.0.5)\n",
            "Requirement already satisfied: fonttools>=4.22.0 in c:\\users\\ntx550\\anaconda3\\lib\\site-packages (from matplotlib>=3.0.0->mlxtend) (4.25.0)\n",
            "Requirement already satisfied: cycler>=0.10 in c:\\users\\ntx550\\anaconda3\\lib\\site-packages (from matplotlib>=3.0.0->mlxtend) (0.11.0)\n",
            "Requirement already satisfied: packaging>=20.0 in c:\\users\\ntx550\\anaconda3\\lib\\site-packages (from matplotlib>=3.0.0->mlxtend) (22.0)\n",
            "Requirement already satisfied: kiwisolver>=1.0.1 in c:\\users\\ntx550\\anaconda3\\lib\\site-packages (from matplotlib>=3.0.0->mlxtend) (1.4.4)\n",
            "Requirement already satisfied: python-dateutil>=2.7 in c:\\users\\ntx550\\anaconda3\\lib\\site-packages (from matplotlib>=3.0.0->mlxtend) (2.8.2)\n",
            "Requirement already satisfied: pillow>=6.2.0 in c:\\users\\ntx550\\anaconda3\\lib\\site-packages (from matplotlib>=3.0.0->mlxtend) (9.4.0)\n",
            "Requirement already satisfied: pyparsing>=2.3.1 in c:\\users\\ntx550\\anaconda3\\lib\\site-packages (from matplotlib>=3.0.0->mlxtend) (3.0.9)\n",
            "Requirement already satisfied: pytz>=2020.1 in c:\\users\\ntx550\\anaconda3\\lib\\site-packages (from pandas>=0.24.2->mlxtend) (2022.7)\n",
            "Requirement already satisfied: threadpoolctl>=2.0.0 in c:\\users\\ntx550\\anaconda3\\lib\\site-packages (from scikit-learn>=1.0.2->mlxtend) (2.2.0)\n",
            "Requirement already satisfied: six>=1.5 in c:\\users\\ntx550\\anaconda3\\lib\\site-packages (from python-dateutil>=2.7->matplotlib>=3.0.0->mlxtend) (1.16.0)\n",
            "Note: you may need to restart the kernel to use updated packages.\n"
          ]
        }
      ],
      "source": [
        "# colab에서는 업그래드로 진행을 하면 됨!!!!\n",
        "%pip install mlxtend --upgrade\n",
        "# ---> 꼭 런타임을 다시 실행을 해야지만, 최신 버전으로 적용이 됨..\n",
        "# 밑에 코드에서 버전이 0.22로 업그레이드 된 것을 확인!!!!!!"
      ]
    },
    {
      "cell_type": "code",
      "execution_count": 209,
      "metadata": {
        "colab": {
          "base_uri": "https://localhost:8080/",
          "height": 35
        },
        "id": "5aFh4hVbBgn_",
        "outputId": "24c86352-d960-41d1-caae-4e3baf221378"
      },
      "outputs": [
        {
          "data": {
            "text/plain": [
              "'0.22.0'"
            ]
          },
          "execution_count": 209,
          "metadata": {},
          "output_type": "execute_result"
        }
      ],
      "source": [
        "import mlxtend\n",
        "mlxtend.__version__"
      ]
    },
    {
      "cell_type": "code",
      "execution_count": 210,
      "metadata": {
        "id": "Te2Y2fMaANDS"
      },
      "outputs": [],
      "source": [
        "%config IPCompleter.greedy=True\n",
        "# 자동완성 기능 설정 : tab 눌렀을 때...자동완성.."
      ]
    },
    {
      "cell_type": "code",
      "execution_count": 211,
      "metadata": {
        "id": "haOlvKNUANDT"
      },
      "outputs": [],
      "source": [
        "# 본인 필요에 맞는 패키지들을 리스트업 하시면 됩니다....\n",
        "import pandas as pd\n",
        "import numpy as np\n",
        "from collections import Counter # ---> 수동으로 보팅기 만들 때..\n",
        "import matplotlib.pyplot as plt\n",
        "import seaborn as sns\n",
        "from IPython.display import Image\n",
        "import scipy.stats as stats\n",
        "from sklearn.model_selection import train_test_split\n",
        "%matplotlib inline"
      ]
    },
    {
      "attachments": {},
      "cell_type": "markdown",
      "metadata": {
        "id": "T4HLvl9-ANDT"
      },
      "source": [
        "### 데이터 불러들이기 및 확인"
      ]
    },
    {
      "cell_type": "code",
      "execution_count": 212,
      "metadata": {
        "id": "0gDify37ANDU"
      },
      "outputs": [],
      "source": [
        "# Train/Test 모두 불러놓고, 같이 처리를 하도록 하겠습니다..\n",
        "# --> kaggel 업로드를 하기위해서 임!!!\n",
        "# 참고) 본인 경로에 맞춰서 설정..\n",
        "# train_path= '/content/train.csv'\n",
        "# test_path ='/content/test.csv'\n",
        "train_path = \"C:/Users/NTX550/Desktop/권지원/5/house_reg/house_reg/house_reg/train.csv\"\n",
        "test_path = \"C:/Users/NTX550/Desktop/권지원/5/house_reg/house_reg/house_reg/test.csv\"\n",
        "train_df = pd.read_csv(train_path)\n",
        "test_df = pd.read_csv(test_path)"
      ]
    },
    {
      "cell_type": "code",
      "execution_count": 213,
      "metadata": {
        "colab": {
          "base_uri": "https://localhost:8080/",
          "height": 299
        },
        "id": "HqloVwgWANDU",
        "outputId": "29b8ea5f-5d00-41ac-9f78-f5ee36079f09"
      },
      "outputs": [
        {
          "data": {
            "text/html": [
              "<div>\n",
              "<style scoped>\n",
              "    .dataframe tbody tr th:only-of-type {\n",
              "        vertical-align: middle;\n",
              "    }\n",
              "\n",
              "    .dataframe tbody tr th {\n",
              "        vertical-align: top;\n",
              "    }\n",
              "\n",
              "    .dataframe thead th {\n",
              "        text-align: right;\n",
              "    }\n",
              "</style>\n",
              "<table border=\"1\" class=\"dataframe\">\n",
              "  <thead>\n",
              "    <tr style=\"text-align: right;\">\n",
              "      <th></th>\n",
              "      <th>Id</th>\n",
              "      <th>MSSubClass</th>\n",
              "      <th>MSZoning</th>\n",
              "      <th>LotFrontage</th>\n",
              "      <th>LotArea</th>\n",
              "      <th>Street</th>\n",
              "      <th>Alley</th>\n",
              "      <th>LotShape</th>\n",
              "      <th>LandContour</th>\n",
              "      <th>Utilities</th>\n",
              "      <th>...</th>\n",
              "      <th>PoolArea</th>\n",
              "      <th>PoolQC</th>\n",
              "      <th>Fence</th>\n",
              "      <th>MiscFeature</th>\n",
              "      <th>MiscVal</th>\n",
              "      <th>MoSold</th>\n",
              "      <th>YrSold</th>\n",
              "      <th>SaleType</th>\n",
              "      <th>SaleCondition</th>\n",
              "      <th>SalePrice</th>\n",
              "    </tr>\n",
              "  </thead>\n",
              "  <tbody>\n",
              "    <tr>\n",
              "      <th>0</th>\n",
              "      <td>1</td>\n",
              "      <td>60</td>\n",
              "      <td>RL</td>\n",
              "      <td>65.0</td>\n",
              "      <td>8450</td>\n",
              "      <td>Pave</td>\n",
              "      <td>NaN</td>\n",
              "      <td>Reg</td>\n",
              "      <td>Lvl</td>\n",
              "      <td>AllPub</td>\n",
              "      <td>...</td>\n",
              "      <td>0</td>\n",
              "      <td>NaN</td>\n",
              "      <td>NaN</td>\n",
              "      <td>NaN</td>\n",
              "      <td>0</td>\n",
              "      <td>2</td>\n",
              "      <td>2008</td>\n",
              "      <td>WD</td>\n",
              "      <td>Normal</td>\n",
              "      <td>208500</td>\n",
              "    </tr>\n",
              "    <tr>\n",
              "      <th>1</th>\n",
              "      <td>2</td>\n",
              "      <td>20</td>\n",
              "      <td>RL</td>\n",
              "      <td>80.0</td>\n",
              "      <td>9600</td>\n",
              "      <td>Pave</td>\n",
              "      <td>NaN</td>\n",
              "      <td>Reg</td>\n",
              "      <td>Lvl</td>\n",
              "      <td>AllPub</td>\n",
              "      <td>...</td>\n",
              "      <td>0</td>\n",
              "      <td>NaN</td>\n",
              "      <td>NaN</td>\n",
              "      <td>NaN</td>\n",
              "      <td>0</td>\n",
              "      <td>5</td>\n",
              "      <td>2007</td>\n",
              "      <td>WD</td>\n",
              "      <td>Normal</td>\n",
              "      <td>181500</td>\n",
              "    </tr>\n",
              "    <tr>\n",
              "      <th>2</th>\n",
              "      <td>3</td>\n",
              "      <td>60</td>\n",
              "      <td>RL</td>\n",
              "      <td>68.0</td>\n",
              "      <td>11250</td>\n",
              "      <td>Pave</td>\n",
              "      <td>NaN</td>\n",
              "      <td>IR1</td>\n",
              "      <td>Lvl</td>\n",
              "      <td>AllPub</td>\n",
              "      <td>...</td>\n",
              "      <td>0</td>\n",
              "      <td>NaN</td>\n",
              "      <td>NaN</td>\n",
              "      <td>NaN</td>\n",
              "      <td>0</td>\n",
              "      <td>9</td>\n",
              "      <td>2008</td>\n",
              "      <td>WD</td>\n",
              "      <td>Normal</td>\n",
              "      <td>223500</td>\n",
              "    </tr>\n",
              "    <tr>\n",
              "      <th>3</th>\n",
              "      <td>4</td>\n",
              "      <td>70</td>\n",
              "      <td>RL</td>\n",
              "      <td>60.0</td>\n",
              "      <td>9550</td>\n",
              "      <td>Pave</td>\n",
              "      <td>NaN</td>\n",
              "      <td>IR1</td>\n",
              "      <td>Lvl</td>\n",
              "      <td>AllPub</td>\n",
              "      <td>...</td>\n",
              "      <td>0</td>\n",
              "      <td>NaN</td>\n",
              "      <td>NaN</td>\n",
              "      <td>NaN</td>\n",
              "      <td>0</td>\n",
              "      <td>2</td>\n",
              "      <td>2006</td>\n",
              "      <td>WD</td>\n",
              "      <td>Abnorml</td>\n",
              "      <td>140000</td>\n",
              "    </tr>\n",
              "    <tr>\n",
              "      <th>4</th>\n",
              "      <td>5</td>\n",
              "      <td>60</td>\n",
              "      <td>RL</td>\n",
              "      <td>84.0</td>\n",
              "      <td>14260</td>\n",
              "      <td>Pave</td>\n",
              "      <td>NaN</td>\n",
              "      <td>IR1</td>\n",
              "      <td>Lvl</td>\n",
              "      <td>AllPub</td>\n",
              "      <td>...</td>\n",
              "      <td>0</td>\n",
              "      <td>NaN</td>\n",
              "      <td>NaN</td>\n",
              "      <td>NaN</td>\n",
              "      <td>0</td>\n",
              "      <td>12</td>\n",
              "      <td>2008</td>\n",
              "      <td>WD</td>\n",
              "      <td>Normal</td>\n",
              "      <td>250000</td>\n",
              "    </tr>\n",
              "  </tbody>\n",
              "</table>\n",
              "<p>5 rows × 81 columns</p>\n",
              "</div>"
            ],
            "text/plain": [
              "   Id  MSSubClass MSZoning  LotFrontage  LotArea Street Alley LotShape  \\\n",
              "0   1          60       RL         65.0     8450   Pave   NaN      Reg   \n",
              "1   2          20       RL         80.0     9600   Pave   NaN      Reg   \n",
              "2   3          60       RL         68.0    11250   Pave   NaN      IR1   \n",
              "3   4          70       RL         60.0     9550   Pave   NaN      IR1   \n",
              "4   5          60       RL         84.0    14260   Pave   NaN      IR1   \n",
              "\n",
              "  LandContour Utilities  ... PoolArea PoolQC Fence MiscFeature MiscVal MoSold  \\\n",
              "0         Lvl    AllPub  ...        0    NaN   NaN         NaN       0      2   \n",
              "1         Lvl    AllPub  ...        0    NaN   NaN         NaN       0      5   \n",
              "2         Lvl    AllPub  ...        0    NaN   NaN         NaN       0      9   \n",
              "3         Lvl    AllPub  ...        0    NaN   NaN         NaN       0      2   \n",
              "4         Lvl    AllPub  ...        0    NaN   NaN         NaN       0     12   \n",
              "\n",
              "  YrSold  SaleType  SaleCondition  SalePrice  \n",
              "0   2008        WD         Normal     208500  \n",
              "1   2007        WD         Normal     181500  \n",
              "2   2008        WD         Normal     223500  \n",
              "3   2006        WD        Abnorml     140000  \n",
              "4   2008        WD         Normal     250000  \n",
              "\n",
              "[5 rows x 81 columns]"
            ]
          },
          "execution_count": 213,
          "metadata": {},
          "output_type": "execute_result"
        }
      ],
      "source": [
        "train_df.head()"
      ]
    },
    {
      "cell_type": "code",
      "execution_count": 214,
      "metadata": {
        "colab": {
          "base_uri": "https://localhost:8080/",
          "height": 299
        },
        "id": "DkNVbgVUANDV",
        "outputId": "17c36ec1-56b5-4534-f552-d61c1fecbd09"
      },
      "outputs": [
        {
          "data": {
            "text/html": [
              "<div>\n",
              "<style scoped>\n",
              "    .dataframe tbody tr th:only-of-type {\n",
              "        vertical-align: middle;\n",
              "    }\n",
              "\n",
              "    .dataframe tbody tr th {\n",
              "        vertical-align: top;\n",
              "    }\n",
              "\n",
              "    .dataframe thead th {\n",
              "        text-align: right;\n",
              "    }\n",
              "</style>\n",
              "<table border=\"1\" class=\"dataframe\">\n",
              "  <thead>\n",
              "    <tr style=\"text-align: right;\">\n",
              "      <th></th>\n",
              "      <th>Id</th>\n",
              "      <th>MSSubClass</th>\n",
              "      <th>MSZoning</th>\n",
              "      <th>LotFrontage</th>\n",
              "      <th>LotArea</th>\n",
              "      <th>Street</th>\n",
              "      <th>Alley</th>\n",
              "      <th>LotShape</th>\n",
              "      <th>LandContour</th>\n",
              "      <th>Utilities</th>\n",
              "      <th>...</th>\n",
              "      <th>ScreenPorch</th>\n",
              "      <th>PoolArea</th>\n",
              "      <th>PoolQC</th>\n",
              "      <th>Fence</th>\n",
              "      <th>MiscFeature</th>\n",
              "      <th>MiscVal</th>\n",
              "      <th>MoSold</th>\n",
              "      <th>YrSold</th>\n",
              "      <th>SaleType</th>\n",
              "      <th>SaleCondition</th>\n",
              "    </tr>\n",
              "  </thead>\n",
              "  <tbody>\n",
              "    <tr>\n",
              "      <th>0</th>\n",
              "      <td>1461</td>\n",
              "      <td>20</td>\n",
              "      <td>RH</td>\n",
              "      <td>80.0</td>\n",
              "      <td>11622</td>\n",
              "      <td>Pave</td>\n",
              "      <td>NaN</td>\n",
              "      <td>Reg</td>\n",
              "      <td>Lvl</td>\n",
              "      <td>AllPub</td>\n",
              "      <td>...</td>\n",
              "      <td>120</td>\n",
              "      <td>0</td>\n",
              "      <td>NaN</td>\n",
              "      <td>MnPrv</td>\n",
              "      <td>NaN</td>\n",
              "      <td>0</td>\n",
              "      <td>6</td>\n",
              "      <td>2010</td>\n",
              "      <td>WD</td>\n",
              "      <td>Normal</td>\n",
              "    </tr>\n",
              "    <tr>\n",
              "      <th>1</th>\n",
              "      <td>1462</td>\n",
              "      <td>20</td>\n",
              "      <td>RL</td>\n",
              "      <td>81.0</td>\n",
              "      <td>14267</td>\n",
              "      <td>Pave</td>\n",
              "      <td>NaN</td>\n",
              "      <td>IR1</td>\n",
              "      <td>Lvl</td>\n",
              "      <td>AllPub</td>\n",
              "      <td>...</td>\n",
              "      <td>0</td>\n",
              "      <td>0</td>\n",
              "      <td>NaN</td>\n",
              "      <td>NaN</td>\n",
              "      <td>Gar2</td>\n",
              "      <td>12500</td>\n",
              "      <td>6</td>\n",
              "      <td>2010</td>\n",
              "      <td>WD</td>\n",
              "      <td>Normal</td>\n",
              "    </tr>\n",
              "    <tr>\n",
              "      <th>2</th>\n",
              "      <td>1463</td>\n",
              "      <td>60</td>\n",
              "      <td>RL</td>\n",
              "      <td>74.0</td>\n",
              "      <td>13830</td>\n",
              "      <td>Pave</td>\n",
              "      <td>NaN</td>\n",
              "      <td>IR1</td>\n",
              "      <td>Lvl</td>\n",
              "      <td>AllPub</td>\n",
              "      <td>...</td>\n",
              "      <td>0</td>\n",
              "      <td>0</td>\n",
              "      <td>NaN</td>\n",
              "      <td>MnPrv</td>\n",
              "      <td>NaN</td>\n",
              "      <td>0</td>\n",
              "      <td>3</td>\n",
              "      <td>2010</td>\n",
              "      <td>WD</td>\n",
              "      <td>Normal</td>\n",
              "    </tr>\n",
              "    <tr>\n",
              "      <th>3</th>\n",
              "      <td>1464</td>\n",
              "      <td>60</td>\n",
              "      <td>RL</td>\n",
              "      <td>78.0</td>\n",
              "      <td>9978</td>\n",
              "      <td>Pave</td>\n",
              "      <td>NaN</td>\n",
              "      <td>IR1</td>\n",
              "      <td>Lvl</td>\n",
              "      <td>AllPub</td>\n",
              "      <td>...</td>\n",
              "      <td>0</td>\n",
              "      <td>0</td>\n",
              "      <td>NaN</td>\n",
              "      <td>NaN</td>\n",
              "      <td>NaN</td>\n",
              "      <td>0</td>\n",
              "      <td>6</td>\n",
              "      <td>2010</td>\n",
              "      <td>WD</td>\n",
              "      <td>Normal</td>\n",
              "    </tr>\n",
              "    <tr>\n",
              "      <th>4</th>\n",
              "      <td>1465</td>\n",
              "      <td>120</td>\n",
              "      <td>RL</td>\n",
              "      <td>43.0</td>\n",
              "      <td>5005</td>\n",
              "      <td>Pave</td>\n",
              "      <td>NaN</td>\n",
              "      <td>IR1</td>\n",
              "      <td>HLS</td>\n",
              "      <td>AllPub</td>\n",
              "      <td>...</td>\n",
              "      <td>144</td>\n",
              "      <td>0</td>\n",
              "      <td>NaN</td>\n",
              "      <td>NaN</td>\n",
              "      <td>NaN</td>\n",
              "      <td>0</td>\n",
              "      <td>1</td>\n",
              "      <td>2010</td>\n",
              "      <td>WD</td>\n",
              "      <td>Normal</td>\n",
              "    </tr>\n",
              "  </tbody>\n",
              "</table>\n",
              "<p>5 rows × 80 columns</p>\n",
              "</div>"
            ],
            "text/plain": [
              "     Id  MSSubClass MSZoning  LotFrontage  LotArea Street Alley LotShape  \\\n",
              "0  1461          20       RH         80.0    11622   Pave   NaN      Reg   \n",
              "1  1462          20       RL         81.0    14267   Pave   NaN      IR1   \n",
              "2  1463          60       RL         74.0    13830   Pave   NaN      IR1   \n",
              "3  1464          60       RL         78.0     9978   Pave   NaN      IR1   \n",
              "4  1465         120       RL         43.0     5005   Pave   NaN      IR1   \n",
              "\n",
              "  LandContour Utilities  ... ScreenPorch PoolArea PoolQC  Fence MiscFeature  \\\n",
              "0         Lvl    AllPub  ...         120        0    NaN  MnPrv         NaN   \n",
              "1         Lvl    AllPub  ...           0        0    NaN    NaN        Gar2   \n",
              "2         Lvl    AllPub  ...           0        0    NaN  MnPrv         NaN   \n",
              "3         Lvl    AllPub  ...           0        0    NaN    NaN         NaN   \n",
              "4         HLS    AllPub  ...         144        0    NaN    NaN         NaN   \n",
              "\n",
              "  MiscVal MoSold  YrSold  SaleType  SaleCondition  \n",
              "0       0      6    2010        WD         Normal  \n",
              "1   12500      6    2010        WD         Normal  \n",
              "2       0      3    2010        WD         Normal  \n",
              "3       0      6    2010        WD         Normal  \n",
              "4       0      1    2010        WD         Normal  \n",
              "\n",
              "[5 rows x 80 columns]"
            ]
          },
          "execution_count": 214,
          "metadata": {},
          "output_type": "execute_result"
        }
      ],
      "source": [
        "test_df.head()"
      ]
    },
    {
      "cell_type": "code",
      "execution_count": 215,
      "metadata": {
        "id": "03k29TkRKTQh"
      },
      "outputs": [
        {
          "data": {
            "text/plain": [
              "'\\nMSSubClass : 매매와 관련된 주거 타입 식별\\nMSZoning : 매매의 일반적인 지역 분류\\nLotFrontage : 부동산과 연결된 도로의 선형 피트\\nLotArea : 평방피트 단위의 부지 크기\\nStreet : 부동산으로의 도로(street) 접근 유형\\nAlley : 부동산으로의 골목(alley) 접근 유형\\nLotShape : 부동산의 일반적인 모양\\nLandContour : 부동산의 평탄도\\nUtilities : 사용 가능한 유틸리티(수도전기가스) 유형\\nLotConfig : 지역 구성\\nLandSlope : 부동산의 경사\\nNeighborhood : 에임스 시 경계 내의 물리적인 위치\\nCondition1 : 주요 도로 및 철도와의 근접성\\nCondition2 : 주요 도로 및 철도와의 근접성 (두 개 이상 존재하는 경우)\\nBldgType : 주거 유형\\nHouseStyle : 주거 스타일\\nOverallQual : 전체적인 재료 및 마감 등급\\nOverallCond : 집의 전체적인 상태 등급\\nYearBuilt : 원래 공사일\\nYearRemodAdd : 리모델링 날짜 (리모델링 혹은 추가가 없었던 경우 공사일과 동일)\\nRoofStyle : 지붕 유형\\nRoofMatl : 지붕 재료\\nExterior 1st : 주택 외장재\\nExterior 2nd : 주택 외장재 (두 개 이상 존재하는 경우)\\nMasVnrType : 벽돌 베니어 유형\\nMasVnrArea : 벽돌 베니어 면적 (평방피트)\\nExterQual : 외장재 품질\\nExterCond : 외장재 현재 상태\\nFoundation : 토대 유형\\nBsmtQual : 지하의 높이 평가\\nBsmtCond : 지하실 일반적인 상태 평가\\nBsmtExposure : 워크아웃 혹은 정원 수준의 벽\\nBsmtFinType1 : 지하 마감면의 품질\\nBsmtSF1 : 유형 1 마감 평방피트\\nBsmtFinType2 : 지하 마감면의 품질 (있는 경우)\\nBsmtSF2 : 유형 2 마감 평방피트\\nBsmtUnfSF : 마감되지 않은 지하실 면적\\nTotalBsmtSF : 지하 총 평방피트\\nHeating : 난방 유형\\nHeatingQC : 난방 품질 및 상태\\nCentralAir : 중앙 에어컨 여부\\nElectrial : 전기 시스템\\n1stFlrSF : 1층 평방피트\\n2ndFlrSF : 2층 평방피트\\nLowQualFinSF : 저품질 마감 평방 피트 (모든 층)\\nGrLivArea : 지상 거실 면적 평방 피트\\nBsmtFullBath : 지하 전체 욕실\\nBsmtHalfBath : 지하 반 욕실\\nFullBath : 지하층 위의 전체 욕실\\nHalfBath : 지하층 위의 반 욕실\\nBedroom : 지하층 위의 침실 수 (지하 침실은 포함하지 않음)\\nKitchen : 지하층 위의 주방 수\\nKitchenQual : 주방 품질\\nTotRmsAbvGra : 지하층 위의 모든 방 (욕실 제외)\\nFunctional : 집 기능 (공제가 보장되지 않는 한 일반적인 경우 가정)\\nFirePlace : 벽난로 수\\nFireplaceQu : 벽난로 품질\\nGarageType : 차고 위치\\nGarageYrBlt : 차고 건설 연도\\nGarageFinish : 차고 내부 마감\\nGarageCars : 차량 수용 가능 차고 크기\\nGarageArea : 차고 평방피트\\nGarageQual : 차고 품질\\nGarageCond : 차고 상태\\nPavedDrive : 포장된 진입로\\nWoodDeckSF : 평방피트 단위의 목재 데크 면적\\nOpenPochSF : 평방피트 단위의 개방 현관 면적\\nEnclosedPorch : 평방피트 단위의 닫힌 현관 면적\\n3SnPorch : 평방 피트의 세 계절 현관 면적\\nScreenPorch : 평방피트 단위의 스크린 현관 면적\\nPoolArea : 평방피트 단위의 수영장 면적\\nPoolQC : 수영장 품질\\nFence : 울타리 품질\\nMiscFeature : 다른 항목에서 다루지 않는 기타 특징\\nMiscVal : 기타 특징의 가치\\nMoSold : 월 판매\\nYrSold : 연 판매\\nSaleType : 판매 유형\\nSaleCondition : 판매 상태\\n'"
            ]
          },
          "execution_count": 215,
          "metadata": {},
          "output_type": "execute_result"
        }
      ],
      "source": [
        "    \"\"\"\n",
        "    MSSubClass : 매매와 관련된 주거 타입 식별\n",
        "    MSZoning : 매매의 일반적인 지역 분류\n",
        "    LotFrontage : 부동산과 연결된 도로의 선형 피트\n",
        "    LotArea : 평방피트 단위의 부지 크기\n",
        "    Street : 부동산으로의 도로(street) 접근 유형\n",
        "    Alley : 부동산으로의 골목(alley) 접근 유형\n",
        "    LotShape : 부동산의 일반적인 모양\n",
        "    LandContour : 부동산의 평탄도\n",
        "    Utilities : 사용 가능한 유틸리티(수도전기가스) 유형\n",
        "    LotConfig : 지역 구성\n",
        "    LandSlope : 부동산의 경사\n",
        "    Neighborhood : 에임스 시 경계 내의 물리적인 위치\n",
        "    Condition1 : 주요 도로 및 철도와의 근접성\n",
        "    Condition2 : 주요 도로 및 철도와의 근접성 (두 개 이상 존재하는 경우)\n",
        "    BldgType : 주거 유형\n",
        "    HouseStyle : 주거 스타일\n",
        "    OverallQual : 전체적인 재료 및 마감 등급\n",
        "    OverallCond : 집의 전체적인 상태 등급\n",
        "    YearBuilt : 원래 공사일\n",
        "    YearRemodAdd : 리모델링 날짜 (리모델링 혹은 추가가 없었던 경우 공사일과 동일)\n",
        "    RoofStyle : 지붕 유형\n",
        "    RoofMatl : 지붕 재료\n",
        "    Exterior 1st : 주택 외장재\n",
        "    Exterior 2nd : 주택 외장재 (두 개 이상 존재하는 경우)\n",
        "    MasVnrType : 벽돌 베니어 유형\n",
        "    MasVnrArea : 벽돌 베니어 면적 (평방피트)\n",
        "    ExterQual : 외장재 품질\n",
        "    ExterCond : 외장재 현재 상태\n",
        "    Foundation : 토대 유형\n",
        "    BsmtQual : 지하의 높이 평가\n",
        "    BsmtCond : 지하실 일반적인 상태 평가\n",
        "    BsmtExposure : 워크아웃 혹은 정원 수준의 벽\n",
        "    BsmtFinType1 : 지하 마감면의 품질\n",
        "    BsmtSF1 : 유형 1 마감 평방피트\n",
        "    BsmtFinType2 : 지하 마감면의 품질 (있는 경우)\n",
        "    BsmtSF2 : 유형 2 마감 평방피트\n",
        "    BsmtUnfSF : 마감되지 않은 지하실 면적\n",
        "    TotalBsmtSF : 지하 총 평방피트\n",
        "    Heating : 난방 유형\n",
        "    HeatingQC : 난방 품질 및 상태\n",
        "    CentralAir : 중앙 에어컨 여부\n",
        "    Electrial : 전기 시스템\n",
        "    1stFlrSF : 1층 평방피트\n",
        "    2ndFlrSF : 2층 평방피트\n",
        "    LowQualFinSF : 저품질 마감 평방 피트 (모든 층)\n",
        "    GrLivArea : 지상 거실 면적 평방 피트\n",
        "    BsmtFullBath : 지하 전체 욕실\n",
        "    BsmtHalfBath : 지하 반 욕실\n",
        "    FullBath : 지하층 위의 전체 욕실\n",
        "    HalfBath : 지하층 위의 반 욕실\n",
        "    Bedroom : 지하층 위의 침실 수 (지하 침실은 포함하지 않음)\n",
        "    Kitchen : 지하층 위의 주방 수\n",
        "    KitchenQual : 주방 품질\n",
        "    TotRmsAbvGra : 지하층 위의 모든 방 (욕실 제외)\n",
        "    Functional : 집 기능 (공제가 보장되지 않는 한 일반적인 경우 가정)\n",
        "    FirePlace : 벽난로 수\n",
        "    FireplaceQu : 벽난로 품질\n",
        "    GarageType : 차고 위치\n",
        "    GarageYrBlt : 차고 건설 연도\n",
        "    GarageFinish : 차고 내부 마감\n",
        "    GarageCars : 차량 수용 가능 차고 크기\n",
        "    GarageArea : 차고 평방피트\n",
        "    GarageQual : 차고 품질\n",
        "    GarageCond : 차고 상태\n",
        "    PavedDrive : 포장된 진입로\n",
        "    WoodDeckSF : 평방피트 단위의 목재 데크 면적\n",
        "    OpenPochSF : 평방피트 단위의 개방 현관 면적\n",
        "    EnclosedPorch : 평방피트 단위의 닫힌 현관 면적\n",
        "    3SnPorch : 평방 피트의 세 계절 현관 면적\n",
        "    ScreenPorch : 평방피트 단위의 스크린 현관 면적\n",
        "    PoolArea : 평방피트 단위의 수영장 면적\n",
        "    PoolQC : 수영장 품질\n",
        "    Fence : 울타리 품질\n",
        "    MiscFeature : 다른 항목에서 다루지 않는 기타 특징\n",
        "    MiscVal : 기타 특징의 가치\n",
        "    MoSold : 월 판매\n",
        "    YrSold : 연 판매\n",
        "    SaleType : 판매 유형\n",
        "    SaleCondition : 판매 상태\n",
        "    \"\"\""
      ]
    },
    {
      "attachments": {},
      "cell_type": "markdown",
      "metadata": {
        "id": "wTnPoiK1ANDV"
      },
      "source": [
        "### 이상치 들에 대해서 확인!!!"
      ]
    },
    {
      "attachments": {},
      "cell_type": "markdown",
      "metadata": {
        "id": "2ezsxwWcANDV"
      },
      "source": [
        "* outlier에 대한 것들에 대한 확인 : 아래 경우에 대해서 확인을 하면, 오른쪽 아래 쪽에 이상하게 튀는 애들이 존재!!!"
      ]
    },
    {
      "cell_type": "code",
      "execution_count": 216,
      "metadata": {
        "colab": {
          "base_uri": "https://localhost:8080/",
          "height": 524
        },
        "id": "gzUEudmWANDV",
        "outputId": "80485ffd-c0b2-4cdc-c83a-a37abfde701c"
      },
      "outputs": [
        {
          "data": {
            "text/plain": [
              "<Figure size 640x480 with 0 Axes>"
            ]
          },
          "metadata": {},
          "output_type": "display_data"
        },
        {
          "data": {
            "image/png": "[encoded data removed]",
            "text/plain": [
              "<Figure size 500x500 with 1 Axes>"
            ]
          },
          "metadata": {},
          "output_type": "display_data"
        }
      ],
      "source": [
        "# 회귀분석을 할 때에는 우리의 관심사인 가격에 대해서 편차들을 체크!!!\n",
        "# ---> outlier 에 대한 고민/ 체크!!!!!!!\n",
        "# 참고) 대회에 따라서 아웃라이어에 대한 감점을 강하게 할 수 있고,\n",
        "#       약하게 할 수 있음!!\n",
        "plt.figure()\n",
        "otl = sns.lmplot(data=train_df, x=\"GrLivArea\", y=\"SalePrice\")"
      ]
    },
    {
      "attachments": {},
      "cell_type": "markdown",
      "metadata": {
        "id": "dpfk3vbYANDV"
      },
      "source": [
        "* 위에 대한 데이터를 보고, outlier를 처리하기 위한 조건 선택"
      ]
    },
    {
      "cell_type": "code",
      "execution_count": 217,
      "metadata": {
        "colab": {
          "base_uri": "https://localhost:8080/",
          "height": 268
        },
        "id": "NEEaVnPYANDV",
        "outputId": "ffb9f4e6-a4a1-4a59-9259-ab9fdc64395b"
      },
      "outputs": [
        {
          "data": {
            "text/html": [
              "<div>\n",
              "<style scoped>\n",
              "    .dataframe tbody tr th:only-of-type {\n",
              "        vertical-align: middle;\n",
              "    }\n",
              "\n",
              "    .dataframe tbody tr th {\n",
              "        vertical-align: top;\n",
              "    }\n",
              "\n",
              "    .dataframe thead th {\n",
              "        text-align: right;\n",
              "    }\n",
              "</style>\n",
              "<table border=\"1\" class=\"dataframe\">\n",
              "  <thead>\n",
              "    <tr style=\"text-align: right;\">\n",
              "      <th></th>\n",
              "      <th>Id</th>\n",
              "      <th>MSSubClass</th>\n",
              "      <th>MSZoning</th>\n",
              "      <th>LotFrontage</th>\n",
              "      <th>LotArea</th>\n",
              "      <th>Street</th>\n",
              "      <th>Alley</th>\n",
              "      <th>LotShape</th>\n",
              "      <th>LandContour</th>\n",
              "      <th>Utilities</th>\n",
              "      <th>...</th>\n",
              "      <th>PoolArea</th>\n",
              "      <th>PoolQC</th>\n",
              "      <th>Fence</th>\n",
              "      <th>MiscFeature</th>\n",
              "      <th>MiscVal</th>\n",
              "      <th>MoSold</th>\n",
              "      <th>YrSold</th>\n",
              "      <th>SaleType</th>\n",
              "      <th>SaleCondition</th>\n",
              "      <th>SalePrice</th>\n",
              "    </tr>\n",
              "  </thead>\n",
              "  <tbody>\n",
              "    <tr>\n",
              "      <th>523</th>\n",
              "      <td>524</td>\n",
              "      <td>60</td>\n",
              "      <td>RL</td>\n",
              "      <td>130.0</td>\n",
              "      <td>40094</td>\n",
              "      <td>Pave</td>\n",
              "      <td>NaN</td>\n",
              "      <td>IR1</td>\n",
              "      <td>Bnk</td>\n",
              "      <td>AllPub</td>\n",
              "      <td>...</td>\n",
              "      <td>0</td>\n",
              "      <td>NaN</td>\n",
              "      <td>NaN</td>\n",
              "      <td>NaN</td>\n",
              "      <td>0</td>\n",
              "      <td>10</td>\n",
              "      <td>2007</td>\n",
              "      <td>New</td>\n",
              "      <td>Partial</td>\n",
              "      <td>184750</td>\n",
              "    </tr>\n",
              "    <tr>\n",
              "      <th>691</th>\n",
              "      <td>692</td>\n",
              "      <td>60</td>\n",
              "      <td>RL</td>\n",
              "      <td>104.0</td>\n",
              "      <td>21535</td>\n",
              "      <td>Pave</td>\n",
              "      <td>NaN</td>\n",
              "      <td>IR1</td>\n",
              "      <td>Lvl</td>\n",
              "      <td>AllPub</td>\n",
              "      <td>...</td>\n",
              "      <td>0</td>\n",
              "      <td>NaN</td>\n",
              "      <td>NaN</td>\n",
              "      <td>NaN</td>\n",
              "      <td>0</td>\n",
              "      <td>1</td>\n",
              "      <td>2007</td>\n",
              "      <td>WD</td>\n",
              "      <td>Normal</td>\n",
              "      <td>755000</td>\n",
              "    </tr>\n",
              "    <tr>\n",
              "      <th>1182</th>\n",
              "      <td>1183</td>\n",
              "      <td>60</td>\n",
              "      <td>RL</td>\n",
              "      <td>160.0</td>\n",
              "      <td>15623</td>\n",
              "      <td>Pave</td>\n",
              "      <td>NaN</td>\n",
              "      <td>IR1</td>\n",
              "      <td>Lvl</td>\n",
              "      <td>AllPub</td>\n",
              "      <td>...</td>\n",
              "      <td>555</td>\n",
              "      <td>Ex</td>\n",
              "      <td>MnPrv</td>\n",
              "      <td>NaN</td>\n",
              "      <td>0</td>\n",
              "      <td>7</td>\n",
              "      <td>2007</td>\n",
              "      <td>WD</td>\n",
              "      <td>Abnorml</td>\n",
              "      <td>745000</td>\n",
              "    </tr>\n",
              "    <tr>\n",
              "      <th>1298</th>\n",
              "      <td>1299</td>\n",
              "      <td>60</td>\n",
              "      <td>RL</td>\n",
              "      <td>313.0</td>\n",
              "      <td>63887</td>\n",
              "      <td>Pave</td>\n",
              "      <td>NaN</td>\n",
              "      <td>IR3</td>\n",
              "      <td>Bnk</td>\n",
              "      <td>AllPub</td>\n",
              "      <td>...</td>\n",
              "      <td>480</td>\n",
              "      <td>Gd</td>\n",
              "      <td>NaN</td>\n",
              "      <td>NaN</td>\n",
              "      <td>0</td>\n",
              "      <td>1</td>\n",
              "      <td>2008</td>\n",
              "      <td>New</td>\n",
              "      <td>Partial</td>\n",
              "      <td>160000</td>\n",
              "    </tr>\n",
              "  </tbody>\n",
              "</table>\n",
              "<p>4 rows × 81 columns</p>\n",
              "</div>"
            ],
            "text/plain": [
              "        Id  MSSubClass MSZoning  LotFrontage  LotArea Street Alley LotShape  \\\n",
              "523    524          60       RL        130.0    40094   Pave   NaN      IR1   \n",
              "691    692          60       RL        104.0    21535   Pave   NaN      IR1   \n",
              "1182  1183          60       RL        160.0    15623   Pave   NaN      IR1   \n",
              "1298  1299          60       RL        313.0    63887   Pave   NaN      IR3   \n",
              "\n",
              "     LandContour Utilities  ... PoolArea PoolQC  Fence MiscFeature MiscVal  \\\n",
              "523          Bnk    AllPub  ...        0    NaN    NaN         NaN       0   \n",
              "691          Lvl    AllPub  ...        0    NaN    NaN         NaN       0   \n",
              "1182         Lvl    AllPub  ...      555     Ex  MnPrv         NaN       0   \n",
              "1298         Bnk    AllPub  ...      480     Gd    NaN         NaN       0   \n",
              "\n",
              "     MoSold YrSold  SaleType  SaleCondition  SalePrice  \n",
              "523      10   2007       New        Partial     184750  \n",
              "691       1   2007        WD         Normal     755000  \n",
              "1182      7   2007        WD        Abnorml     745000  \n",
              "1298      1   2008       New        Partial     160000  \n",
              "\n",
              "[4 rows x 81 columns]"
            ]
          },
          "execution_count": 217,
          "metadata": {},
          "output_type": "execute_result"
        }
      ],
      "source": [
        "# GrLivArea의 면적의 크기가 4000초과인 데이터만 보자!!!!!\n",
        "# train_df에서..\n",
        "train_df[train_df[\"GrLivArea\"]>4000]"
      ]
    },
    {
      "cell_type": "code",
      "execution_count": 218,
      "metadata": {
        "colab": {
          "base_uri": "https://localhost:8080/",
          "height": 175
        },
        "id": "0saSeUuFLjXP",
        "outputId": "cc87b4bb-e396-4c52-9f0e-45c9afb22739"
      },
      "outputs": [
        {
          "data": {
            "text/html": [
              "<div>\n",
              "<style scoped>\n",
              "    .dataframe tbody tr th:only-of-type {\n",
              "        vertical-align: middle;\n",
              "    }\n",
              "\n",
              "    .dataframe tbody tr th {\n",
              "        vertical-align: top;\n",
              "    }\n",
              "\n",
              "    .dataframe thead th {\n",
              "        text-align: right;\n",
              "    }\n",
              "</style>\n",
              "<table border=\"1\" class=\"dataframe\">\n",
              "  <thead>\n",
              "    <tr style=\"text-align: right;\">\n",
              "      <th></th>\n",
              "      <th>SalePrice</th>\n",
              "      <th>GrLivArea</th>\n",
              "    </tr>\n",
              "  </thead>\n",
              "  <tbody>\n",
              "    <tr>\n",
              "      <th>523</th>\n",
              "      <td>184750</td>\n",
              "      <td>4676</td>\n",
              "    </tr>\n",
              "    <tr>\n",
              "      <th>691</th>\n",
              "      <td>755000</td>\n",
              "      <td>4316</td>\n",
              "    </tr>\n",
              "    <tr>\n",
              "      <th>1182</th>\n",
              "      <td>745000</td>\n",
              "      <td>4476</td>\n",
              "    </tr>\n",
              "    <tr>\n",
              "      <th>1298</th>\n",
              "      <td>160000</td>\n",
              "      <td>5642</td>\n",
              "    </tr>\n",
              "  </tbody>\n",
              "</table>\n",
              "</div>"
            ],
            "text/plain": [
              "      SalePrice  GrLivArea\n",
              "523      184750       4676\n",
              "691      755000       4316\n",
              "1182     745000       4476\n",
              "1298     160000       5642"
            ]
          },
          "execution_count": 218,
          "metadata": {},
          "output_type": "execute_result"
        }
      ],
      "source": [
        "# loc를 이용을 해서 가로에서는 불리언 인덱싱으로 추리고,,\n",
        "# 세로에서는 볼 컬럼에 대해서 리스트업!!!!!\n",
        "train_df.loc[train_df[\"GrLivArea\"]>4000, [\"SalePrice\",\"GrLivArea\"]]"
      ]
    },
    {
      "cell_type": "code",
      "execution_count": 219,
      "metadata": {
        "colab": {
          "base_uri": "https://localhost:8080/"
        },
        "id": "F7w2huywMcG_",
        "outputId": "3244ee89-b1d2-489c-e5d2-f96b32a802d3"
      },
      "outputs": [
        {
          "data": {
            "text/plain": [
              "Int64Index([523, 691, 1182, 1298], dtype='int64')"
            ]
          },
          "execution_count": 219,
          "metadata": {},
          "output_type": "execute_result"
        }
      ],
      "source": [
        "train_df[train_df[\"GrLivArea\"]>4000].index"
      ]
    },
    {
      "cell_type": "code",
      "execution_count": 220,
      "metadata": {
        "id": "LdqsgBn3ANDW"
      },
      "outputs": [],
      "source": [
        "# 학습하는 과정에서 outlier가 포함이 되어 있으면,,,\n",
        "# test에서 결과가 잘 안나올 수 있어서... outlier를 제거를 하고 진행!!!\n",
        "# 특정한 데이터를 지울 때 : drop\n",
        "# + 특정한 조건 : 불리언 인덱싱\n",
        "train_df.drop( train_df[train_df[\"GrLivArea\"]>4000].index, inplace=True)"
      ]
    },
    {
      "cell_type": "code",
      "execution_count": 221,
      "metadata": {
        "colab": {
          "base_uri": "https://localhost:8080/",
          "height": 524
        },
        "id": "M2EFkuTPMaok",
        "outputId": "c202d107-a10e-418b-a76e-07dac9636dc2"
      },
      "outputs": [
        {
          "data": {
            "text/plain": [
              "<Figure size 640x480 with 0 Axes>"
            ]
          },
          "metadata": {},
          "output_type": "display_data"
        },
        {
          "data": {
            "image/png": "[encoded data removed]",
            "text/plain": [
              "<Figure size 500x500 with 1 Axes>"
            ]
          },
          "metadata": {},
          "output_type": "display_data"
        }
      ],
      "source": [
        "plt.figure()\n",
        "otl = sns.lmplot(data=train_df, x=\"GrLivArea\", y=\"SalePrice\")"
      ]
    },
    {
      "cell_type": "code",
      "execution_count": 222,
      "metadata": {
        "colab": {
          "base_uri": "https://localhost:8080/"
        },
        "id": "TKTj_oDTANDW",
        "outputId": "be0c5104-b8f4-4613-9305-fc25f24cab8d"
      },
      "outputs": [
        {
          "name": "stdout",
          "output_type": "stream",
          "text": [
            "(1456, 81)\n"
          ]
        }
      ],
      "source": [
        "# 기존의 1460개의 데이터 중에섯 outlier 4개를 제거를 함!!!!\n",
        "print(train_df.shape)\n",
        "# 참고) 대회의 평가 기준이 고가 주택을 잘 맞추면,,,가산점을 주겠다...\n",
        "#        outlier를 그냥 지우면 안 되고,,,어떻게 처리할지 고민을 해야함!!!"
      ]
    },
    {
      "attachments": {},
      "cell_type": "markdown",
      "metadata": {
        "id": "mTNl5quXANDW"
      },
      "source": [
        "* Target Value에 대한 것을 확인!"
      ]
    },
    {
      "cell_type": "code",
      "execution_count": 223,
      "metadata": {
        "colab": {
          "base_uri": "https://localhost:8080/",
          "height": 945
        },
        "id": "QNK8A6V4ANDX",
        "outputId": "ed706ab6-f7f8-44d5-f10a-ac70f1e6d021"
      },
      "outputs": [
        {
          "data": {
            "image/png": "[encoded data removed]",
            "text/plain": [
              "<Figure size 640x480 with 1 Axes>"
            ]
          },
          "metadata": {},
          "output_type": "display_data"
        },
        {
          "data": {
            "image/png": "[encoded data removed]",
            "text/plain": [
              "<Figure size 640x480 with 1 Axes>"
            ]
          },
          "metadata": {},
          "output_type": "display_data"
        },
        {
          "name": "stdout",
          "output_type": "stream",
          "text": [
            "Skewness: 1.566\n"
          ]
        }
      ],
      "source": [
        "# 아직 seaborn 에서 stats로 넘기는 부분에서 워닝 부분이 안 되어서 아직은 여기서 워닝에 대한 부분은 타나남.\n",
        "sns.histplot(train_df['SalePrice'])\n",
        "plt.title('SalePrice Distribution')\n",
        "plt.ylabel('Frequency')\n",
        "plt.figure()\n",
        "\n",
        "# stats에 바로 접근하는 부분에 있어서는 array로 명확하게 변환을 해서 넘기면 워닝은 없어짐!!!!\n",
        "qq = stats.probplot(np.array(train_df['SalePrice']), plot=plt)\n",
        "plt.show()\n",
        "print(\"Skewness: {:.3f}\".format(train_df['SalePrice'].skew()))\n",
        "\n"
      ]
    },
    {
      "attachments": {},
      "cell_type": "markdown",
      "metadata": {
        "id": "BLmRrKGBANDX"
      },
      "source": [
        "* 타겟에 대한 로그 변환 취하기 : 양수에 대해서 처리 하고자 하니 +1을 하고 로그를 취해서 0의 값에 대해서 발생할 수 있는 문제에 대한 것 방지!"
      ]
    },
    {
      "cell_type": "code",
      "execution_count": 224,
      "metadata": {
        "colab": {
          "base_uri": "https://localhost:8080/"
        },
        "id": "K6yR-0wFANDX",
        "outputId": "8bd96ccf-b55f-4472-92ec-28849d3c74e1"
      },
      "outputs": [
        {
          "data": {
            "text/plain": [
              "0       208500\n",
              "1       181500\n",
              "2       223500\n",
              "3       140000\n",
              "4       250000\n",
              "         ...  \n",
              "1455    175000\n",
              "1456    210000\n",
              "1457    266500\n",
              "1458    142125\n",
              "1459    147500\n",
              "Name: SalePrice, Length: 1456, dtype: int64"
            ]
          },
          "execution_count": 224,
          "metadata": {},
          "output_type": "execute_result"
        }
      ],
      "source": [
        "# log1p : log(1 + input) --> np.log1p(y) : log(y+1)\n",
        "# 회귀문제를 푸는 방식 중에서 종종 사용되는 기술적인 방법 중 하나...\n",
        "train_df[\"SalePrice\"]"
      ]
    },
    {
      "cell_type": "code",
      "execution_count": 225,
      "metadata": {
        "id": "o2Vau3WkvIT9"
      },
      "outputs": [],
      "source": [
        "# 참고) 로그 변환을 할 때의 장점\n",
        "# 1. 값의 변동 대역을 줄여서 오차를 좀 모델의 예측 변동 폭을 줄일 수 있음.\n",
        "# 2. 값의 분포를 한 쪽으로 치운친 것을 조금이라도 정규분포틱하게 풀 수 있음..\n",
        "# ---> 모델 자체가 일반적인 선형회귀모델들은 정규성을 가정!!!!!\n",
        "#      주어진 데이터도 이 가정에 최대한 부합할 수록 모델이 잘 될꺼에요..\n",
        "#      tree 이런 모델은 별로 상관이 없어요... lasso, ridge + xgb,rf \n",
        "# + 참고) 사용하는데 논란이 없는 경우도 있고, 가끔 논문에 따라서\n",
        "#         쓰면 그렇다고 하는 논문도 있음...---> 도메인 관련 논문을 참조...\n",
        "# ---> 값의 변화/변동 Transform 이라고 이야기를 하지, \n",
        "#      정규화라고 따로 이야기를 하지 않습니다!!!!"
      ]
    },
    {
      "cell_type": "code",
      "execution_count": 226,
      "metadata": {
        "colab": {
          "base_uri": "https://localhost:8080/"
        },
        "id": "_D10fhnYPdC8",
        "outputId": "66ddc603-e7a5-45bc-a577-054dd9eac040"
      },
      "outputs": [
        {
          "data": {
            "text/plain": [
              "0       12.247699\n",
              "1       12.109016\n",
              "2       12.317171\n",
              "3       11.849405\n",
              "4       12.429220\n",
              "          ...    \n",
              "1455    12.072547\n",
              "1456    12.254868\n",
              "1457    12.493133\n",
              "1458    11.864469\n",
              "1459    11.901590\n",
              "Name: SalePrice, Length: 1456, dtype: float64"
            ]
          },
          "execution_count": 226,
          "metadata": {},
          "output_type": "execute_result"
        }
      ],
      "source": [
        "np.log1p(train_df[\"SalePrice\"])"
      ]
    },
    {
      "cell_type": "code",
      "execution_count": 227,
      "metadata": {
        "id": "qdLiHIkyPq8-"
      },
      "outputs": [],
      "source": [
        "train_df[\"SalePrice\"] = np.log1p(train_df[\"SalePrice\"])"
      ]
    },
    {
      "attachments": {},
      "cell_type": "markdown",
      "metadata": {
        "id": "uxidAjgoANDX"
      },
      "source": [
        "* 로그를 취하면 그 결과가 치우친 부분들이 어떻게 되는지 확인"
      ]
    },
    {
      "cell_type": "code",
      "execution_count": 228,
      "metadata": {
        "colab": {
          "base_uri": "https://localhost:8080/",
          "height": 945
        },
        "id": "Aoabc9y6ANDY",
        "outputId": "915b66e7-9b69-49e1-8067-faae29698b96"
      },
      "outputs": [
        {
          "data": {
            "image/png": "[encoded data removed]",
            "text/plain": [
              "<Figure size 640x480 with 1 Axes>"
            ]
          },
          "metadata": {},
          "output_type": "display_data"
        },
        {
          "data": {
            "image/png": "[encoded data removed]",
            "text/plain": [
              "<Figure size 640x480 with 1 Axes>"
            ]
          },
          "metadata": {},
          "output_type": "display_data"
        },
        {
          "name": "stdout",
          "output_type": "stream",
          "text": [
            "Skewness: 0.065\n"
          ]
        }
      ],
      "source": [
        "sns.histplot(train_df['SalePrice'])\n",
        "plt.title('SalePrice Distribution')\n",
        "plt.ylabel('Frequency')\n",
        "\n",
        "plt.figure()\n",
        "qq = stats.probplot(np.array(train_df['SalePrice']), plot=plt)\n",
        "plt.show()\n",
        "\n",
        "print(\"Skewness: {:.3f}\".format(train_df['SalePrice'].skew()))"
      ]
    },
    {
      "attachments": {},
      "cell_type": "markdown",
      "metadata": {
        "id": "goKTS9UVANDY"
      },
      "source": [
        "* 보통은 전체 특성들에 대해서 다 상관계수나 pairplot을 그려보겠지만, 지금은 너무 데이터가 많이 있기에 하기가 힘들다. 그래서 상위 몇 개의 상관계수가 높은 것들에 대해서만 보고자 함!!!!      \n",
        "해석 : 그래서 보면 집가격에 영향을 미치는 상위 10개에 대해서 확인을 한 결과 퀄리티에 관련된 (OverallQual,FullBath, YearBuilt, YearRemodAdd)와 크기에 대한 (GrLivArea, GarageCars, GarageArea, TotalBsmtSF, 1stFlrSF) 부분들이 중요한 부분으로 차지하고 있음!!!"
      ]
    },
    {
      "cell_type": "code",
      "execution_count": 229,
      "metadata": {
        "colab": {
          "base_uri": "https://localhost:8080/",
          "height": 507
        },
        "id": "d7ZLaLltANDY",
        "outputId": "6fd63787-84d5-4041-df32-fbbf210277c5"
      },
      "outputs": [
        {
          "name": "stderr",
          "output_type": "stream",
          "text": [
            "C:\\Users\\NTX550\\AppData\\Local\\Temp\\ipykernel_15976\\2990391081.py:3: FutureWarning: The default value of numeric_only in DataFrame.corr is deprecated. In a future version, it will default to False. Select only valid columns or specify the value of numeric_only to silence this warning.\n",
            "  corr_train = train_df.corr()\n"
          ]
        },
        {
          "data": {
            "image/png": "[encoded data removed]",
            "text/plain": [
              "<Figure size 1500x500 with 2 Axes>"
            ]
          },
          "metadata": {},
          "output_type": "display_data"
        }
      ],
      "source": [
        "# ---> 좀 더 디테일하게 EDA를 할 때..기준이 상관계수...\n",
        "plt.figure(figsize=(15,5))\n",
        "corr_train = train_df.corr()\n",
        "\n",
        "\n",
        "num = 10 # 내가 볼 10개의 상관계수가 높은 컬럼의 수...\n",
        "col = corr_train.nlargest(num, 'SalePrice')['SalePrice'].index\n",
        "coeff = np.corrcoef(train_df[col].values.T)\n",
        "\n",
        "# heatmap\n",
        "heatmp = sns.heatmap(coeff, \n",
        "                     annot = True, \n",
        "                     xticklabels = col.values, yticklabels = col.values, \n",
        "                     linewidth=2,cmap='PiYG', linecolor='blue')"
      ]
    },
    {
      "cell_type": "code",
      "execution_count": 230,
      "metadata": {
        "id": "9DERo0NaANDZ",
        "outputId": "f9779efb-257f-4a6e-cd91-abfa85c6a018"
      },
      "outputs": [],
      "source": [
        "# pairplot의 경우는 모든 변수들의 2개의 조합으로 실제 데이터를 뿌리는 것이기에..\n",
        "# --> 전체 데이터를 그냥 다하면 nC2의 조합으로 늘어나서..메모리랙;;;\n",
        "# --> 유의해서 진행해야 하고, 생플링 같은 방식을 써야 함...\n",
        "# sns.pairplot(train_df[col], height=3)"
      ]
    },
    {
      "cell_type": "code",
      "execution_count": 231,
      "metadata": {
        "id": "KuHhacZORAaM"
      },
      "outputs": [],
      "source": [
        "#### ---> 기존의 EDA처럼 주어진 데이터들을 하나씩 EDA를 진행하셔야 합니다..\n",
        "####      여기서는 시간관계상 넘어가는 부분이 있음!!!!\n",
        "####      이 부분이 어떻게 하느냐가 모델의 성능을 좌우합니다!!!!!!\n",
        "####      + 회귀같은 경우에는 y값에 대해서 변환을 할 수 있음!!!"
      ]
    },
    {
      "cell_type": "code",
      "execution_count": 232,
      "metadata": {
        "id": "CGyb_8noRR7f"
      },
      "outputs": [],
      "source": [
        "# 참고) 이 밑의 코드들은....기계적으로 진행을 하는 부분이 있음!!!!!\n",
        "#       감안해서 보시면 됩니다!!!!!"
      ]
    },
    {
      "attachments": {},
      "cell_type": "markdown",
      "metadata": {
        "id": "FFVfzTbxANDZ"
      },
      "source": [
        "### 변수들 정리 : Feature / Target 분리"
      ]
    },
    {
      "attachments": {},
      "cell_type": "markdown",
      "metadata": {
        "id": "BKZfM0biANDZ"
      },
      "source": [
        "* 변수 분리 : 특징과 라벨에 대한 분리 작업 수행 ---> id라는 컬럼은 맨 앞에 있어서 0번으로 선택을 해서 지운 것이며, 학습할 특징에서는 제외를 하여야 하기에 drop을 이용해서 지우게 됨!!!  \n",
        "처음에는 81개의 컬럼이 있었는데, 의미없는 id 컬럼 제거 & 타겟에 대한 가격에 대한 것 제거를 ㅎ서 총 81개에서 2개를 제외한 79개로 수정이 됨!!!!"
      ]
    },
    {
      "cell_type": "code",
      "execution_count": 233,
      "metadata": {
        "id": "DjfDud09ANDZ"
      },
      "outputs": [],
      "source": [
        "# id의 값은 단순히 문제 번호인데,,,\n",
        "# 학습을 하는 과정에서는 의미가 없어서 제거를 해야하는 컬럼인데,,,,\n",
        "# 나중에 최종 정답지 제출을 위해서....남겨두겠습니다...\n",
        "train_id = train_df[\"Id\"] # <--- 잘라두었지만, 실질적인 활용 X\n",
        "test_id = test_df[\"Id\"]   # <--- 정답 제출할 때 문제 번호로 사용을 할 것!!!!\n",
        "# 이유는 정답지 제출 양식이 문제 번호, 예측 가격\n",
        "\n",
        "\n",
        "# 학습하거나,,,,문제를 풀때는 Id 컬럼의 전혀 의미가 없어서 제거!!!!\n",
        "train_df.drop(\"Id\", axis=1, inplace=True)\n",
        "test_df.drop(\"Id\", axis=1, inplace=True)\n",
        "# --> train/test 모두 동일하게 Id 컬럼 제거!!!"
      ]
    },
    {
      "cell_type": "code",
      "execution_count": 234,
      "metadata": {
        "colab": {
          "base_uri": "https://localhost:8080/"
        },
        "id": "ZZSClBDLSfQG",
        "outputId": "37fc9a7c-080c-43f0-96f9-40f873834746"
      },
      "outputs": [
        {
          "name": "stdout",
          "output_type": "stream",
          "text": [
            "(1456, 80)\n",
            "(1459, 79)\n"
          ]
        }
      ],
      "source": [
        "print(train_df.shape)\n",
        "print(test_df.shape)"
      ]
    },
    {
      "cell_type": "code",
      "execution_count": 235,
      "metadata": {
        "colab": {
          "base_uri": "https://localhost:8080/"
        },
        "id": "iI4q1l1XANDa",
        "outputId": "b25f7275-74b1-4184-cb1e-691be268ef69"
      },
      "outputs": [
        {
          "name": "stdout",
          "output_type": "stream",
          "text": [
            "dimension of the train: (1456, 79)\n",
            "dimension of the test: (1459, 79)\n"
          ]
        }
      ],
      "source": [
        "# train.csv에서 문제지하고 정답지를 분리!!!!!!\n",
        "y_df = train_df[\"SalePrice\"]\n",
        "train_df.drop(\"SalePrice\",axis=1, inplace=True)\n",
        "\n",
        "print('dimension of the train:' , train_df.shape)\n",
        "print('dimension of the test:' , test_df.shape)"
      ]
    },
    {
      "attachments": {},
      "cell_type": "markdown",
      "metadata": {
        "id": "id75OpsnANDa"
      },
      "source": [
        "### Feature Engineering"
      ]
    },
    {
      "cell_type": "code",
      "execution_count": 236,
      "metadata": {
        "colab": {
          "base_uri": "https://localhost:8080/"
        },
        "id": "i6FRbgtGTf0w",
        "outputId": "b708c29b-e90e-4da4-db9c-b1766971e2d5"
      },
      "outputs": [
        {
          "name": "stdout",
          "output_type": "stream",
          "text": [
            "<class 'pandas.core.frame.DataFrame'>\n",
            "Int64Index: 1456 entries, 0 to 1459\n",
            "Data columns (total 79 columns):\n",
            " #   Column         Non-Null Count  Dtype  \n",
            "---  ------         --------------  -----  \n",
            " 0   MSSubClass     1456 non-null   int64  \n",
            " 1   MSZoning       1456 non-null   object \n",
            " 2   LotFrontage    1197 non-null   float64\n",
            " 3   LotArea        1456 non-null   int64  \n",
            " 4   Street         1456 non-null   object \n",
            " 5   Alley          91 non-null     object \n",
            " 6   LotShape       1456 non-null   object \n",
            " 7   LandContour    1456 non-null   object \n",
            " 8   Utilities      1456 non-null   object \n",
            " 9   LotConfig      1456 non-null   object \n",
            " 10  LandSlope      1456 non-null   object \n",
            " 11  Neighborhood   1456 non-null   object \n",
            " 12  Condition1     1456 non-null   object \n",
            " 13  Condition2     1456 non-null   object \n",
            " 14  BldgType       1456 non-null   object \n",
            " 15  HouseStyle     1456 non-null   object \n",
            " 16  OverallQual    1456 non-null   int64  \n",
            " 17  OverallCond    1456 non-null   int64  \n",
            " 18  YearBuilt      1456 non-null   int64  \n",
            " 19  YearRemodAdd   1456 non-null   int64  \n",
            " 20  RoofStyle      1456 non-null   object \n",
            " 21  RoofMatl       1456 non-null   object \n",
            " 22  Exterior1st    1456 non-null   object \n",
            " 23  Exterior2nd    1456 non-null   object \n",
            " 24  MasVnrType     1448 non-null   object \n",
            " 25  MasVnrArea     1448 non-null   float64\n",
            " 26  ExterQual      1456 non-null   object \n",
            " 27  ExterCond      1456 non-null   object \n",
            " 28  Foundation     1456 non-null   object \n",
            " 29  BsmtQual       1419 non-null   object \n",
            " 30  BsmtCond       1419 non-null   object \n",
            " 31  BsmtExposure   1418 non-null   object \n",
            " 32  BsmtFinType1   1419 non-null   object \n",
            " 33  BsmtFinSF1     1456 non-null   int64  \n",
            " 34  BsmtFinType2   1418 non-null   object \n",
            " 35  BsmtFinSF2     1456 non-null   int64  \n",
            " 36  BsmtUnfSF      1456 non-null   int64  \n",
            " 37  TotalBsmtSF    1456 non-null   int64  \n",
            " 38  Heating        1456 non-null   object \n",
            " 39  HeatingQC      1456 non-null   object \n",
            " 40  CentralAir     1456 non-null   object \n",
            " 41  Electrical     1455 non-null   object \n",
            " 42  1stFlrSF       1456 non-null   int64  \n",
            " 43  2ndFlrSF       1456 non-null   int64  \n",
            " 44  LowQualFinSF   1456 non-null   int64  \n",
            " 45  GrLivArea      1456 non-null   int64  \n",
            " 46  BsmtFullBath   1456 non-null   int64  \n",
            " 47  BsmtHalfBath   1456 non-null   int64  \n",
            " 48  FullBath       1456 non-null   int64  \n",
            " 49  HalfBath       1456 non-null   int64  \n",
            " 50  BedroomAbvGr   1456 non-null   int64  \n",
            " 51  KitchenAbvGr   1456 non-null   int64  \n",
            " 52  KitchenQual    1456 non-null   object \n",
            " 53  TotRmsAbvGrd   1456 non-null   int64  \n",
            " 54  Functional     1456 non-null   object \n",
            " 55  Fireplaces     1456 non-null   int64  \n",
            " 56  FireplaceQu    766 non-null    object \n",
            " 57  GarageType     1375 non-null   object \n",
            " 58  GarageYrBlt    1375 non-null   float64\n",
            " 59  GarageFinish   1375 non-null   object \n",
            " 60  GarageCars     1456 non-null   int64  \n",
            " 61  GarageArea     1456 non-null   int64  \n",
            " 62  GarageQual     1375 non-null   object \n",
            " 63  GarageCond     1375 non-null   object \n",
            " 64  PavedDrive     1456 non-null   object \n",
            " 65  WoodDeckSF     1456 non-null   int64  \n",
            " 66  OpenPorchSF    1456 non-null   int64  \n",
            " 67  EnclosedPorch  1456 non-null   int64  \n",
            " 68  3SsnPorch      1456 non-null   int64  \n",
            " 69  ScreenPorch    1456 non-null   int64  \n",
            " 70  PoolArea       1456 non-null   int64  \n",
            " 71  PoolQC         5 non-null      object \n",
            " 72  Fence          280 non-null    object \n",
            " 73  MiscFeature    54 non-null     object \n",
            " 74  MiscVal        1456 non-null   int64  \n",
            " 75  MoSold         1456 non-null   int64  \n",
            " 76  YrSold         1456 non-null   int64  \n",
            " 77  SaleType       1456 non-null   object \n",
            " 78  SaleCondition  1456 non-null   object \n",
            "dtypes: float64(3), int64(33), object(43)\n",
            "memory usage: 910.0+ KB\n"
          ]
        }
      ],
      "source": [
        "train_df.info()"
      ]
    },
    {
      "attachments": {},
      "cell_type": "markdown",
      "metadata": {
        "id": "IM7_Ufy0ANDa"
      },
      "source": [
        "#### Missing Data 처리를 위한 확인!"
      ]
    },
    {
      "cell_type": "code",
      "execution_count": 237,
      "metadata": {
        "colab": {
          "base_uri": "https://localhost:8080/"
        },
        "id": "2wNXIEVFT3qy",
        "outputId": "024b45f4-bad9-46a9-cc10-70ce3b63e567"
      },
      "outputs": [
        {
          "data": {
            "text/plain": [
              "MSSubClass         0\n",
              "MSZoning           0\n",
              "LotFrontage      259\n",
              "LotArea            0\n",
              "Street             0\n",
              "                ... \n",
              "MiscVal            0\n",
              "MoSold             0\n",
              "YrSold             0\n",
              "SaleType           0\n",
              "SaleCondition      0\n",
              "Length: 79, dtype: int64"
            ]
          },
          "execution_count": 237,
          "metadata": {},
          "output_type": "execute_result"
        }
      ],
      "source": [
        "train_df.isnull().sum()"
      ]
    },
    {
      "cell_type": "code",
      "execution_count": 238,
      "metadata": {
        "colab": {
          "base_uri": "https://localhost:8080/",
          "height": 645
        },
        "id": "Ixl-qO0nANDb",
        "outputId": "0057d800-d445-410b-8c39-cdce16196f65"
      },
      "outputs": [
        {
          "data": {
            "text/html": [
              "<div>\n",
              "<style scoped>\n",
              "    .dataframe tbody tr th:only-of-type {\n",
              "        vertical-align: middle;\n",
              "    }\n",
              "\n",
              "    .dataframe tbody tr th {\n",
              "        vertical-align: top;\n",
              "    }\n",
              "\n",
              "    .dataframe thead th {\n",
              "        text-align: right;\n",
              "    }\n",
              "</style>\n",
              "<table border=\"1\" class=\"dataframe\">\n",
              "  <thead>\n",
              "    <tr style=\"text-align: right;\">\n",
              "      <th></th>\n",
              "      <th>MissingCount</th>\n",
              "      <th>Missing%</th>\n",
              "    </tr>\n",
              "  </thead>\n",
              "  <tbody>\n",
              "    <tr>\n",
              "      <th>PoolQC</th>\n",
              "      <td>1451</td>\n",
              "      <td>99.656593</td>\n",
              "    </tr>\n",
              "    <tr>\n",
              "      <th>MiscFeature</th>\n",
              "      <td>1402</td>\n",
              "      <td>96.291209</td>\n",
              "    </tr>\n",
              "    <tr>\n",
              "      <th>Alley</th>\n",
              "      <td>1365</td>\n",
              "      <td>93.750000</td>\n",
              "    </tr>\n",
              "    <tr>\n",
              "      <th>Fence</th>\n",
              "      <td>1176</td>\n",
              "      <td>80.769231</td>\n",
              "    </tr>\n",
              "    <tr>\n",
              "      <th>FireplaceQu</th>\n",
              "      <td>690</td>\n",
              "      <td>47.390110</td>\n",
              "    </tr>\n",
              "    <tr>\n",
              "      <th>LotFrontage</th>\n",
              "      <td>259</td>\n",
              "      <td>17.788462</td>\n",
              "    </tr>\n",
              "    <tr>\n",
              "      <th>GarageType</th>\n",
              "      <td>81</td>\n",
              "      <td>5.563187</td>\n",
              "    </tr>\n",
              "    <tr>\n",
              "      <th>GarageYrBlt</th>\n",
              "      <td>81</td>\n",
              "      <td>5.563187</td>\n",
              "    </tr>\n",
              "    <tr>\n",
              "      <th>GarageFinish</th>\n",
              "      <td>81</td>\n",
              "      <td>5.563187</td>\n",
              "    </tr>\n",
              "    <tr>\n",
              "      <th>GarageQual</th>\n",
              "      <td>81</td>\n",
              "      <td>5.563187</td>\n",
              "    </tr>\n",
              "    <tr>\n",
              "      <th>GarageCond</th>\n",
              "      <td>81</td>\n",
              "      <td>5.563187</td>\n",
              "    </tr>\n",
              "    <tr>\n",
              "      <th>BsmtExposure</th>\n",
              "      <td>38</td>\n",
              "      <td>2.609890</td>\n",
              "    </tr>\n",
              "    <tr>\n",
              "      <th>BsmtFinType2</th>\n",
              "      <td>38</td>\n",
              "      <td>2.609890</td>\n",
              "    </tr>\n",
              "    <tr>\n",
              "      <th>BsmtFinType1</th>\n",
              "      <td>37</td>\n",
              "      <td>2.541209</td>\n",
              "    </tr>\n",
              "    <tr>\n",
              "      <th>BsmtCond</th>\n",
              "      <td>37</td>\n",
              "      <td>2.541209</td>\n",
              "    </tr>\n",
              "    <tr>\n",
              "      <th>BsmtQual</th>\n",
              "      <td>37</td>\n",
              "      <td>2.541209</td>\n",
              "    </tr>\n",
              "    <tr>\n",
              "      <th>MasVnrArea</th>\n",
              "      <td>8</td>\n",
              "      <td>0.549451</td>\n",
              "    </tr>\n",
              "    <tr>\n",
              "      <th>MasVnrType</th>\n",
              "      <td>8</td>\n",
              "      <td>0.549451</td>\n",
              "    </tr>\n",
              "    <tr>\n",
              "      <th>Electrical</th>\n",
              "      <td>1</td>\n",
              "      <td>0.068681</td>\n",
              "    </tr>\n",
              "  </tbody>\n",
              "</table>\n",
              "</div>"
            ],
            "text/plain": [
              "              MissingCount   Missing%\n",
              "PoolQC                1451  99.656593\n",
              "MiscFeature           1402  96.291209\n",
              "Alley                 1365  93.750000\n",
              "Fence                 1176  80.769231\n",
              "FireplaceQu            690  47.390110\n",
              "LotFrontage            259  17.788462\n",
              "GarageType              81   5.563187\n",
              "GarageYrBlt             81   5.563187\n",
              "GarageFinish            81   5.563187\n",
              "GarageQual              81   5.563187\n",
              "GarageCond              81   5.563187\n",
              "BsmtExposure            38   2.609890\n",
              "BsmtFinType2            38   2.609890\n",
              "BsmtFinType1            37   2.541209\n",
              "BsmtCond                37   2.541209\n",
              "BsmtQual                37   2.541209\n",
              "MasVnrArea               8   0.549451\n",
              "MasVnrType               8   0.549451\n",
              "Electrical               1   0.068681"
            ]
          },
          "execution_count": 238,
          "metadata": {},
          "output_type": "execute_result"
        }
      ],
      "source": [
        "# Train  데이터에서 누락된 데이터의 비율을 체크를 하려고 함...\n",
        "train_ms = pd.DataFrame(train_df.isnull().sum(),columns=[\"MissingCount\"])\n",
        "# 1개이상 누락된 데이터들을 대상으로 하겠다.. 필터링\n",
        "train_ms = train_ms[ train_ms[\"MissingCount\"]>0]\n",
        "# 지금은 컬럼별로 누락된 데이터 수 + 누락비율까지 컬럼에 추가해서..\n",
        "train_ms[\"Missing%\"] = train_ms[\"MissingCount\"] / len(train_df) * 100\n",
        "# 누락된 비율이 큰 순서대로 내림차순으로..sort_values\n",
        "train_ms.sort_values( by=\"Missing%\", ascending=False)"
      ]
    },
    {
      "cell_type": "code",
      "execution_count": 239,
      "metadata": {
        "colab": {
          "base_uri": "https://localhost:8080/",
          "height": 1000
        },
        "id": "NAoh8oa0VL_d",
        "outputId": "42f4b95b-6612-4dd1-dc8b-10ba5bbb9505"
      },
      "outputs": [
        {
          "data": {
            "text/html": [
              "<div>\n",
              "<style scoped>\n",
              "    .dataframe tbody tr th:only-of-type {\n",
              "        vertical-align: middle;\n",
              "    }\n",
              "\n",
              "    .dataframe tbody tr th {\n",
              "        vertical-align: top;\n",
              "    }\n",
              "\n",
              "    .dataframe thead th {\n",
              "        text-align: right;\n",
              "    }\n",
              "</style>\n",
              "<table border=\"1\" class=\"dataframe\">\n",
              "  <thead>\n",
              "    <tr style=\"text-align: right;\">\n",
              "      <th></th>\n",
              "      <th>MissingCount</th>\n",
              "      <th>Missing%</th>\n",
              "    </tr>\n",
              "  </thead>\n",
              "  <tbody>\n",
              "    <tr>\n",
              "      <th>PoolQC</th>\n",
              "      <td>1456</td>\n",
              "      <td>4412.121212</td>\n",
              "    </tr>\n",
              "    <tr>\n",
              "      <th>MiscFeature</th>\n",
              "      <td>1408</td>\n",
              "      <td>4266.666667</td>\n",
              "    </tr>\n",
              "    <tr>\n",
              "      <th>Alley</th>\n",
              "      <td>1352</td>\n",
              "      <td>4096.969697</td>\n",
              "    </tr>\n",
              "    <tr>\n",
              "      <th>Fence</th>\n",
              "      <td>1169</td>\n",
              "      <td>3542.424242</td>\n",
              "    </tr>\n",
              "    <tr>\n",
              "      <th>FireplaceQu</th>\n",
              "      <td>730</td>\n",
              "      <td>2212.121212</td>\n",
              "    </tr>\n",
              "    <tr>\n",
              "      <th>LotFrontage</th>\n",
              "      <td>227</td>\n",
              "      <td>687.878788</td>\n",
              "    </tr>\n",
              "    <tr>\n",
              "      <th>GarageCond</th>\n",
              "      <td>78</td>\n",
              "      <td>236.363636</td>\n",
              "    </tr>\n",
              "    <tr>\n",
              "      <th>GarageYrBlt</th>\n",
              "      <td>78</td>\n",
              "      <td>236.363636</td>\n",
              "    </tr>\n",
              "    <tr>\n",
              "      <th>GarageQual</th>\n",
              "      <td>78</td>\n",
              "      <td>236.363636</td>\n",
              "    </tr>\n",
              "    <tr>\n",
              "      <th>GarageFinish</th>\n",
              "      <td>78</td>\n",
              "      <td>236.363636</td>\n",
              "    </tr>\n",
              "    <tr>\n",
              "      <th>GarageType</th>\n",
              "      <td>76</td>\n",
              "      <td>230.303030</td>\n",
              "    </tr>\n",
              "    <tr>\n",
              "      <th>BsmtCond</th>\n",
              "      <td>45</td>\n",
              "      <td>136.363636</td>\n",
              "    </tr>\n",
              "    <tr>\n",
              "      <th>BsmtExposure</th>\n",
              "      <td>44</td>\n",
              "      <td>133.333333</td>\n",
              "    </tr>\n",
              "    <tr>\n",
              "      <th>BsmtQual</th>\n",
              "      <td>44</td>\n",
              "      <td>133.333333</td>\n",
              "    </tr>\n",
              "    <tr>\n",
              "      <th>BsmtFinType1</th>\n",
              "      <td>42</td>\n",
              "      <td>127.272727</td>\n",
              "    </tr>\n",
              "    <tr>\n",
              "      <th>BsmtFinType2</th>\n",
              "      <td>42</td>\n",
              "      <td>127.272727</td>\n",
              "    </tr>\n",
              "    <tr>\n",
              "      <th>MasVnrType</th>\n",
              "      <td>16</td>\n",
              "      <td>48.484848</td>\n",
              "    </tr>\n",
              "    <tr>\n",
              "      <th>MasVnrArea</th>\n",
              "      <td>15</td>\n",
              "      <td>45.454545</td>\n",
              "    </tr>\n",
              "    <tr>\n",
              "      <th>MSZoning</th>\n",
              "      <td>4</td>\n",
              "      <td>12.121212</td>\n",
              "    </tr>\n",
              "    <tr>\n",
              "      <th>BsmtFullBath</th>\n",
              "      <td>2</td>\n",
              "      <td>6.060606</td>\n",
              "    </tr>\n",
              "    <tr>\n",
              "      <th>BsmtHalfBath</th>\n",
              "      <td>2</td>\n",
              "      <td>6.060606</td>\n",
              "    </tr>\n",
              "    <tr>\n",
              "      <th>Functional</th>\n",
              "      <td>2</td>\n",
              "      <td>6.060606</td>\n",
              "    </tr>\n",
              "    <tr>\n",
              "      <th>Utilities</th>\n",
              "      <td>2</td>\n",
              "      <td>6.060606</td>\n",
              "    </tr>\n",
              "    <tr>\n",
              "      <th>GarageCars</th>\n",
              "      <td>1</td>\n",
              "      <td>3.030303</td>\n",
              "    </tr>\n",
              "    <tr>\n",
              "      <th>GarageArea</th>\n",
              "      <td>1</td>\n",
              "      <td>3.030303</td>\n",
              "    </tr>\n",
              "    <tr>\n",
              "      <th>TotalBsmtSF</th>\n",
              "      <td>1</td>\n",
              "      <td>3.030303</td>\n",
              "    </tr>\n",
              "    <tr>\n",
              "      <th>KitchenQual</th>\n",
              "      <td>1</td>\n",
              "      <td>3.030303</td>\n",
              "    </tr>\n",
              "    <tr>\n",
              "      <th>BsmtUnfSF</th>\n",
              "      <td>1</td>\n",
              "      <td>3.030303</td>\n",
              "    </tr>\n",
              "    <tr>\n",
              "      <th>BsmtFinSF2</th>\n",
              "      <td>1</td>\n",
              "      <td>3.030303</td>\n",
              "    </tr>\n",
              "    <tr>\n",
              "      <th>BsmtFinSF1</th>\n",
              "      <td>1</td>\n",
              "      <td>3.030303</td>\n",
              "    </tr>\n",
              "    <tr>\n",
              "      <th>Exterior2nd</th>\n",
              "      <td>1</td>\n",
              "      <td>3.030303</td>\n",
              "    </tr>\n",
              "    <tr>\n",
              "      <th>Exterior1st</th>\n",
              "      <td>1</td>\n",
              "      <td>3.030303</td>\n",
              "    </tr>\n",
              "    <tr>\n",
              "      <th>SaleType</th>\n",
              "      <td>1</td>\n",
              "      <td>3.030303</td>\n",
              "    </tr>\n",
              "  </tbody>\n",
              "</table>\n",
              "</div>"
            ],
            "text/plain": [
              "              MissingCount     Missing%\n",
              "PoolQC                1456  4412.121212\n",
              "MiscFeature           1408  4266.666667\n",
              "Alley                 1352  4096.969697\n",
              "Fence                 1169  3542.424242\n",
              "FireplaceQu            730  2212.121212\n",
              "LotFrontage            227   687.878788\n",
              "GarageCond              78   236.363636\n",
              "GarageYrBlt             78   236.363636\n",
              "GarageQual              78   236.363636\n",
              "GarageFinish            78   236.363636\n",
              "GarageType              76   230.303030\n",
              "BsmtCond                45   136.363636\n",
              "BsmtExposure            44   133.333333\n",
              "BsmtQual                44   133.333333\n",
              "BsmtFinType1            42   127.272727\n",
              "BsmtFinType2            42   127.272727\n",
              "MasVnrType              16    48.484848\n",
              "MasVnrArea              15    45.454545\n",
              "MSZoning                 4    12.121212\n",
              "BsmtFullBath             2     6.060606\n",
              "BsmtHalfBath             2     6.060606\n",
              "Functional               2     6.060606\n",
              "Utilities                2     6.060606\n",
              "GarageCars               1     3.030303\n",
              "GarageArea               1     3.030303\n",
              "TotalBsmtSF              1     3.030303\n",
              "KitchenQual              1     3.030303\n",
              "BsmtUnfSF                1     3.030303\n",
              "BsmtFinSF2               1     3.030303\n",
              "BsmtFinSF1               1     3.030303\n",
              "Exterior2nd              1     3.030303\n",
              "Exterior1st              1     3.030303\n",
              "SaleType                 1     3.030303"
            ]
          },
          "execution_count": 239,
          "metadata": {},
          "output_type": "execute_result"
        }
      ],
      "source": [
        "# Test에서 체크...\n",
        "# Test  데이터에서 누락된 데이터의 비율을 체크를 하려고 함...\n",
        "test_ms = pd.DataFrame(test_df.isnull().sum(),columns=[\"MissingCount\"])\n",
        "# 1개이상 누락된 데이터들을 대상으로 하겠다.. 필터링\n",
        "test_ms = test_ms[ test_ms[\"MissingCount\"]>0]\n",
        "# 지금은 컬럼별로 누락된 데이터 수 + 누락비율까지 컬럼에 추가해서..\n",
        "test_ms[\"Missing%\"] = test_ms[\"MissingCount\"] / len(test_ms) * 100\n",
        "# 누락된 비율이 큰 순서대로 내림차순으로..sort_values\n",
        "test_ms.sort_values( by=\"Missing%\", ascending=False)"
      ]
    },
    {
      "attachments": {},
      "cell_type": "markdown",
      "metadata": {
        "id": "sthq9uP4ANDb"
      },
      "source": [
        "#### 빈 값들에 대해서 채우는 것 : None으로 처리할 것과 0으로 처리할 것으로 구분을 함!!! 아니면 중간값이나 이런 부분으로 채우고 싶으면 Imputer등에 대한 것들을 활용하면 됨!!!"
      ]
    },
    {
      "cell_type": "code",
      "execution_count": 240,
      "metadata": {
        "id": "5ldZLG-YViJj"
      },
      "outputs": [],
      "source": [
        "# 중요한 사항 #\n",
        "# ---> train에서 변형을 하면,,,, 똑같은 기준으로 test에서 처릴르 해야함!!!!!3\n",
        "# 다만) 기준은 어디서 가지고 와야 하나면 : Only Train 데이터에서!!!!\n",
        "# 중요) train 에서 변경에 대한 룰을 잡고!!! \n",
        "#        ---> 그 룰을 train/test 동일 적용!!!"
      ]
    },
    {
      "attachments": {},
      "cell_type": "markdown",
      "metadata": {
        "id": "jvJo2cA6ANDb"
      },
      "source": [
        "##### 여기서는 None으로 채우고 싶음!!"
      ]
    },
    {
      "cell_type": "code",
      "execution_count": 241,
      "metadata": {
        "id": "xvcXNmmoANDb"
      },
      "outputs": [],
      "source": [
        "# 79개의 컬럼 주엥서 빵구난 값을 None 값으로 채울 컬럼들을 리스트업을 한 것!!!\n",
        "nones = ['PoolQC', 'MiscFeature', 'Alley','Fence', 'FireplaceQu', 'GarageType','GarageFinish',\n",
        "        'GarageQual','GarageCond','BsmtQual','BsmtCond','BsmtExposure','BsmtFinType1','BsmtFinType2',\n",
        "        'MasVnrType']\n",
        "for col in nones:\n",
        "    train_df[col].fillna(\"None\", inplace=True)\n",
        "    test_df[col].fillna(\"None\", inplace=True)\n",
        "# ---> 마치 test는 안 보고,,혹시 누락이 이 컬럼에서 있다면,,None으로 채우겠다..\n",
        "# 마치 train만 보고 처리할 규칙을 설정한 대로 코드를 작성해야 함!!!!!!"
      ]
    },
    {
      "attachments": {},
      "cell_type": "markdown",
      "metadata": {
        "id": "2CT2aJAyANDb"
      },
      "source": [
        "##### 여기서는 0으로 채우고 싶음"
      ]
    },
    {
      "cell_type": "code",
      "execution_count": 242,
      "metadata": {
        "id": "yrC1LuWSANDb"
      },
      "outputs": [],
      "source": [
        "# 수치형 컬럼들에서는 값이 없다면,,,0으로 채우겠다!!!\n",
        "zeros = ['GarageYrBlt','GarageArea','GarageCars','BsmtFinSF1','BsmtFinSF2','BsmtUnfSF','TotalBsmtSF',\n",
        "         'BsmtFullBath','BsmtHalfBath','MasVnrArea']\n",
        "\n",
        "for col in zeros:\n",
        "    train_df[col].fillna(0, inplace=True)\n",
        "    test_df[col].fillna(0, inplace=True)"
      ]
    },
    {
      "attachments": {},
      "cell_type": "markdown",
      "metadata": {
        "id": "6bOdqTPcANDb"
      },
      "source": [
        "##### Utilities 컬럼은 너무 많이 하나의 데이터로 되어 있어서, 특징으로 사용이 불가능 할 것임!! 그래서 제거하기로 함!"
      ]
    },
    {
      "cell_type": "code",
      "execution_count": 243,
      "metadata": {
        "colab": {
          "base_uri": "https://localhost:8080/"
        },
        "id": "g910cvIvANDj",
        "outputId": "c09bc1e1-308e-4d3f-c49c-59a8068225f9"
      },
      "outputs": [
        {
          "data": {
            "text/plain": [
              "AllPub    1455\n",
              "NoSeWa       1\n",
              "Name: Utilities, dtype: int64"
            ]
          },
          "execution_count": 243,
          "metadata": {},
          "output_type": "execute_result"
        }
      ],
      "source": [
        "# train에서는 누락이 없는 컬럼이지만, test에서는 누락이 있는 컬럼..\n",
        "train_df[\"Utilities\"].value_counts()"
      ]
    },
    {
      "cell_type": "code",
      "execution_count": 244,
      "metadata": {
        "colab": {
          "base_uri": "https://localhost:8080/"
        },
        "id": "bwjAepe_XQ3O",
        "outputId": "e8971232-dc6d-42b2-9677-56d90b6a4715"
      },
      "outputs": [
        {
          "data": {
            "text/plain": [
              "AllPub    1457\n",
              "Name: Utilities, dtype: int64"
            ]
          },
          "execution_count": 244,
          "metadata": {},
          "output_type": "execute_result"
        }
      ],
      "source": [
        "test_df[\"Utilities\"].value_counts()"
      ]
    },
    {
      "cell_type": "code",
      "execution_count": 245,
      "metadata": {
        "id": "kxT1HxYsXRLJ"
      },
      "outputs": [],
      "source": [
        "# ---> 이 컬럼은 가격을 영향을 미치지 못하는 컬럼이기에...\n",
        "#      제거를 해야할 것임!!!!(train에 대해서 eda를 하다보니...)\n",
        "# ---> Utilities 컬럼은 제거... train/test 모두 같이 제거!!!!\n",
        "train_df.drop( \"Utilities\", axis = 1, inplace=True)\n",
        "test_df.drop( \"Utilities\", axis = 1, inplace=True)"
      ]
    },
    {
      "cell_type": "code",
      "execution_count": 246,
      "metadata": {
        "colab": {
          "base_uri": "https://localhost:8080/"
        },
        "id": "-7q1-DdXX2pB",
        "outputId": "5790cc8b-7152-4b65-dd9b-f48c14cee476"
      },
      "outputs": [
        {
          "name": "stdout",
          "output_type": "stream",
          "text": [
            "(1456, 78)\n",
            "(1459, 78)\n"
          ]
        }
      ],
      "source": [
        "print(train_df.shape)\n",
        "print(test_df.shape)"
      ]
    },
    {
      "attachments": {},
      "cell_type": "markdown",
      "metadata": {
        "id": "dLoxJMHFANDj"
      },
      "source": [
        "##### 아래의 컬럼들은 위의 Utilites와는 달리 너무까지는 아니지만, 빠진 것들도 존재를 하고, 많은 항목들도 있고, 치우친 것들이 있어서, 제일 많이 나타나는 항목으로 채우고자 함!!!!"
      ]
    },
    {
      "cell_type": "code",
      "execution_count": 247,
      "metadata": {
        "colab": {
          "base_uri": "https://localhost:8080/"
        },
        "id": "lQwuCqyrANDj",
        "outputId": "f585cdcc-9ff4-465a-ffa2-2b30b829ca44"
      },
      "outputs": [
        {
          "data": {
            "text/plain": [
              "RL         1147\n",
              "RM          218\n",
              "FV           65\n",
              "RH           16\n",
              "C (all)      10\n",
              "Name: MSZoning, dtype: int64"
            ]
          },
          "execution_count": 247,
          "metadata": {},
          "output_type": "execute_result"
        }
      ],
      "source": [
        "train_df[\"MSZoning\"].value_counts()"
      ]
    },
    {
      "cell_type": "code",
      "execution_count": 248,
      "metadata": {
        "colab": {
          "base_uri": "https://localhost:8080/"
        },
        "id": "2P6LopgnYPpB",
        "outputId": "0e416b8a-aecd-44c7-9d6f-aa045b0558ff"
      },
      "outputs": [
        {
          "data": {
            "text/plain": [
              "RL         1114\n",
              "RM          242\n",
              "FV           74\n",
              "C (all)      15\n",
              "RH           10\n",
              "Name: MSZoning, dtype: int64"
            ]
          },
          "execution_count": 248,
          "metadata": {},
          "output_type": "execute_result"
        }
      ],
      "source": [
        "test_df[\"MSZoning\"].value_counts()"
      ]
    },
    {
      "cell_type": "code",
      "execution_count": 249,
      "metadata": {
        "colab": {
          "base_uri": "https://localhost:8080/",
          "height": 35
        },
        "id": "19OlfSjGYrE7",
        "outputId": "35b1ecc2-029d-431a-e1f4-b4b3f5d2de0d"
      },
      "outputs": [
        {
          "data": {
            "text/plain": [
              "'RL'"
            ]
          },
          "execution_count": 249,
          "metadata": {},
          "output_type": "execute_result"
        }
      ],
      "source": [
        "train_df[\"MSZoning\"].value_counts().index[0]"
      ]
    },
    {
      "cell_type": "code",
      "execution_count": 250,
      "metadata": {
        "colab": {
          "base_uri": "https://localhost:8080/",
          "height": 35
        },
        "id": "ptzx-8_aY6EO",
        "outputId": "eab56119-0d1e-4859-934a-251ef24abb7d"
      },
      "outputs": [
        {
          "data": {
            "text/plain": [
              "'RL'"
            ]
          },
          "execution_count": 250,
          "metadata": {},
          "output_type": "execute_result"
        }
      ],
      "source": [
        "train_df[\"MSZoning\"].mode()[0]"
      ]
    },
    {
      "cell_type": "code",
      "execution_count": 251,
      "metadata": {
        "id": "Yfstf8CyANDk"
      },
      "outputs": [],
      "source": [
        "# 빵구난 데이터를 채우는데 있어서,,,앞에서 처럼 종류에 대한 특징 컬럼인데,,\n",
        "# None 채우기에는 좀 그러한 상황!!! ---> 최빈값으로 채우겠다!!!!!\n",
        "# 여기에서는 혹시 누락이 되면 최빈값으로 채울 컬럼에 대한 리스트업!!!\n",
        "\n",
        "freq = ['MSZoning','Exterior1st',\n",
        "        'Exterior2nd','SaleType','Electrical',\n",
        "        'KitchenQual','Functional']\n",
        "\n",
        "for fr in freq:\n",
        "    train_df[fr].fillna(train_df[fr].mode()[0], inplace=True)\n",
        "    #test_df[fr].fillna( test_df[fr].mode()[0], inplace=True)\n",
        "    # --> test 기준 따로, train 기준 따로의 코드로 작성이 된 것임!!\n",
        "    test_df[fr].fillna(train_df[fr].mode()[0], inplace=True)\n",
        "    # 최빈값의 기준에 있어서도,,,train으로 파악을 하고,,,,\n",
        "    # --> train/test 에 모두 같은 기준으로 적용을 해야함!!!!"
      ]
    },
    {
      "cell_type": "code",
      "execution_count": 252,
      "metadata": {
        "id": "7_WqQFouANDk"
      },
      "outputs": [],
      "source": [
        "### 위의 지금까지 한 방법들은 누락된 데이터를 처리할 때 가장 간단한 방법.\n",
        "# 1) 임의의 값으로 채운다 :0, 99, None, \"\"\n",
        "# 2) 대표값으로 채운다 : 분포/특징을 체크를 해서 평균, 중앙값, 최빈값 등\n",
        "#              ---> 계산이 발생!!!!\n",
        "#                   train에서 기준을 잡아서 train에 변형/test 그대로 적용!!!\n",
        "# 3) + 비슷한 데이터를 기반으로 해서 그룹화를 기반으로 대표값 생성 후 적용...\n",
        "#    ( 기존에 했던 pandas에 대한 기능적인 리뷰의 목적도 포함...)\n",
        "# 4) + 수업에서는 안 하는데, train 데이터로 누락된 컬럼 예측 모델을 만들어서\n",
        "#       train에서 추정값으로 채우고, test에서도 적용만 해서 채우는..."
      ]
    },
    {
      "attachments": {},
      "cell_type": "markdown",
      "metadata": {
        "id": "FYb8eFmTANDk"
      },
      "source": [
        "#####  LotFrontage 에서는 너무 많은 값들이 이상하고, 이 값들으 좀 처리하기 위해서 비슷한 것들을 묶어서 사용을 하려고 함.    \n",
        "그래서 우선은 기존의 값은 old_lotfrontage라는 컬럼으로 두고, LotArea, Neighborhood로 그룹화 해서 거기서 나오는 값을 바탕으로 처리하고자 함!!!"
      ]
    },
    {
      "cell_type": "code",
      "execution_count": 253,
      "metadata": {
        "id": "ydGfJt9PANDk"
      },
      "outputs": [],
      "source": [
        "# 비슷한 데이터를 기반으로 해서 대표값을 추출해서 빈 값을 채울 때!!!!\n",
        "# LotFrontage : 건물하고 연결된 도로의 선형적 면적\n",
        "# Neightborhood : 경계내의 물리적인 위치\n",
        "# --> LotFrontage 컬럼이 누락이 대략 200개 정도...\n",
        "# train/test 모두 일정 비율 이상 누락된 데이터가 존재를 합니다....\n",
        "# --> 앞에서 한 대로 정보가 없으니 0으로 할 수도 있고,,,\n",
        "# --> 데이터가 있는 train에서 평균/최빈값으로 채울 수도 있고,,,\n",
        "# --> + 물리적으로 연결된 도로에 대한 정보가 되니....\n",
        "#        Neighrboorhood 컬럼의 값을 기반으로 하겠다!!!!!!!\n",
        "#   유사한 데이터들의 대표값으로 채우겠다!!!!!!!( 차별점 )"
      ]
    },
    {
      "cell_type": "code",
      "execution_count": 254,
      "metadata": {
        "colab": {
          "base_uri": "https://localhost:8080/",
          "height": 299
        },
        "id": "-qocfdCXxM5g",
        "outputId": "53be9f36-c9d6-409d-ddaa-a49a90fe04d3"
      },
      "outputs": [
        {
          "data": {
            "text/html": [
              "<div>\n",
              "<style scoped>\n",
              "    .dataframe tbody tr th:only-of-type {\n",
              "        vertical-align: middle;\n",
              "    }\n",
              "\n",
              "    .dataframe tbody tr th {\n",
              "        vertical-align: top;\n",
              "    }\n",
              "\n",
              "    .dataframe thead th {\n",
              "        text-align: right;\n",
              "    }\n",
              "</style>\n",
              "<table border=\"1\" class=\"dataframe\">\n",
              "  <thead>\n",
              "    <tr style=\"text-align: right;\">\n",
              "      <th></th>\n",
              "      <th>MSSubClass</th>\n",
              "      <th>MSZoning</th>\n",
              "      <th>LotFrontage</th>\n",
              "      <th>LotArea</th>\n",
              "      <th>Street</th>\n",
              "      <th>Alley</th>\n",
              "      <th>LotShape</th>\n",
              "      <th>LandContour</th>\n",
              "      <th>LotConfig</th>\n",
              "      <th>LandSlope</th>\n",
              "      <th>...</th>\n",
              "      <th>PoolArea</th>\n",
              "      <th>PoolQC</th>\n",
              "      <th>Fence</th>\n",
              "      <th>MiscFeature</th>\n",
              "      <th>MiscVal</th>\n",
              "      <th>MoSold</th>\n",
              "      <th>YrSold</th>\n",
              "      <th>SaleType</th>\n",
              "      <th>SaleCondition</th>\n",
              "      <th>old_LotFrontage</th>\n",
              "    </tr>\n",
              "  </thead>\n",
              "  <tbody>\n",
              "    <tr>\n",
              "      <th>0</th>\n",
              "      <td>60</td>\n",
              "      <td>RL</td>\n",
              "      <td>65.0</td>\n",
              "      <td>8450</td>\n",
              "      <td>Pave</td>\n",
              "      <td>None</td>\n",
              "      <td>Reg</td>\n",
              "      <td>Lvl</td>\n",
              "      <td>Inside</td>\n",
              "      <td>Gtl</td>\n",
              "      <td>...</td>\n",
              "      <td>0</td>\n",
              "      <td>None</td>\n",
              "      <td>None</td>\n",
              "      <td>None</td>\n",
              "      <td>0</td>\n",
              "      <td>2</td>\n",
              "      <td>2008</td>\n",
              "      <td>WD</td>\n",
              "      <td>Normal</td>\n",
              "      <td>65.0</td>\n",
              "    </tr>\n",
              "    <tr>\n",
              "      <th>1</th>\n",
              "      <td>20</td>\n",
              "      <td>RL</td>\n",
              "      <td>80.0</td>\n",
              "      <td>9600</td>\n",
              "      <td>Pave</td>\n",
              "      <td>None</td>\n",
              "      <td>Reg</td>\n",
              "      <td>Lvl</td>\n",
              "      <td>FR2</td>\n",
              "      <td>Gtl</td>\n",
              "      <td>...</td>\n",
              "      <td>0</td>\n",
              "      <td>None</td>\n",
              "      <td>None</td>\n",
              "      <td>None</td>\n",
              "      <td>0</td>\n",
              "      <td>5</td>\n",
              "      <td>2007</td>\n",
              "      <td>WD</td>\n",
              "      <td>Normal</td>\n",
              "      <td>80.0</td>\n",
              "    </tr>\n",
              "    <tr>\n",
              "      <th>2</th>\n",
              "      <td>60</td>\n",
              "      <td>RL</td>\n",
              "      <td>68.0</td>\n",
              "      <td>11250</td>\n",
              "      <td>Pave</td>\n",
              "      <td>None</td>\n",
              "      <td>IR1</td>\n",
              "      <td>Lvl</td>\n",
              "      <td>Inside</td>\n",
              "      <td>Gtl</td>\n",
              "      <td>...</td>\n",
              "      <td>0</td>\n",
              "      <td>None</td>\n",
              "      <td>None</td>\n",
              "      <td>None</td>\n",
              "      <td>0</td>\n",
              "      <td>9</td>\n",
              "      <td>2008</td>\n",
              "      <td>WD</td>\n",
              "      <td>Normal</td>\n",
              "      <td>68.0</td>\n",
              "    </tr>\n",
              "    <tr>\n",
              "      <th>3</th>\n",
              "      <td>70</td>\n",
              "      <td>RL</td>\n",
              "      <td>60.0</td>\n",
              "      <td>9550</td>\n",
              "      <td>Pave</td>\n",
              "      <td>None</td>\n",
              "      <td>IR1</td>\n",
              "      <td>Lvl</td>\n",
              "      <td>Corner</td>\n",
              "      <td>Gtl</td>\n",
              "      <td>...</td>\n",
              "      <td>0</td>\n",
              "      <td>None</td>\n",
              "      <td>None</td>\n",
              "      <td>None</td>\n",
              "      <td>0</td>\n",
              "      <td>2</td>\n",
              "      <td>2006</td>\n",
              "      <td>WD</td>\n",
              "      <td>Abnorml</td>\n",
              "      <td>60.0</td>\n",
              "    </tr>\n",
              "    <tr>\n",
              "      <th>4</th>\n",
              "      <td>60</td>\n",
              "      <td>RL</td>\n",
              "      <td>84.0</td>\n",
              "      <td>14260</td>\n",
              "      <td>Pave</td>\n",
              "      <td>None</td>\n",
              "      <td>IR1</td>\n",
              "      <td>Lvl</td>\n",
              "      <td>FR2</td>\n",
              "      <td>Gtl</td>\n",
              "      <td>...</td>\n",
              "      <td>0</td>\n",
              "      <td>None</td>\n",
              "      <td>None</td>\n",
              "      <td>None</td>\n",
              "      <td>0</td>\n",
              "      <td>12</td>\n",
              "      <td>2008</td>\n",
              "      <td>WD</td>\n",
              "      <td>Normal</td>\n",
              "      <td>84.0</td>\n",
              "    </tr>\n",
              "  </tbody>\n",
              "</table>\n",
              "<p>5 rows × 79 columns</p>\n",
              "</div>"
            ],
            "text/plain": [
              "   MSSubClass MSZoning  LotFrontage  LotArea Street Alley LotShape  \\\n",
              "0          60       RL         65.0     8450   Pave  None      Reg   \n",
              "1          20       RL         80.0     9600   Pave  None      Reg   \n",
              "2          60       RL         68.0    11250   Pave  None      IR1   \n",
              "3          70       RL         60.0     9550   Pave  None      IR1   \n",
              "4          60       RL         84.0    14260   Pave  None      IR1   \n",
              "\n",
              "  LandContour LotConfig LandSlope  ... PoolArea PoolQC Fence MiscFeature  \\\n",
              "0         Lvl    Inside       Gtl  ...        0   None  None        None   \n",
              "1         Lvl       FR2       Gtl  ...        0   None  None        None   \n",
              "2         Lvl    Inside       Gtl  ...        0   None  None        None   \n",
              "3         Lvl    Corner       Gtl  ...        0   None  None        None   \n",
              "4         Lvl       FR2       Gtl  ...        0   None  None        None   \n",
              "\n",
              "  MiscVal  MoSold  YrSold  SaleType  SaleCondition old_LotFrontage  \n",
              "0       0       2    2008        WD         Normal            65.0  \n",
              "1       0       5    2007        WD         Normal            80.0  \n",
              "2       0       9    2008        WD         Normal            68.0  \n",
              "3       0       2    2006        WD        Abnorml            60.0  \n",
              "4       0      12    2008        WD         Normal            84.0  \n",
              "\n",
              "[5 rows x 79 columns]"
            ]
          },
          "execution_count": 254,
          "metadata": {},
          "output_type": "execute_result"
        }
      ],
      "source": [
        "# 기존의 값을 잠시 보관...\n",
        "train_df[\"old_LotFrontage\"] = train_df[\"LotFrontage\"]\n",
        "train_df.head()"
      ]
    },
    {
      "cell_type": "code",
      "execution_count": 255,
      "metadata": {
        "colab": {
          "base_uri": "https://localhost:8080/"
        },
        "id": "RZkLzojtxNO8",
        "outputId": "54f41999-0352-4c37-851f-2404d34a478a"
      },
      "outputs": [
        {
          "data": {
            "text/plain": [
              "Neighborhood\n",
              "Blmngtn    43.0\n",
              "Blueste    24.0\n",
              "BrDale     21.0\n",
              "BrkSide    52.0\n",
              "ClearCr    80.0\n",
              "CollgCr    70.0\n",
              "Crawfor    74.0\n",
              "Edwards    64.5\n",
              "Gilbert    65.0\n",
              "IDOTRR     60.0\n",
              "MeadowV    21.0\n",
              "Mitchel    73.0\n",
              "NAmes      73.0\n",
              "NPkVill    24.0\n",
              "NWAmes     80.0\n",
              "NoRidge    90.0\n",
              "NridgHt    88.5\n",
              "OldTown    60.0\n",
              "SWISU      60.0\n",
              "Sawyer     71.0\n",
              "SawyerW    66.5\n",
              "Somerst    73.5\n",
              "StoneBr    61.5\n",
              "Timber     85.0\n",
              "Veenker    68.0\n",
              "Name: LotFrontage, dtype: float64"
            ]
          },
          "execution_count": 255,
          "metadata": {},
          "output_type": "execute_result"
        }
      ],
      "source": [
        "# 기준 : train_df의 값이 기준임!!!!\n",
        "# ---> train_df의 Neoighrborhood 컬럼의 값으로 groupby를 수행을 해서..\n",
        "#      그 그룹별로 중앙값을 대표값으로 선정을 해서.....\n",
        "#      혹시 LotFrontage의 컬럼의 값이 누락이 있다면,,,,이 값으로 채우겠다!!!\n",
        "ref_table = train_df.groupby(by=\"Neighborhood\")[\"LotFrontage\"].agg(np.median)\n",
        "ref_table"
      ]
    },
    {
      "cell_type": "code",
      "execution_count": 256,
      "metadata": {
        "colab": {
          "base_uri": "https://localhost:8080/",
          "height": 299
        },
        "id": "zQ4gcv-kyWMc",
        "outputId": "4fd2e463-c462-4bb0-c6bb-91e8bbee2fe1"
      },
      "outputs": [
        {
          "data": {
            "text/html": [
              "<div>\n",
              "<style scoped>\n",
              "    .dataframe tbody tr th:only-of-type {\n",
              "        vertical-align: middle;\n",
              "    }\n",
              "\n",
              "    .dataframe tbody tr th {\n",
              "        vertical-align: top;\n",
              "    }\n",
              "\n",
              "    .dataframe thead th {\n",
              "        text-align: right;\n",
              "    }\n",
              "</style>\n",
              "<table border=\"1\" class=\"dataframe\">\n",
              "  <thead>\n",
              "    <tr style=\"text-align: right;\">\n",
              "      <th></th>\n",
              "      <th>MSSubClass</th>\n",
              "      <th>MSZoning</th>\n",
              "      <th>LotFrontage</th>\n",
              "      <th>LotArea</th>\n",
              "      <th>Street</th>\n",
              "      <th>Alley</th>\n",
              "      <th>LotShape</th>\n",
              "      <th>LandContour</th>\n",
              "      <th>LotConfig</th>\n",
              "      <th>LandSlope</th>\n",
              "      <th>...</th>\n",
              "      <th>PoolArea</th>\n",
              "      <th>PoolQC</th>\n",
              "      <th>Fence</th>\n",
              "      <th>MiscFeature</th>\n",
              "      <th>MiscVal</th>\n",
              "      <th>MoSold</th>\n",
              "      <th>YrSold</th>\n",
              "      <th>SaleType</th>\n",
              "      <th>SaleCondition</th>\n",
              "      <th>old_LotFrontage</th>\n",
              "    </tr>\n",
              "  </thead>\n",
              "  <tbody>\n",
              "    <tr>\n",
              "      <th>0</th>\n",
              "      <td>60</td>\n",
              "      <td>RL</td>\n",
              "      <td>65.0</td>\n",
              "      <td>8450</td>\n",
              "      <td>Pave</td>\n",
              "      <td>None</td>\n",
              "      <td>Reg</td>\n",
              "      <td>Lvl</td>\n",
              "      <td>Inside</td>\n",
              "      <td>Gtl</td>\n",
              "      <td>...</td>\n",
              "      <td>0</td>\n",
              "      <td>None</td>\n",
              "      <td>None</td>\n",
              "      <td>None</td>\n",
              "      <td>0</td>\n",
              "      <td>2</td>\n",
              "      <td>2008</td>\n",
              "      <td>WD</td>\n",
              "      <td>Normal</td>\n",
              "      <td>65.0</td>\n",
              "    </tr>\n",
              "    <tr>\n",
              "      <th>1</th>\n",
              "      <td>20</td>\n",
              "      <td>RL</td>\n",
              "      <td>80.0</td>\n",
              "      <td>9600</td>\n",
              "      <td>Pave</td>\n",
              "      <td>None</td>\n",
              "      <td>Reg</td>\n",
              "      <td>Lvl</td>\n",
              "      <td>FR2</td>\n",
              "      <td>Gtl</td>\n",
              "      <td>...</td>\n",
              "      <td>0</td>\n",
              "      <td>None</td>\n",
              "      <td>None</td>\n",
              "      <td>None</td>\n",
              "      <td>0</td>\n",
              "      <td>5</td>\n",
              "      <td>2007</td>\n",
              "      <td>WD</td>\n",
              "      <td>Normal</td>\n",
              "      <td>80.0</td>\n",
              "    </tr>\n",
              "    <tr>\n",
              "      <th>2</th>\n",
              "      <td>60</td>\n",
              "      <td>RL</td>\n",
              "      <td>68.0</td>\n",
              "      <td>11250</td>\n",
              "      <td>Pave</td>\n",
              "      <td>None</td>\n",
              "      <td>IR1</td>\n",
              "      <td>Lvl</td>\n",
              "      <td>Inside</td>\n",
              "      <td>Gtl</td>\n",
              "      <td>...</td>\n",
              "      <td>0</td>\n",
              "      <td>None</td>\n",
              "      <td>None</td>\n",
              "      <td>None</td>\n",
              "      <td>0</td>\n",
              "      <td>9</td>\n",
              "      <td>2008</td>\n",
              "      <td>WD</td>\n",
              "      <td>Normal</td>\n",
              "      <td>68.0</td>\n",
              "    </tr>\n",
              "    <tr>\n",
              "      <th>3</th>\n",
              "      <td>70</td>\n",
              "      <td>RL</td>\n",
              "      <td>60.0</td>\n",
              "      <td>9550</td>\n",
              "      <td>Pave</td>\n",
              "      <td>None</td>\n",
              "      <td>IR1</td>\n",
              "      <td>Lvl</td>\n",
              "      <td>Corner</td>\n",
              "      <td>Gtl</td>\n",
              "      <td>...</td>\n",
              "      <td>0</td>\n",
              "      <td>None</td>\n",
              "      <td>None</td>\n",
              "      <td>None</td>\n",
              "      <td>0</td>\n",
              "      <td>2</td>\n",
              "      <td>2006</td>\n",
              "      <td>WD</td>\n",
              "      <td>Abnorml</td>\n",
              "      <td>60.0</td>\n",
              "    </tr>\n",
              "    <tr>\n",
              "      <th>4</th>\n",
              "      <td>60</td>\n",
              "      <td>RL</td>\n",
              "      <td>84.0</td>\n",
              "      <td>14260</td>\n",
              "      <td>Pave</td>\n",
              "      <td>None</td>\n",
              "      <td>IR1</td>\n",
              "      <td>Lvl</td>\n",
              "      <td>FR2</td>\n",
              "      <td>Gtl</td>\n",
              "      <td>...</td>\n",
              "      <td>0</td>\n",
              "      <td>None</td>\n",
              "      <td>None</td>\n",
              "      <td>None</td>\n",
              "      <td>0</td>\n",
              "      <td>12</td>\n",
              "      <td>2008</td>\n",
              "      <td>WD</td>\n",
              "      <td>Normal</td>\n",
              "      <td>84.0</td>\n",
              "    </tr>\n",
              "  </tbody>\n",
              "</table>\n",
              "<p>5 rows × 79 columns</p>\n",
              "</div>"
            ],
            "text/plain": [
              "   MSSubClass MSZoning  LotFrontage  LotArea Street Alley LotShape  \\\n",
              "0          60       RL         65.0     8450   Pave  None      Reg   \n",
              "1          20       RL         80.0     9600   Pave  None      Reg   \n",
              "2          60       RL         68.0    11250   Pave  None      IR1   \n",
              "3          70       RL         60.0     9550   Pave  None      IR1   \n",
              "4          60       RL         84.0    14260   Pave  None      IR1   \n",
              "\n",
              "  LandContour LotConfig LandSlope  ... PoolArea PoolQC Fence MiscFeature  \\\n",
              "0         Lvl    Inside       Gtl  ...        0   None  None        None   \n",
              "1         Lvl       FR2       Gtl  ...        0   None  None        None   \n",
              "2         Lvl    Inside       Gtl  ...        0   None  None        None   \n",
              "3         Lvl    Corner       Gtl  ...        0   None  None        None   \n",
              "4         Lvl       FR2       Gtl  ...        0   None  None        None   \n",
              "\n",
              "  MiscVal  MoSold  YrSold  SaleType  SaleCondition old_LotFrontage  \n",
              "0       0       2    2008        WD         Normal            65.0  \n",
              "1       0       5    2007        WD         Normal            80.0  \n",
              "2       0       9    2008        WD         Normal            68.0  \n",
              "3       0       2    2006        WD        Abnorml            60.0  \n",
              "4       0      12    2008        WD         Normal            84.0  \n",
              "\n",
              "[5 rows x 79 columns]"
            ]
          },
          "execution_count": 256,
          "metadata": {},
          "output_type": "execute_result"
        }
      ],
      "source": [
        "# train_df에서 LotFrontgae 컬럼이 누락된 데이터 처리..\n",
        "# ---> transform으로 값을 변환을 한 것이고....\n",
        "train_df[\"LotFrontage\"] = train_df.groupby(by=\"Neighborhood\")[\"LotFrontage\"].transform(\n",
        "    lambda x : x.fillna(x.median())\n",
        ")\n",
        "train_df.head()"
      ]
    },
    {
      "cell_type": "code",
      "execution_count": 257,
      "metadata": {
        "colab": {
          "base_uri": "https://localhost:8080/",
          "height": 299
        },
        "id": "9vz4v3LqyWjd",
        "outputId": "2d1a67e0-386b-4354-e966-a8d37c58a445"
      },
      "outputs": [
        {
          "data": {
            "text/html": [
              "<div>\n",
              "<style scoped>\n",
              "    .dataframe tbody tr th:only-of-type {\n",
              "        vertical-align: middle;\n",
              "    }\n",
              "\n",
              "    .dataframe tbody tr th {\n",
              "        vertical-align: top;\n",
              "    }\n",
              "\n",
              "    .dataframe thead th {\n",
              "        text-align: right;\n",
              "    }\n",
              "</style>\n",
              "<table border=\"1\" class=\"dataframe\">\n",
              "  <thead>\n",
              "    <tr style=\"text-align: right;\">\n",
              "      <th></th>\n",
              "      <th>MSSubClass</th>\n",
              "      <th>MSZoning</th>\n",
              "      <th>LotFrontage_x</th>\n",
              "      <th>LotArea</th>\n",
              "      <th>Street</th>\n",
              "      <th>Alley</th>\n",
              "      <th>LotShape</th>\n",
              "      <th>LandContour</th>\n",
              "      <th>LotConfig</th>\n",
              "      <th>LandSlope</th>\n",
              "      <th>...</th>\n",
              "      <th>PoolQC</th>\n",
              "      <th>Fence</th>\n",
              "      <th>MiscFeature</th>\n",
              "      <th>MiscVal</th>\n",
              "      <th>MoSold</th>\n",
              "      <th>YrSold</th>\n",
              "      <th>SaleType</th>\n",
              "      <th>SaleCondition</th>\n",
              "      <th>old_LotFrontage</th>\n",
              "      <th>LotFrontage_y</th>\n",
              "    </tr>\n",
              "  </thead>\n",
              "  <tbody>\n",
              "    <tr>\n",
              "      <th>0</th>\n",
              "      <td>20</td>\n",
              "      <td>RH</td>\n",
              "      <td>80.0</td>\n",
              "      <td>11622</td>\n",
              "      <td>Pave</td>\n",
              "      <td>None</td>\n",
              "      <td>Reg</td>\n",
              "      <td>Lvl</td>\n",
              "      <td>Inside</td>\n",
              "      <td>Gtl</td>\n",
              "      <td>...</td>\n",
              "      <td>None</td>\n",
              "      <td>MnPrv</td>\n",
              "      <td>None</td>\n",
              "      <td>0</td>\n",
              "      <td>6</td>\n",
              "      <td>2010</td>\n",
              "      <td>WD</td>\n",
              "      <td>Normal</td>\n",
              "      <td>80.0</td>\n",
              "      <td>73.0</td>\n",
              "    </tr>\n",
              "    <tr>\n",
              "      <th>1</th>\n",
              "      <td>20</td>\n",
              "      <td>RL</td>\n",
              "      <td>81.0</td>\n",
              "      <td>14267</td>\n",
              "      <td>Pave</td>\n",
              "      <td>None</td>\n",
              "      <td>IR1</td>\n",
              "      <td>Lvl</td>\n",
              "      <td>Corner</td>\n",
              "      <td>Gtl</td>\n",
              "      <td>...</td>\n",
              "      <td>None</td>\n",
              "      <td>None</td>\n",
              "      <td>Gar2</td>\n",
              "      <td>12500</td>\n",
              "      <td>6</td>\n",
              "      <td>2010</td>\n",
              "      <td>WD</td>\n",
              "      <td>Normal</td>\n",
              "      <td>81.0</td>\n",
              "      <td>73.0</td>\n",
              "    </tr>\n",
              "    <tr>\n",
              "      <th>2</th>\n",
              "      <td>60</td>\n",
              "      <td>RL</td>\n",
              "      <td>74.0</td>\n",
              "      <td>13830</td>\n",
              "      <td>Pave</td>\n",
              "      <td>None</td>\n",
              "      <td>IR1</td>\n",
              "      <td>Lvl</td>\n",
              "      <td>Inside</td>\n",
              "      <td>Gtl</td>\n",
              "      <td>...</td>\n",
              "      <td>None</td>\n",
              "      <td>MnPrv</td>\n",
              "      <td>None</td>\n",
              "      <td>0</td>\n",
              "      <td>3</td>\n",
              "      <td>2010</td>\n",
              "      <td>WD</td>\n",
              "      <td>Normal</td>\n",
              "      <td>74.0</td>\n",
              "      <td>65.0</td>\n",
              "    </tr>\n",
              "    <tr>\n",
              "      <th>3</th>\n",
              "      <td>60</td>\n",
              "      <td>RL</td>\n",
              "      <td>78.0</td>\n",
              "      <td>9978</td>\n",
              "      <td>Pave</td>\n",
              "      <td>None</td>\n",
              "      <td>IR1</td>\n",
              "      <td>Lvl</td>\n",
              "      <td>Inside</td>\n",
              "      <td>Gtl</td>\n",
              "      <td>...</td>\n",
              "      <td>None</td>\n",
              "      <td>None</td>\n",
              "      <td>None</td>\n",
              "      <td>0</td>\n",
              "      <td>6</td>\n",
              "      <td>2010</td>\n",
              "      <td>WD</td>\n",
              "      <td>Normal</td>\n",
              "      <td>78.0</td>\n",
              "      <td>65.0</td>\n",
              "    </tr>\n",
              "    <tr>\n",
              "      <th>4</th>\n",
              "      <td>120</td>\n",
              "      <td>RL</td>\n",
              "      <td>43.0</td>\n",
              "      <td>5005</td>\n",
              "      <td>Pave</td>\n",
              "      <td>None</td>\n",
              "      <td>IR1</td>\n",
              "      <td>HLS</td>\n",
              "      <td>Inside</td>\n",
              "      <td>Gtl</td>\n",
              "      <td>...</td>\n",
              "      <td>None</td>\n",
              "      <td>None</td>\n",
              "      <td>None</td>\n",
              "      <td>0</td>\n",
              "      <td>1</td>\n",
              "      <td>2010</td>\n",
              "      <td>WD</td>\n",
              "      <td>Normal</td>\n",
              "      <td>43.0</td>\n",
              "      <td>61.5</td>\n",
              "    </tr>\n",
              "  </tbody>\n",
              "</table>\n",
              "<p>5 rows × 80 columns</p>\n",
              "</div>"
            ],
            "text/plain": [
              "   MSSubClass MSZoning  LotFrontage_x  LotArea Street Alley LotShape  \\\n",
              "0          20       RH           80.0    11622   Pave  None      Reg   \n",
              "1          20       RL           81.0    14267   Pave  None      IR1   \n",
              "2          60       RL           74.0    13830   Pave  None      IR1   \n",
              "3          60       RL           78.0     9978   Pave  None      IR1   \n",
              "4         120       RL           43.0     5005   Pave  None      IR1   \n",
              "\n",
              "  LandContour LotConfig LandSlope  ... PoolQC  Fence MiscFeature MiscVal  \\\n",
              "0         Lvl    Inside       Gtl  ...   None  MnPrv        None       0   \n",
              "1         Lvl    Corner       Gtl  ...   None   None        Gar2   12500   \n",
              "2         Lvl    Inside       Gtl  ...   None  MnPrv        None       0   \n",
              "3         Lvl    Inside       Gtl  ...   None   None        None       0   \n",
              "4         HLS    Inside       Gtl  ...   None   None        None       0   \n",
              "\n",
              "  MoSold  YrSold  SaleType  SaleCondition  old_LotFrontage LotFrontage_y  \n",
              "0      6    2010        WD         Normal             80.0          73.0  \n",
              "1      6    2010        WD         Normal             81.0          73.0  \n",
              "2      3    2010        WD         Normal             74.0          65.0  \n",
              "3      6    2010        WD         Normal             78.0          65.0  \n",
              "4      1    2010        WD         Normal             43.0          61.5  \n",
              "\n",
              "[5 rows x 80 columns]"
            ]
          },
          "execution_count": 257,
          "metadata": {},
          "output_type": "execute_result"
        }
      ],
      "source": [
        "# test_df는 join\n",
        "test_df[\"old_LotFrontage\"] = test_df[\"LotFrontage\"]\n",
        "test_df = pd.merge( test_df, ref_table, how = \"left\",\n",
        "                   left_on= \"Neighborhood\",\n",
        "                   right_on=\"Neighborhood\")\n",
        "test_df.head()"
      ]
    },
    {
      "cell_type": "code",
      "execution_count": 258,
      "metadata": {
        "colab": {
          "base_uri": "https://localhost:8080/",
          "height": 423
        },
        "id": "4lj_MzX9yWnM",
        "outputId": "efd6da8a-3e91-45f8-cd47-95f7b7583c81"
      },
      "outputs": [
        {
          "data": {
            "text/html": [
              "<div>\n",
              "<style scoped>\n",
              "    .dataframe tbody tr th:only-of-type {\n",
              "        vertical-align: middle;\n",
              "    }\n",
              "\n",
              "    .dataframe tbody tr th {\n",
              "        vertical-align: top;\n",
              "    }\n",
              "\n",
              "    .dataframe thead th {\n",
              "        text-align: right;\n",
              "    }\n",
              "</style>\n",
              "<table border=\"1\" class=\"dataframe\">\n",
              "  <thead>\n",
              "    <tr style=\"text-align: right;\">\n",
              "      <th></th>\n",
              "      <th>Neighborhood</th>\n",
              "      <th>LotFrontage_x</th>\n",
              "      <th>LotFrontage_y</th>\n",
              "      <th>old_LotFrontage</th>\n",
              "    </tr>\n",
              "  </thead>\n",
              "  <tbody>\n",
              "    <tr>\n",
              "      <th>6</th>\n",
              "      <td>Gilbert</td>\n",
              "      <td>NaN</td>\n",
              "      <td>65.0</td>\n",
              "      <td>NaN</td>\n",
              "    </tr>\n",
              "    <tr>\n",
              "      <th>40</th>\n",
              "      <td>Somerst</td>\n",
              "      <td>NaN</td>\n",
              "      <td>73.5</td>\n",
              "      <td>NaN</td>\n",
              "    </tr>\n",
              "    <tr>\n",
              "      <th>41</th>\n",
              "      <td>Somerst</td>\n",
              "      <td>NaN</td>\n",
              "      <td>73.5</td>\n",
              "      <td>NaN</td>\n",
              "    </tr>\n",
              "    <tr>\n",
              "      <th>45</th>\n",
              "      <td>NWAmes</td>\n",
              "      <td>NaN</td>\n",
              "      <td>80.0</td>\n",
              "      <td>NaN</td>\n",
              "    </tr>\n",
              "    <tr>\n",
              "      <th>47</th>\n",
              "      <td>NWAmes</td>\n",
              "      <td>NaN</td>\n",
              "      <td>80.0</td>\n",
              "      <td>NaN</td>\n",
              "    </tr>\n",
              "    <tr>\n",
              "      <th>...</th>\n",
              "      <td>...</td>\n",
              "      <td>...</td>\n",
              "      <td>...</td>\n",
              "      <td>...</td>\n",
              "    </tr>\n",
              "    <tr>\n",
              "      <th>1387</th>\n",
              "      <td>CollgCr</td>\n",
              "      <td>NaN</td>\n",
              "      <td>70.0</td>\n",
              "      <td>NaN</td>\n",
              "    </tr>\n",
              "    <tr>\n",
              "      <th>1390</th>\n",
              "      <td>CollgCr</td>\n",
              "      <td>NaN</td>\n",
              "      <td>70.0</td>\n",
              "      <td>NaN</td>\n",
              "    </tr>\n",
              "    <tr>\n",
              "      <th>1440</th>\n",
              "      <td>Timber</td>\n",
              "      <td>NaN</td>\n",
              "      <td>85.0</td>\n",
              "      <td>NaN</td>\n",
              "    </tr>\n",
              "    <tr>\n",
              "      <th>1441</th>\n",
              "      <td>Timber</td>\n",
              "      <td>NaN</td>\n",
              "      <td>85.0</td>\n",
              "      <td>NaN</td>\n",
              "    </tr>\n",
              "    <tr>\n",
              "      <th>1448</th>\n",
              "      <td>Mitchel</td>\n",
              "      <td>NaN</td>\n",
              "      <td>73.0</td>\n",
              "      <td>NaN</td>\n",
              "    </tr>\n",
              "  </tbody>\n",
              "</table>\n",
              "<p>227 rows × 4 columns</p>\n",
              "</div>"
            ],
            "text/plain": [
              "     Neighborhood  LotFrontage_x  LotFrontage_y  old_LotFrontage\n",
              "6         Gilbert            NaN           65.0              NaN\n",
              "40        Somerst            NaN           73.5              NaN\n",
              "41        Somerst            NaN           73.5              NaN\n",
              "45         NWAmes            NaN           80.0              NaN\n",
              "47         NWAmes            NaN           80.0              NaN\n",
              "...           ...            ...            ...              ...\n",
              "1387      CollgCr            NaN           70.0              NaN\n",
              "1390      CollgCr            NaN           70.0              NaN\n",
              "1440       Timber            NaN           85.0              NaN\n",
              "1441       Timber            NaN           85.0              NaN\n",
              "1448      Mitchel            NaN           73.0              NaN\n",
              "\n",
              "[227 rows x 4 columns]"
            ]
          },
          "execution_count": 258,
          "metadata": {},
          "output_type": "execute_result"
        }
      ],
      "source": [
        "# 확인을 위해서 체크를 하자...\n",
        "test_df.loc[test_df[\"LotFrontage_x\"].isnull(),[\"Neighborhood\",\n",
        "                                               \"LotFrontage_x\",\n",
        "                                               \"LotFrontage_y\",\n",
        "                                               \"old_LotFrontage\"] ]"
      ]
    },
    {
      "cell_type": "code",
      "execution_count": 259,
      "metadata": {
        "colab": {
          "base_uri": "https://localhost:8080/"
        },
        "id": "WUW9wtlz3Ddx",
        "outputId": "b68a5136-c574-45ca-8c16-8012796fd433"
      },
      "outputs": [
        {
          "name": "stdout",
          "output_type": "stream",
          "text": [
            "<class 'pandas.core.frame.DataFrame'>\n",
            "Int64Index: 1459 entries, 0 to 1458\n",
            "Data columns (total 79 columns):\n",
            " #   Column           Non-Null Count  Dtype  \n",
            "---  ------           --------------  -----  \n",
            " 0   MSSubClass       1459 non-null   int64  \n",
            " 1   MSZoning         1459 non-null   object \n",
            " 2   LotFrontage      1459 non-null   float64\n",
            " 3   LotArea          1459 non-null   int64  \n",
            " 4   Street           1459 non-null   object \n",
            " 5   Alley            1459 non-null   object \n",
            " 6   LotShape         1459 non-null   object \n",
            " 7   LandContour      1459 non-null   object \n",
            " 8   LotConfig        1459 non-null   object \n",
            " 9   LandSlope        1459 non-null   object \n",
            " 10  Neighborhood     1459 non-null   object \n",
            " 11  Condition1       1459 non-null   object \n",
            " 12  Condition2       1459 non-null   object \n",
            " 13  BldgType         1459 non-null   object \n",
            " 14  HouseStyle       1459 non-null   object \n",
            " 15  OverallQual      1459 non-null   int64  \n",
            " 16  OverallCond      1459 non-null   int64  \n",
            " 17  YearBuilt        1459 non-null   int64  \n",
            " 18  YearRemodAdd     1459 non-null   int64  \n",
            " 19  RoofStyle        1459 non-null   object \n",
            " 20  RoofMatl         1459 non-null   object \n",
            " 21  Exterior1st      1459 non-null   object \n",
            " 22  Exterior2nd      1459 non-null   object \n",
            " 23  MasVnrType       1459 non-null   object \n",
            " 24  MasVnrArea       1459 non-null   float64\n",
            " 25  ExterQual        1459 non-null   object \n",
            " 26  ExterCond        1459 non-null   object \n",
            " 27  Foundation       1459 non-null   object \n",
            " 28  BsmtQual         1459 non-null   object \n",
            " 29  BsmtCond         1459 non-null   object \n",
            " 30  BsmtExposure     1459 non-null   object \n",
            " 31  BsmtFinType1     1459 non-null   object \n",
            " 32  BsmtFinSF1       1459 non-null   float64\n",
            " 33  BsmtFinType2     1459 non-null   object \n",
            " 34  BsmtFinSF2       1459 non-null   float64\n",
            " 35  BsmtUnfSF        1459 non-null   float64\n",
            " 36  TotalBsmtSF      1459 non-null   float64\n",
            " 37  Heating          1459 non-null   object \n",
            " 38  HeatingQC        1459 non-null   object \n",
            " 39  CentralAir       1459 non-null   object \n",
            " 40  Electrical       1459 non-null   object \n",
            " 41  1stFlrSF         1459 non-null   int64  \n",
            " 42  2ndFlrSF         1459 non-null   int64  \n",
            " 43  LowQualFinSF     1459 non-null   int64  \n",
            " 44  GrLivArea        1459 non-null   int64  \n",
            " 45  BsmtFullBath     1459 non-null   float64\n",
            " 46  BsmtHalfBath     1459 non-null   float64\n",
            " 47  FullBath         1459 non-null   int64  \n",
            " 48  HalfBath         1459 non-null   int64  \n",
            " 49  BedroomAbvGr     1459 non-null   int64  \n",
            " 50  KitchenAbvGr     1459 non-null   int64  \n",
            " 51  KitchenQual      1459 non-null   object \n",
            " 52  TotRmsAbvGrd     1459 non-null   int64  \n",
            " 53  Functional       1459 non-null   object \n",
            " 54  Fireplaces       1459 non-null   int64  \n",
            " 55  FireplaceQu      1459 non-null   object \n",
            " 56  GarageType       1459 non-null   object \n",
            " 57  GarageYrBlt      1459 non-null   float64\n",
            " 58  GarageFinish     1459 non-null   object \n",
            " 59  GarageCars       1459 non-null   float64\n",
            " 60  GarageArea       1459 non-null   float64\n",
            " 61  GarageQual       1459 non-null   object \n",
            " 62  GarageCond       1459 non-null   object \n",
            " 63  PavedDrive       1459 non-null   object \n",
            " 64  WoodDeckSF       1459 non-null   int64  \n",
            " 65  OpenPorchSF      1459 non-null   int64  \n",
            " 66  EnclosedPorch    1459 non-null   int64  \n",
            " 67  3SsnPorch        1459 non-null   int64  \n",
            " 68  ScreenPorch      1459 non-null   int64  \n",
            " 69  PoolArea         1459 non-null   int64  \n",
            " 70  PoolQC           1459 non-null   object \n",
            " 71  Fence            1459 non-null   object \n",
            " 72  MiscFeature      1459 non-null   object \n",
            " 73  MiscVal          1459 non-null   int64  \n",
            " 74  MoSold           1459 non-null   int64  \n",
            " 75  YrSold           1459 non-null   int64  \n",
            " 76  SaleType         1459 non-null   object \n",
            " 77  SaleCondition    1459 non-null   object \n",
            " 78  old_LotFrontage  1232 non-null   float64\n",
            "dtypes: float64(12), int64(25), object(42)\n",
            "memory usage: 911.9+ KB\n"
          ]
        }
      ],
      "source": [
        "# test_df에서 LotFrontage 컬럼이 누락된 경우에 대해서만 추가...\n",
        "test_df.loc[ test_df[\"LotFrontage_x\"].isnull(), \"LotFrontage_x\"] = test_df.loc[ test_df[\"LotFrontage_x\"].isnull(), \"LotFrontage_y\"]\n",
        "# test_df중에서 참조한 컬럼을 제거...\n",
        "test_df.drop( \"LotFrontage_y\",axis=1, inplace =True )\n",
        "# 컬럼이름이 merge 하면서 변경이 될 수 있음!!!--> 원래대로 복원...\n",
        "# --> 컬럼 이름 변경 : rename\n",
        "test_df.rename(columns={\"LotFrontage_x\":\"LotFrontage\"}, inplace=True)\n",
        "test_df.info()\n"
      ]
    },
    {
      "cell_type": "code",
      "execution_count": null,
      "metadata": {
        "id": "oDH8E8kcxNSB"
      },
      "outputs": [],
      "source": []
    },
    {
      "attachments": {},
      "cell_type": "markdown",
      "metadata": {
        "id": "9WUbpmTZANDk"
      },
      "source": [
        "* 왼쪽이 처리하기 전의 기존의 값의 분포이고, 오른쪽이 위와 같은 처리를 하였을 때의 분포를 나타낸 것임!!"
      ]
    },
    {
      "cell_type": "code",
      "execution_count": 260,
      "metadata": {
        "colab": {
          "base_uri": "https://localhost:8080/",
          "height": 445
        },
        "id": "YAaOkUszANDl",
        "outputId": "5f043b46-9319-4bb0-da9a-5a13aefe7829"
      },
      "outputs": [
        {
          "data": {
            "image/png": "[encoded data removed]",
            "text/plain": [
              "<Figure size 1500x500 with 2 Axes>"
            ]
          },
          "metadata": {},
          "output_type": "display_data"
        }
      ],
      "source": [
        "# train_df에서 유사한 값으로 빈값을 채우기 전후 비교!!!!!!!!!\n",
        "fig, (ax1,ax2) = plt.subplots(1,2,figsize=(15,5))\n",
        "ol = sns.histplot(np.array(train_df['old_LotFrontage'].dropna()),ax=ax1,kde=True,bins=70)\n",
        "lf = sns.histplot(np.array(train_df['LotFrontage']),ax=ax2,kde=True,bins=70,color='red')\n",
        "\n",
        "train_df.drop('old_LotFrontage',axis=1,inplace=True)"
      ]
    },
    {
      "cell_type": "code",
      "execution_count": 261,
      "metadata": {
        "colab": {
          "base_uri": "https://localhost:8080/",
          "height": 449
        },
        "id": "-uI6CKf244jW",
        "outputId": "997fccf9-16b5-486c-fe55-cd0b2f72efee"
      },
      "outputs": [
        {
          "data": {
            "image/png": "[encoded data removed]",
            "text/plain": [
              "<Figure size 1500x500 with 2 Axes>"
            ]
          },
          "metadata": {},
          "output_type": "display_data"
        }
      ],
      "source": [
        "# train_df에서 유사한 값으로 빈값을 채우기 전후 비교!!!!!!!!!\n",
        "fig, (ax1,ax2) = plt.subplots(1,2,figsize=(15,5))\n",
        "ol = sns.histplot(np.array(test_df['old_LotFrontage'].dropna()),ax=ax1,kde=True,bins=70)\n",
        "lf = sns.histplot(np.array(test_df['LotFrontage']),ax=ax2,kde=True,bins=70,color='red')\n",
        "\n",
        "test_df.drop('old_LotFrontage',axis=1,inplace=True)"
      ]
    },
    {
      "cell_type": "code",
      "execution_count": 262,
      "metadata": {
        "colab": {
          "base_uri": "https://localhost:8080/"
        },
        "id": "f3AThnOg5Nq3",
        "outputId": "2dd29019-3fcd-43be-f014-397b850286da"
      },
      "outputs": [
        {
          "data": {
            "text/plain": [
              "0"
            ]
          },
          "execution_count": 262,
          "metadata": {},
          "output_type": "execute_result"
        }
      ],
      "source": [
        "# 빵구난 데이터가 없는지 체크... : 위의 코드들에서 다 실행하고 내려오시면\n",
        "# train_df/ test_df 모두 결측치가 없어야 합니다!!!\n",
        "# 혹시 여기서 0이 각기 안 나오면 위에서 다시 수행하셔야 합니다...!!!\n",
        "train_df.isnull().sum().sum()"
      ]
    },
    {
      "cell_type": "code",
      "execution_count": 263,
      "metadata": {
        "colab": {
          "base_uri": "https://localhost:8080/"
        },
        "id": "f7n0Romd5OEY",
        "outputId": "f8c6f01a-e93d-42fd-ff78-87c4d186c2da"
      },
      "outputs": [
        {
          "data": {
            "text/plain": [
              "0"
            ]
          },
          "execution_count": 263,
          "metadata": {},
          "output_type": "execute_result"
        }
      ],
      "source": [
        "test_df.isnull().sum().sum()"
      ]
    },
    {
      "cell_type": "code",
      "execution_count": 264,
      "metadata": {
        "colab": {
          "base_uri": "https://localhost:8080/"
        },
        "id": "UXEaMpX85Yet",
        "outputId": "297fc56f-3329-4a49-a8b1-bb46604d71f1"
      },
      "outputs": [
        {
          "name": "stdout",
          "output_type": "stream",
          "text": [
            "(1456, 78)\n",
            "(1459, 78)\n"
          ]
        }
      ],
      "source": [
        "print(train_df.shape)\n",
        "print(test_df.shape)"
      ]
    },
    {
      "cell_type": "code",
      "execution_count": 265,
      "metadata": {
        "id": "3TJRA5mI5Y4u"
      },
      "outputs": [],
      "source": [
        "# 모델을 돌리기에 필요한 2가지 요소\n",
        "# 1. 결측치 처리 ----> 위의 진행은 여기까지 진행을 함...\n",
        "# 2. 숫자 데이터로 변환 인코딩 : 라벨인코딩,,, 원핫인코딩!! 기타 etc.."
      ]
    },
    {
      "attachments": {},
      "cell_type": "markdown",
      "metadata": {
        "id": "FAEIi4hDANDl"
      },
      "source": [
        "* 위와 같이 처리를 해서 이상한 값에 대한 것들을 처리를 완료함"
      ]
    },
    {
      "attachments": {},
      "cell_type": "markdown",
      "metadata": {
        "id": "R4jzJtgkANDl"
      },
      "source": [
        "###  변형 및 인코딩"
      ]
    },
    {
      "attachments": {},
      "cell_type": "markdown",
      "metadata": {
        "id": "UrR9wMEkANDl"
      },
      "source": [
        "#### 범주형 데이터 변형"
      ]
    },
    {
      "cell_type": "code",
      "execution_count": 266,
      "metadata": {
        "id": "dvexxgHPANDl"
      },
      "outputs": [],
      "source": [
        "# 원핫인코딩을 할 컬럼들...--> scikit-learn 변형이 코드를 돌려서 작성해야 해서..\n",
        "#                          간단하게 하는 방식 중 하나가 get_dumies()\n",
        "nominals = ['MSSubClass','MSZoning','Street','Alley','LandContour','LotConfig','Neighborhood','Condition1','Condition2','BldgType','HouseStyle','RoofStyle','RoofMatl',\n",
        "           'Exterior1st','Exterior2nd','MasVnrType','Foundation','Heating','CentralAir','GarageType','MiscFeature','SaleType','SaleCondition','MoSold','YrSold']\n"
      ]
    },
    {
      "attachments": {},
      "cell_type": "markdown",
      "metadata": {
        "id": "nQXFeuRGANDl"
      },
      "source": [
        "#### 여기서는 순서가 중요한 변수들"
      ]
    },
    {
      "cell_type": "code",
      "execution_count": 267,
      "metadata": {
        "id": "rjzdQczDANDm"
      },
      "outputs": [],
      "source": [
        "from sklearn.preprocessing import LabelEncoder\n",
        "# 라벨인코딩을 할 컬럼들...\n",
        "ordinals = ['LotShape','LandSlope','OverallQual','OverallCond','ExterQual','ExterCond','BsmtQual',\n",
        "           'BsmtCond','BsmtExposure','BsmtFinType1','BsmtFinType2','HeatingQC','Electrical','KitchenQual',\n",
        "            'Functional','FireplaceQu','GarageFinish','GarageQual','GarageCond','PavedDrive','PoolQC','Fence']\n",
        "# 라벨인코딩을 할 때에 주의해야하는 사항!!!\n",
        "# --> train에서 변환 규칙을 찾아서\n",
        "#     그 규칙대록 train의 변형, test에도 train 규칙을 그대로 변형!!!!\n",
        "# --> ++ test 셋에서 unseen data 나타날 수 있으니...에러 처리를 해야함!!!!\n",
        "# 혹: unseen data를 처리를 안 하면, test 에서 에러가 발생할 수 있음!!!!\n",
        "\n",
        "for ord in ordinals:\n",
        "    # 기존 ord 컬럼에 대해서 적용할 인코딩 모델을 준비...\n",
        "    le = LabelEncoder()\n",
        "    # 변환에 대한 규칙을 학습 : --> 단, train_df에서만 수행!!기준\n",
        "    le.fit(train_df[ord])\n",
        "    # train_df를 기준으로 설정한 기준을 train에 그대로 적용!!!!\n",
        "    train_df[ord] = le.transform(train_df[ord])\n",
        "    #test_df[ord] = le.transform(test_df[ord]) # unseen data 처리;;;;\n",
        "\n",
        "    # test에도 train의 규칙을 적용을 하기는 하는데,,, 처음보는 unseen data처리\n",
        "    # 기존 train 에대한 룰을 체크\n",
        "    prev_class = list(le.classes_)\n",
        "    # test 데이터에서 unqiue한 값들을 보고,,,처음 본 종류가 나타나면,,, 뒤로 추가..\n",
        "    for label in np.unique( test_df[ord]):\n",
        "        if label not in prev_class:\n",
        "            prev_class.append(label)\n",
        "    le.classes_ = np.array(prev_class) # --> test에서 새로운 종류에 대해서도 처리를 하게 됨..\n",
        "    # test에서 새로운 것들을 처리한 갱신 룰을 처리!!!!!\n",
        "    test_df[ord] = le.transform(test_df[ord])\n"
      ]
    },
    {
      "cell_type": "code",
      "execution_count": 268,
      "metadata": {
        "id": "HjAdAScS-Fp4"
      },
      "outputs": [
        {
          "name": "stdout",
          "output_type": "stream",
          "text": [
            "<class 'pandas.core.frame.DataFrame'>\n",
            "Int64Index: 1456 entries, 0 to 1459\n",
            "Data columns (total 78 columns):\n",
            " #   Column         Non-Null Count  Dtype  \n",
            "---  ------         --------------  -----  \n",
            " 0   MSSubClass     1456 non-null   int64  \n",
            " 1   MSZoning       1456 non-null   object \n",
            " 2   LotFrontage    1456 non-null   float64\n",
            " 3   LotArea        1456 non-null   int64  \n",
            " 4   Street         1456 non-null   object \n",
            " 5   Alley          1456 non-null   object \n",
            " 6   LotShape       1456 non-null   int32  \n",
            " 7   LandContour    1456 non-null   object \n",
            " 8   LotConfig      1456 non-null   object \n",
            " 9   LandSlope      1456 non-null   int32  \n",
            " 10  Neighborhood   1456 non-null   object \n",
            " 11  Condition1     1456 non-null   object \n",
            " 12  Condition2     1456 non-null   object \n",
            " 13  BldgType       1456 non-null   object \n",
            " 14  HouseStyle     1456 non-null   object \n",
            " 15  OverallQual    1456 non-null   int64  \n",
            " 16  OverallCond    1456 non-null   int64  \n",
            " 17  YearBuilt      1456 non-null   int64  \n",
            " 18  YearRemodAdd   1456 non-null   int64  \n",
            " 19  RoofStyle      1456 non-null   object \n",
            " 20  RoofMatl       1456 non-null   object \n",
            " 21  Exterior1st    1456 non-null   object \n",
            " 22  Exterior2nd    1456 non-null   object \n",
            " 23  MasVnrType     1456 non-null   object \n",
            " 24  MasVnrArea     1456 non-null   float64\n",
            " 25  ExterQual      1456 non-null   int32  \n",
            " 26  ExterCond      1456 non-null   int32  \n",
            " 27  Foundation     1456 non-null   object \n",
            " 28  BsmtQual       1456 non-null   int32  \n",
            " 29  BsmtCond       1456 non-null   int32  \n",
            " 30  BsmtExposure   1456 non-null   int32  \n",
            " 31  BsmtFinType1   1456 non-null   int32  \n",
            " 32  BsmtFinSF1     1456 non-null   int64  \n",
            " 33  BsmtFinType2   1456 non-null   int32  \n",
            " 34  BsmtFinSF2     1456 non-null   int64  \n",
            " 35  BsmtUnfSF      1456 non-null   int64  \n",
            " 36  TotalBsmtSF    1456 non-null   int64  \n",
            " 37  Heating        1456 non-null   object \n",
            " 38  HeatingQC      1456 non-null   int32  \n",
            " 39  CentralAir     1456 non-null   object \n",
            " 40  Electrical     1456 non-null   int32  \n",
            " 41  1stFlrSF       1456 non-null   int64  \n",
            " 42  2ndFlrSF       1456 non-null   int64  \n",
            " 43  LowQualFinSF   1456 non-null   int64  \n",
            " 44  GrLivArea      1456 non-null   int64  \n",
            " 45  BsmtFullBath   1456 non-null   int64  \n",
            " 46  BsmtHalfBath   1456 non-null   int64  \n",
            " 47  FullBath       1456 non-null   int64  \n",
            " 48  HalfBath       1456 non-null   int64  \n",
            " 49  BedroomAbvGr   1456 non-null   int64  \n",
            " 50  KitchenAbvGr   1456 non-null   int64  \n",
            " 51  KitchenQual    1456 non-null   int32  \n",
            " 52  TotRmsAbvGrd   1456 non-null   int64  \n",
            " 53  Functional     1456 non-null   int32  \n",
            " 54  Fireplaces     1456 non-null   int64  \n",
            " 55  FireplaceQu    1456 non-null   int32  \n",
            " 56  GarageType     1456 non-null   object \n",
            " 57  GarageYrBlt    1456 non-null   float64\n",
            " 58  GarageFinish   1456 non-null   int32  \n",
            " 59  GarageCars     1456 non-null   int64  \n",
            " 60  GarageArea     1456 non-null   int64  \n",
            " 61  GarageQual     1456 non-null   int32  \n",
            " 62  GarageCond     1456 non-null   int32  \n",
            " 63  PavedDrive     1456 non-null   int32  \n",
            " 64  WoodDeckSF     1456 non-null   int64  \n",
            " 65  OpenPorchSF    1456 non-null   int64  \n",
            " 66  EnclosedPorch  1456 non-null   int64  \n",
            " 67  3SsnPorch      1456 non-null   int64  \n",
            " 68  ScreenPorch    1456 non-null   int64  \n",
            " 69  PoolArea       1456 non-null   int64  \n",
            " 70  PoolQC         1456 non-null   int32  \n",
            " 71  Fence          1456 non-null   int32  \n",
            " 72  MiscFeature    1456 non-null   object \n",
            " 73  MiscVal        1456 non-null   int64  \n",
            " 74  MoSold         1456 non-null   int64  \n",
            " 75  YrSold         1456 non-null   int64  \n",
            " 76  SaleType       1456 non-null   object \n",
            " 77  SaleCondition  1456 non-null   object \n",
            "dtypes: float64(3), int32(20), int64(33), object(22)\n",
            "memory usage: 784.9+ KB\n"
          ]
        }
      ],
      "source": [
        "train_df.info()"
      ]
    },
    {
      "attachments": {},
      "cell_type": "markdown",
      "metadata": {
        "id": "ZbTTaRmUANDm"
      },
      "source": [
        "#### House Price에 상관계수가 높은 거의 비슷한 컬럼들을 종합하여서 1개의 컬럼으로  변형"
      ]
    },
    {
      "cell_type": "code",
      "execution_count": 269,
      "metadata": {
        "id": "UYh6O8WTANDm"
      },
      "outputs": [],
      "source": [
        "# 기존의 컬럼들에 대한 병합을 통해서 컬럼 재조정...\n",
        "# --> 기존 컬럼들을 기반으로 재형성/가공/// EDA + 도메인 지식...\n",
        "# ex) GrLivArea , TotalBsmtSF : 면적에 관련된 항목컬럼이라고 생각해서.. 통합...\n",
        "train_df[\"totalArea\"] = train_df[\"GrLivArea\"] + train_df[\"TotalBsmtSF\"]\n",
        "test_df[\"totalArea\"] = test_df[\"GrLivArea\"] + test_df[\"TotalBsmtSF\"]"
      ]
    },
    {
      "attachments": {},
      "cell_type": "markdown",
      "metadata": {
        "id": "cLmyu-qjANDm"
      },
      "source": [
        "#### 수치 데이터의 분포를 보고, 얼마나 치우쳐서 있는지 확인 : +1보다 크고, -1보다 작으면 상당히 skew되어 있으며, -1~-0.5/ 0.5~1 사이에는 적당히 skew, -0.5~ 0.5 사이는 적당히 잘 분포"
      ]
    },
    {
      "cell_type": "code",
      "execution_count": null,
      "metadata": {
        "id": "g1pkNl-rANDm",
        "outputId": "6693d731-0de1-48da-c24c-89463255288e"
      },
      "outputs": [],
      "source": []
    },
    {
      "attachments": {},
      "cell_type": "markdown",
      "metadata": {
        "id": "rF4Nq00LANDm"
      },
      "source": [
        "#### 위의 결과들이 엄청나게 skew되어 있어서 이에 대한 변형 수행 : log1p사용 : log(x+1)"
      ]
    },
    {
      "cell_type": "code",
      "execution_count": null,
      "metadata": {
        "id": "O6qewRts_Qpp"
      },
      "outputs": [],
      "source": []
    },
    {
      "cell_type": "code",
      "execution_count": 270,
      "metadata": {
        "colab": {
          "base_uri": "https://localhost:8080/"
        },
        "id": "nQw7Ndqj_RFm",
        "outputId": "108c3fcc-d788-4a20-b459-2f33759b9b6f"
      },
      "outputs": [
        {
          "name": "stdout",
          "output_type": "stream",
          "text": [
            "(1456, 79)\n",
            "(1459, 79)\n"
          ]
        }
      ],
      "source": [
        "print(train_df.shape)\n",
        "print(test_df.shape)"
      ]
    },
    {
      "cell_type": "code",
      "execution_count": null,
      "metadata": {
        "id": "JEcVgrCAANDn"
      },
      "outputs": [],
      "source": []
    },
    {
      "attachments": {},
      "cell_type": "markdown",
      "metadata": {
        "id": "POiLU_c_ANDn"
      },
      "source": [
        "#### 기타 아직 변형이 안 되어 있는 아주 중요하지 않은 변수들(카테고리)을 처리"
      ]
    },
    {
      "cell_type": "code",
      "execution_count": 271,
      "metadata": {
        "colab": {
          "base_uri": "https://localhost:8080/"
        },
        "id": "0HXATWFoANDn",
        "outputId": "70c835f9-0ca6-41fd-88dd-cace87539af3"
      },
      "outputs": [
        {
          "name": "stdout",
          "output_type": "stream",
          "text": [
            "(1456, 249)\n",
            "(1459, 237)\n"
          ]
        }
      ],
      "source": [
        "# 위에서 남겨둔 원핫인코딩 기반의 인코딩을 수행을  하려고 함...\n",
        "# -->원핫인코딩을 하기에는 scikit-learn에서는 조금 불편하고 ,코드가 더 길어져..\n",
        "# pandas에서 ㄷ있는 get_dummies 메서드를 활용해서 처리를 하겠습니다..\n",
        "\n",
        "# 예) 국가 컬럼이 있다고 한다면,,,\n",
        "# train : 대한민국, 일본, 미국, 중국 ---> \n",
        "# test  : 대한민국, 일본, 중국, 싱가포르.--> train에 있는 미국 컬럼이 날라가고\n",
        "#                                        --> train에 없는 싱가폴 컬럼 생성.\n",
        "# ----> train/test의 컬럼에 대한 통일이 깨지게 됩니다!!!!!\n",
        "# train/test : 대한민국, 일본, 미국, 중국, 싱카포르\n",
        "\n",
        "# --> train/test에서 각기 다른 컬럼들이 생성이 될 수 있어서 모두 처리!!!!!\n",
        "#     컬럼 이름, 컬럼의 수도 각기 달라질 수 있으니 공통화 작업이 추가적으로 필요!!!\n",
        "#     국적_대한민국,국적_일본\n",
        "nominals = ['MSSubClass','MSZoning','Street','Alley','LandContour','LotConfig','Neighborhood','Condition1','Condition2','BldgType','HouseStyle','RoofStyle','RoofMatl',\n",
        "           'Exterior1st','Exterior2nd','MasVnrType','Foundation','Heating','CentralAir','GarageType','MiscFeature','SaleType','SaleCondition','MoSold','YrSold']\n",
        "\n",
        "\n",
        "train_df = pd.get_dummies( train_df, columns= nominals, prefix_sep=\"_\")\n",
        "test_df  = pd.get_dummies( test_df, columns=nominals, prefix_sep=\"_\")\n",
        "print(train_df.shape)\n",
        "print(test_df.shape)\n"
      ]
    },
    {
      "cell_type": "code",
      "execution_count": 272,
      "metadata": {
        "id": "Z10DRp2CButz"
      },
      "outputs": [],
      "source": [
        "# 일반적으로 원핫인코딩 방식은 손 댈 부분이 많아요;;;;;\n",
        "# Why? 모양이 값에 따라서 틀어지는 것이 각양각색이 되기 때문에!!!!\n",
        "# --> 틀어진 모양에 대해서 수정을 하는 부분이 필요!!!!!! 기준 : train기준!!!\n",
        "# case1) train에서만 존재를 하는 컬럼, test에서는 없는 컬럼.\n",
        "#        --> train에만 있는 컬럼을 test에 모양상 추가...\n",
        "# case2) train에서는 없지만,, test에서 unseen data가 test에서만 있는 컬럼.\n",
        "#        --> test에서 해당 컬럼을 제거!!!"
      ]
    },
    {
      "cell_type": "code",
      "execution_count": 273,
      "metadata": {
        "colab": {
          "base_uri": "https://localhost:8080/"
        },
        "id": "fxG4LHKnCik4",
        "outputId": "ffe2d71b-494f-4443-d77c-3b3ca0627eb8"
      },
      "outputs": [
        {
          "name": "stdout",
          "output_type": "stream",
          "text": [
            "컬럼 추가: Condition2_RRAe\n",
            "컬럼 추가: Condition2_RRAn\n",
            "컬럼 추가: Condition2_RRNn\n",
            "컬럼 추가: HouseStyle_2.5Fin\n",
            "컬럼 추가: RoofMatl_Membran\n",
            "컬럼 추가: RoofMatl_Metal\n",
            "컬럼 추가: RoofMatl_Roll\n",
            "컬럼 추가: Exterior1st_ImStucc\n",
            "컬럼 추가: Exterior1st_Stone\n",
            "컬럼 추가: Exterior2nd_Other\n",
            "컬럼 추가: Heating_Floor\n",
            "컬럼 추가: Heating_OthW\n",
            "컬럼 추가: MiscFeature_TenC\n",
            "테스트에서 발생한 unseen data: MSSubClass_150\n"
          ]
        }
      ],
      "source": [
        "# 처리할 데이터들에 대한 컬럼을 리스트업...\n",
        "# --> get_dummies에서 _를 통해서 새롭게 생성된 컬럼들 입니다...\n",
        "cat_dummies = [ col for col in train_df if \"_\" in col and \n",
        "                        col.split(\"_\")[0] in nominals ]\n",
        "# --> train_df를 기준으로 get_dummies를 했을 때 생성된 컬럼들을 리스트업!!!!!\n",
        "# 처리할 기준에 대한 컬럼을 리스트업!!!!\n",
        "# case1) train에만 있고, test에는 없는 경우 --> test에 컬럼을 추가, 0으로 채우자..\n",
        "for col in cat_dummies:\n",
        "    if col not in test_df.columns: # --> train에만 추가된 컬럼들이라면..\n",
        "        print(\"컬럼 추가:\", col)\n",
        "        test_df[col] = 0\n",
        "# case2) test의 unseen data에 대한 부분...\n",
        "#        조건: 파생된 컬럼, 앞 부분이 처리한 종류, train에서 파생되지 않아야 함.\n",
        "for col in test_df.columns:\n",
        "    if (\"_\" in col) and (col.split(\"_\")[0] in nominals) and ( col not in cat_dummies):\n",
        "        print(\"테스트에서 발생한 unseen data:\", col)\n",
        "        test_df.drop( col, axis =1, inplace=True)"
      ]
    },
    {
      "cell_type": "code",
      "execution_count": 274,
      "metadata": {
        "colab": {
          "base_uri": "https://localhost:8080/"
        },
        "id": "W_vT7TtRCixo",
        "outputId": "3e47a420-81a3-4a5d-8e0d-f6e92390500c"
      },
      "outputs": [
        {
          "name": "stdout",
          "output_type": "stream",
          "text": [
            "(1456, 249)\n",
            "(1459, 249)\n"
          ]
        }
      ],
      "source": [
        "print(train_df.shape)\n",
        "print(test_df.shape)"
      ]
    },
    {
      "cell_type": "code",
      "execution_count": 275,
      "metadata": {
        "id": "gxcaGnA8Bu2e"
      },
      "outputs": [],
      "source": [
        "#### + opt) 숫자값들에 대한 조정 scaler\n",
        "#     0~255 : 0~1 min/max scaler, 평균0/표준편차1로 : standrdscaler\n",
        "#            (값은 0~1 범위, 분포 틀어), (값은-무한대+무한대, 정규분포!!!)\n",
        "# ==> 선형모델을 기반으로 하기 위해서 모든 숫치 값들을 정규분포틱하게 변경!!!!"
      ]
    },
    {
      "cell_type": "code",
      "execution_count": 276,
      "metadata": {
        "id": "vt-G0vTkFDDS"
      },
      "outputs": [],
      "source": [
        "from sklearn.preprocessing import StandardScaler"
      ]
    },
    {
      "cell_type": "code",
      "execution_count": 277,
      "metadata": {
        "colab": {
          "base_uri": "https://localhost:8080/",
          "height": 74
        },
        "id": "bPP9TquqFDht",
        "outputId": "8662c72b-8740-442a-bd9a-d310d36b6ea9"
      },
      "outputs": [
        {
          "data": {
            "text/html": [
              "<style>#sk-container-id-11 {color: black;background-color: white;}#sk-container-id-11 pre{padding: 0;}#sk-container-id-11 div.sk-toggleable {background-color: white;}#sk-container-id-11 label.sk-toggleable__label {cursor: pointer;display: block;width: 100%;margin-bottom: 0;padding: 0.3em;box-sizing: border-box;text-align: center;}#sk-container-id-11 label.sk-toggleable__label-arrow:before {content: \"▸\";float: left;margin-right: 0.25em;color: #696969;}#sk-container-id-11 label.sk-toggleable__label-arrow:hover:before {color: black;}#sk-container-id-11 div.sk-estimator:hover label.sk-toggleable__label-arrow:before {color: black;}#sk-container-id-11 div.sk-toggleable__content {max-height: 0;max-width: 0;overflow: hidden;text-align: left;background-color: #f0f8ff;}#sk-container-id-11 div.sk-toggleable__content pre {margin: 0.2em;color: black;border-radius: 0.25em;background-color: #f0f8ff;}#sk-container-id-11 input.sk-toggleable__control:checked~div.sk-toggleable__content {max-height: 200px;max-width: 100%;overflow: auto;}#sk-container-id-11 input.sk-toggleable__control:checked~label.sk-toggleable__label-arrow:before {content: \"▾\";}#sk-container-id-11 div.sk-estimator input.sk-toggleable__control:checked~label.sk-toggleable__label {background-color: #d4ebff;}#sk-container-id-11 div.sk-label input.sk-toggleable__control:checked~label.sk-toggleable__label {background-color: #d4ebff;}#sk-container-id-11 input.sk-hidden--visually {border: 0;clip: rect(1px 1px 1px 1px);clip: rect(1px, 1px, 1px, 1px);height: 1px;margin: -1px;overflow: hidden;padding: 0;position: absolute;width: 1px;}#sk-container-id-11 div.sk-estimator {font-family: monospace;background-color: #f0f8ff;border: 1px dotted black;border-radius: 0.25em;box-sizing: border-box;margin-bottom: 0.5em;}#sk-container-id-11 div.sk-estimator:hover {background-color: #d4ebff;}#sk-container-id-11 div.sk-parallel-item::after {content: \"\";width: 100%;border-bottom: 1px solid gray;flex-grow: 1;}#sk-container-id-11 div.sk-label:hover label.sk-toggleable__label {background-color: #d4ebff;}#sk-container-id-11 div.sk-serial::before {content: \"\";position: absolute;border-left: 1px solid gray;box-sizing: border-box;top: 0;bottom: 0;left: 50%;z-index: 0;}#sk-container-id-11 div.sk-serial {display: flex;flex-direction: column;align-items: center;background-color: white;padding-right: 0.2em;padding-left: 0.2em;position: relative;}#sk-container-id-11 div.sk-item {position: relative;z-index: 1;}#sk-container-id-11 div.sk-parallel {display: flex;align-items: stretch;justify-content: center;background-color: white;position: relative;}#sk-container-id-11 div.sk-item::before, #sk-container-id-11 div.sk-parallel-item::before {content: \"\";position: absolute;border-left: 1px solid gray;box-sizing: border-box;top: 0;bottom: 0;left: 50%;z-index: -1;}#sk-container-id-11 div.sk-parallel-item {display: flex;flex-direction: column;z-index: 1;position: relative;background-color: white;}#sk-container-id-11 div.sk-parallel-item:first-child::after {align-self: flex-end;width: 50%;}#sk-container-id-11 div.sk-parallel-item:last-child::after {align-self: flex-start;width: 50%;}#sk-container-id-11 div.sk-parallel-item:only-child::after {width: 0;}#sk-container-id-11 div.sk-dashed-wrapped {border: 1px dashed gray;margin: 0 0.4em 0.5em 0.4em;box-sizing: border-box;padding-bottom: 0.4em;background-color: white;}#sk-container-id-11 div.sk-label label {font-family: monospace;font-weight: bold;display: inline-block;line-height: 1.2em;}#sk-container-id-11 div.sk-label-container {text-align: center;}#sk-container-id-11 div.sk-container {/* jupyter's `normalize.less` sets `[hidden] { display: none; }` but bootstrap.min.css set `[hidden] { display: none !important; }` so we also need the `!important` here to be able to override the default hidden behavior on the sphinx rendered scikit-learn.org. See: https://github.com/scikit-learn/scikit-learn/issues/21755 */display: inline-block !important;position: relative;}#sk-container-id-11 div.sk-text-repr-fallback {display: none;}</style><div id=\"sk-container-id-11\" class=\"sk-top-container\"><div class=\"sk-text-repr-fallback\"><pre>StandardScaler()</pre><b>In a Jupyter environment, please rerun this cell to show the HTML representation or trust the notebook. <br />On GitHub, the HTML representation is unable to render, please try loading this page with nbviewer.org.</b></div><div class=\"sk-container\" hidden><div class=\"sk-item\"><div class=\"sk-estimator sk-toggleable\"><input class=\"sk-toggleable__control sk-hidden--visually\" id=\"sk-estimator-id-29\" type=\"checkbox\" checked><label for=\"sk-estimator-id-29\" class=\"sk-toggleable__label sk-toggleable__label-arrow\">StandardScaler</label><div class=\"sk-toggleable__content\"><pre>StandardScaler()</pre></div></div></div></div></div>"
            ],
            "text/plain": [
              "StandardScaler()"
            ]
          },
          "execution_count": 277,
          "metadata": {},
          "output_type": "execute_result"
        }
      ],
      "source": [
        "# 정규화 작업을 진행을 하겠습니다!!!!\n",
        "scaler = StandardScaler()\n",
        "# 규칙을 train 에서 학습\n",
        "scaler.fit(train_df)"
      ]
    },
    {
      "cell_type": "code",
      "execution_count": 278,
      "metadata": {
        "id": "dZG549Z7FgIx"
      },
      "outputs": [],
      "source": [
        "# train_df에 대해서 규칙을 찾았으면,,,\n",
        "# train_df에도 그 룰 대로 변환, test_df에도 train_df 룰대로 변환!!!\n",
        "X_train = scaler.transform(train_df)\n",
        "X_train = pd.DataFrame(X_train, columns= train_df.columns) \n",
        "\n",
        "# test에서도 동일한 규칙 적용 * 컬럼이름 재 정리..\n",
        "test_df = pd.DataFrame(test_df, columns=train_df.columns ) # 버전 기능 상...\n",
        "# 참고) 최신 번전에서는 transform 할 때 컬럼/모양이 맞춰진 상태에서 하도록 하고 있음..\n",
        "X_test = scaler.transform(test_df)\n",
        "X_test = pd.DataFrame(X_test, columns=train_df.columns )"
      ]
    },
    {
      "cell_type": "code",
      "execution_count": 279,
      "metadata": {
        "colab": {
          "base_uri": "https://localhost:8080/",
          "height": 299
        },
        "id": "Xc30pC5yGKDW",
        "outputId": "9be9cacb-5563-41ee-d819-07c2a400be4c"
      },
      "outputs": [
        {
          "data": {
            "text/html": [
              "<div>\n",
              "<style scoped>\n",
              "    .dataframe tbody tr th:only-of-type {\n",
              "        vertical-align: middle;\n",
              "    }\n",
              "\n",
              "    .dataframe tbody tr th {\n",
              "        vertical-align: top;\n",
              "    }\n",
              "\n",
              "    .dataframe thead th {\n",
              "        text-align: right;\n",
              "    }\n",
              "</style>\n",
              "<table border=\"1\" class=\"dataframe\">\n",
              "  <thead>\n",
              "    <tr style=\"text-align: right;\">\n",
              "      <th></th>\n",
              "      <th>LotFrontage</th>\n",
              "      <th>LotArea</th>\n",
              "      <th>LotShape</th>\n",
              "      <th>LandSlope</th>\n",
              "      <th>OverallQual</th>\n",
              "      <th>OverallCond</th>\n",
              "      <th>YearBuilt</th>\n",
              "      <th>YearRemodAdd</th>\n",
              "      <th>MasVnrArea</th>\n",
              "      <th>ExterQual</th>\n",
              "      <th>...</th>\n",
              "      <th>MoSold_8</th>\n",
              "      <th>MoSold_9</th>\n",
              "      <th>MoSold_10</th>\n",
              "      <th>MoSold_11</th>\n",
              "      <th>MoSold_12</th>\n",
              "      <th>YrSold_2006</th>\n",
              "      <th>YrSold_2007</th>\n",
              "      <th>YrSold_2008</th>\n",
              "      <th>YrSold_2009</th>\n",
              "      <th>YrSold_2010</th>\n",
              "    </tr>\n",
              "  </thead>\n",
              "  <tbody>\n",
              "    <tr>\n",
              "      <th>0</th>\n",
              "      <td>-0.229601</td>\n",
              "      <td>-0.202770</td>\n",
              "      <td>0.748359</td>\n",
              "      <td>-0.226042</td>\n",
              "      <td>0.665646</td>\n",
              "      <td>-0.517461</td>\n",
              "      <td>1.053769</td>\n",
              "      <td>0.880629</td>\n",
              "      <td>0.533895</td>\n",
              "      <td>-0.796209</td>\n",
              "      <td>...</td>\n",
              "      <td>-0.302414</td>\n",
              "      <td>-0.212664</td>\n",
              "      <td>-0.253629</td>\n",
              "      <td>-0.239523</td>\n",
              "      <td>-0.205508</td>\n",
              "      <td>-0.524363</td>\n",
              "      <td>-0.537118</td>\n",
              "      <td>1.950713</td>\n",
              "      <td>-0.549841</td>\n",
              "      <td>-0.369611</td>\n",
              "    </tr>\n",
              "    <tr>\n",
              "      <th>1</th>\n",
              "      <td>0.473841</td>\n",
              "      <td>-0.086107</td>\n",
              "      <td>0.748359</td>\n",
              "      <td>-0.226042</td>\n",
              "      <td>-0.064709</td>\n",
              "      <td>2.176545</td>\n",
              "      <td>0.159469</td>\n",
              "      <td>-0.427190</td>\n",
              "      <td>-0.573757</td>\n",
              "      <td>0.663841</td>\n",
              "      <td>...</td>\n",
              "      <td>-0.302414</td>\n",
              "      <td>-0.212664</td>\n",
              "      <td>-0.253629</td>\n",
              "      <td>-0.239523</td>\n",
              "      <td>-0.205508</td>\n",
              "      <td>-0.524363</td>\n",
              "      <td>1.861789</td>\n",
              "      <td>-0.512633</td>\n",
              "      <td>-0.549841</td>\n",
              "      <td>-0.369611</td>\n",
              "    </tr>\n",
              "    <tr>\n",
              "      <th>2</th>\n",
              "      <td>-0.088913</td>\n",
              "      <td>0.081281</td>\n",
              "      <td>-1.382561</td>\n",
              "      <td>-0.226042</td>\n",
              "      <td>0.665646</td>\n",
              "      <td>-0.517461</td>\n",
              "      <td>0.987524</td>\n",
              "      <td>0.832191</td>\n",
              "      <td>0.341751</td>\n",
              "      <td>-0.796209</td>\n",
              "      <td>...</td>\n",
              "      <td>-0.302414</td>\n",
              "      <td>4.702245</td>\n",
              "      <td>-0.253629</td>\n",
              "      <td>-0.239523</td>\n",
              "      <td>-0.205508</td>\n",
              "      <td>-0.524363</td>\n",
              "      <td>-0.537118</td>\n",
              "      <td>1.950713</td>\n",
              "      <td>-0.549841</td>\n",
              "      <td>-0.369611</td>\n",
              "    </tr>\n",
              "    <tr>\n",
              "      <th>3</th>\n",
              "      <td>-0.464082</td>\n",
              "      <td>-0.091179</td>\n",
              "      <td>-1.382561</td>\n",
              "      <td>-0.226042</td>\n",
              "      <td>0.665646</td>\n",
              "      <td>-0.517461</td>\n",
              "      <td>-1.860986</td>\n",
              "      <td>-0.717817</td>\n",
              "      <td>-0.573757</td>\n",
              "      <td>0.663841</td>\n",
              "      <td>...</td>\n",
              "      <td>-0.302414</td>\n",
              "      <td>-0.212664</td>\n",
              "      <td>-0.253629</td>\n",
              "      <td>-0.239523</td>\n",
              "      <td>-0.205508</td>\n",
              "      <td>1.907077</td>\n",
              "      <td>-0.537118</td>\n",
              "      <td>-0.512633</td>\n",
              "      <td>-0.549841</td>\n",
              "      <td>-0.369611</td>\n",
              "    </tr>\n",
              "    <tr>\n",
              "      <th>4</th>\n",
              "      <td>0.661426</td>\n",
              "      <td>0.386636</td>\n",
              "      <td>-1.382561</td>\n",
              "      <td>-0.226042</td>\n",
              "      <td>1.396000</td>\n",
              "      <td>-0.517461</td>\n",
              "      <td>0.954402</td>\n",
              "      <td>0.735316</td>\n",
              "      <td>1.404192</td>\n",
              "      <td>-0.796209</td>\n",
              "      <td>...</td>\n",
              "      <td>-0.302414</td>\n",
              "      <td>-0.212664</td>\n",
              "      <td>-0.253629</td>\n",
              "      <td>-0.239523</td>\n",
              "      <td>4.866001</td>\n",
              "      <td>-0.524363</td>\n",
              "      <td>-0.537118</td>\n",
              "      <td>1.950713</td>\n",
              "      <td>-0.549841</td>\n",
              "      <td>-0.369611</td>\n",
              "    </tr>\n",
              "  </tbody>\n",
              "</table>\n",
              "<p>5 rows × 249 columns</p>\n",
              "</div>"
            ],
            "text/plain": [
              "   LotFrontage   LotArea  LotShape  LandSlope  OverallQual  OverallCond  \\\n",
              "0    -0.229601 -0.202770  0.748359  -0.226042     0.665646    -0.517461   \n",
              "1     0.473841 -0.086107  0.748359  -0.226042    -0.064709     2.176545   \n",
              "2    -0.088913  0.081281 -1.382561  -0.226042     0.665646    -0.517461   \n",
              "3    -0.464082 -0.091179 -1.382561  -0.226042     0.665646    -0.517461   \n",
              "4     0.661426  0.386636 -1.382561  -0.226042     1.396000    -0.517461   \n",
              "\n",
              "   YearBuilt  YearRemodAdd  MasVnrArea  ExterQual  ...  MoSold_8  MoSold_9  \\\n",
              "0   1.053769      0.880629    0.533895  -0.796209  ... -0.302414 -0.212664   \n",
              "1   0.159469     -0.427190   -0.573757   0.663841  ... -0.302414 -0.212664   \n",
              "2   0.987524      0.832191    0.341751  -0.796209  ... -0.302414  4.702245   \n",
              "3  -1.860986     -0.717817   -0.573757   0.663841  ... -0.302414 -0.212664   \n",
              "4   0.954402      0.735316    1.404192  -0.796209  ... -0.302414 -0.212664   \n",
              "\n",
              "   MoSold_10  MoSold_11  MoSold_12  YrSold_2006  YrSold_2007  YrSold_2008  \\\n",
              "0  -0.253629  -0.239523  -0.205508    -0.524363    -0.537118     1.950713   \n",
              "1  -0.253629  -0.239523  -0.205508    -0.524363     1.861789    -0.512633   \n",
              "2  -0.253629  -0.239523  -0.205508    -0.524363    -0.537118     1.950713   \n",
              "3  -0.253629  -0.239523  -0.205508     1.907077    -0.537118    -0.512633   \n",
              "4  -0.253629  -0.239523   4.866001    -0.524363    -0.537118     1.950713   \n",
              "\n",
              "   YrSold_2009  YrSold_2010  \n",
              "0    -0.549841    -0.369611  \n",
              "1    -0.549841    -0.369611  \n",
              "2    -0.549841    -0.369611  \n",
              "3    -0.549841    -0.369611  \n",
              "4    -0.549841    -0.369611  \n",
              "\n",
              "[5 rows x 249 columns]"
            ]
          },
          "execution_count": 279,
          "metadata": {},
          "output_type": "execute_result"
        }
      ],
      "source": [
        "X_train.head()"
      ]
    },
    {
      "cell_type": "code",
      "execution_count": 280,
      "metadata": {
        "colab": {
          "base_uri": "https://localhost:8080/",
          "height": 35
        },
        "id": "e1mlNH0yGc9R",
        "outputId": "5b8f0c5f-bbc5-4844-e1da-b3181b074375"
      },
      "outputs": [
        {
          "data": {
            "text/plain": [
              "'Neighborhood_NAmes'"
            ]
          },
          "execution_count": 280,
          "metadata": {},
          "output_type": "execute_result"
        }
      ],
      "source": [
        "X_train.columns[100]"
      ]
    },
    {
      "cell_type": "code",
      "execution_count": 281,
      "metadata": {
        "colab": {
          "base_uri": "https://localhost:8080/",
          "height": 35
        },
        "id": "pxM00wIOGjHo",
        "outputId": "12462d53-44f3-406c-f56b-7583c1439b91"
      },
      "outputs": [
        {
          "data": {
            "text/plain": [
              "'Neighborhood_NAmes'"
            ]
          },
          "execution_count": 281,
          "metadata": {},
          "output_type": "execute_result"
        }
      ],
      "source": [
        "X_test.columns[100]"
      ]
    },
    {
      "cell_type": "code",
      "execution_count": 282,
      "metadata": {
        "colab": {
          "base_uri": "https://localhost:8080/",
          "height": 299
        },
        "id": "y2z_yxV0BvMK",
        "outputId": "80743c43-9663-4427-a8ec-04a71859bdc2"
      },
      "outputs": [
        {
          "data": {
            "text/html": [
              "<div>\n",
              "<style scoped>\n",
              "    .dataframe tbody tr th:only-of-type {\n",
              "        vertical-align: middle;\n",
              "    }\n",
              "\n",
              "    .dataframe tbody tr th {\n",
              "        vertical-align: top;\n",
              "    }\n",
              "\n",
              "    .dataframe thead th {\n",
              "        text-align: right;\n",
              "    }\n",
              "</style>\n",
              "<table border=\"1\" class=\"dataframe\">\n",
              "  <thead>\n",
              "    <tr style=\"text-align: right;\">\n",
              "      <th></th>\n",
              "      <th>LotFrontage</th>\n",
              "      <th>LotArea</th>\n",
              "      <th>LotShape</th>\n",
              "      <th>LandSlope</th>\n",
              "      <th>OverallQual</th>\n",
              "      <th>OverallCond</th>\n",
              "      <th>YearBuilt</th>\n",
              "      <th>YearRemodAdd</th>\n",
              "      <th>MasVnrArea</th>\n",
              "      <th>ExterQual</th>\n",
              "      <th>...</th>\n",
              "      <th>MoSold_8</th>\n",
              "      <th>MoSold_9</th>\n",
              "      <th>MoSold_10</th>\n",
              "      <th>MoSold_11</th>\n",
              "      <th>MoSold_12</th>\n",
              "      <th>YrSold_2006</th>\n",
              "      <th>YrSold_2007</th>\n",
              "      <th>YrSold_2008</th>\n",
              "      <th>YrSold_2009</th>\n",
              "      <th>YrSold_2010</th>\n",
              "    </tr>\n",
              "  </thead>\n",
              "  <tbody>\n",
              "    <tr>\n",
              "      <th>0</th>\n",
              "      <td>0.473841</td>\n",
              "      <td>0.119019</td>\n",
              "      <td>0.748359</td>\n",
              "      <td>-0.226042</td>\n",
              "      <td>-0.795063</td>\n",
              "      <td>0.380541</td>\n",
              "      <td>-0.337364</td>\n",
              "      <td>-1.153757</td>\n",
              "      <td>-0.573757</td>\n",
              "      <td>0.663841</td>\n",
              "      <td>...</td>\n",
              "      <td>-0.302414</td>\n",
              "      <td>-0.212664</td>\n",
              "      <td>-0.253629</td>\n",
              "      <td>-0.239523</td>\n",
              "      <td>-0.205508</td>\n",
              "      <td>-0.524363</td>\n",
              "      <td>-0.537118</td>\n",
              "      <td>-0.512633</td>\n",
              "      <td>-0.549841</td>\n",
              "      <td>2.70555</td>\n",
              "    </tr>\n",
              "    <tr>\n",
              "      <th>1</th>\n",
              "      <td>0.520737</td>\n",
              "      <td>0.387346</td>\n",
              "      <td>-1.382561</td>\n",
              "      <td>-0.226042</td>\n",
              "      <td>-0.064709</td>\n",
              "      <td>0.380541</td>\n",
              "      <td>-0.436731</td>\n",
              "      <td>-1.299070</td>\n",
              "      <td>0.036582</td>\n",
              "      <td>0.663841</td>\n",
              "      <td>...</td>\n",
              "      <td>-0.302414</td>\n",
              "      <td>-0.212664</td>\n",
              "      <td>-0.253629</td>\n",
              "      <td>-0.239523</td>\n",
              "      <td>-0.205508</td>\n",
              "      <td>-0.524363</td>\n",
              "      <td>-0.537118</td>\n",
              "      <td>-0.512633</td>\n",
              "      <td>-0.549841</td>\n",
              "      <td>2.70555</td>\n",
              "    </tr>\n",
              "    <tr>\n",
              "      <th>2</th>\n",
              "      <td>0.192464</td>\n",
              "      <td>0.343014</td>\n",
              "      <td>-1.382561</td>\n",
              "      <td>-0.226042</td>\n",
              "      <td>-0.795063</td>\n",
              "      <td>-0.517461</td>\n",
              "      <td>0.855035</td>\n",
              "      <td>0.638440</td>\n",
              "      <td>-0.573757</td>\n",
              "      <td>0.663841</td>\n",
              "      <td>...</td>\n",
              "      <td>-0.302414</td>\n",
              "      <td>-0.212664</td>\n",
              "      <td>-0.253629</td>\n",
              "      <td>-0.239523</td>\n",
              "      <td>-0.205508</td>\n",
              "      <td>-0.524363</td>\n",
              "      <td>-0.537118</td>\n",
              "      <td>-0.512633</td>\n",
              "      <td>-0.549841</td>\n",
              "      <td>2.70555</td>\n",
              "    </tr>\n",
              "    <tr>\n",
              "      <th>3</th>\n",
              "      <td>0.380049</td>\n",
              "      <td>-0.047760</td>\n",
              "      <td>-1.382561</td>\n",
              "      <td>-0.226042</td>\n",
              "      <td>-0.064709</td>\n",
              "      <td>0.380541</td>\n",
              "      <td>0.888158</td>\n",
              "      <td>0.638440</td>\n",
              "      <td>-0.460731</td>\n",
              "      <td>0.663841</td>\n",
              "      <td>...</td>\n",
              "      <td>-0.302414</td>\n",
              "      <td>-0.212664</td>\n",
              "      <td>-0.253629</td>\n",
              "      <td>-0.239523</td>\n",
              "      <td>-0.205508</td>\n",
              "      <td>-0.524363</td>\n",
              "      <td>-0.537118</td>\n",
              "      <td>-0.512633</td>\n",
              "      <td>-0.549841</td>\n",
              "      <td>2.70555</td>\n",
              "    </tr>\n",
              "    <tr>\n",
              "      <th>4</th>\n",
              "      <td>-1.261317</td>\n",
              "      <td>-0.552255</td>\n",
              "      <td>-1.382561</td>\n",
              "      <td>-0.226042</td>\n",
              "      <td>1.396000</td>\n",
              "      <td>-0.517461</td>\n",
              "      <td>0.689424</td>\n",
              "      <td>0.347814</td>\n",
              "      <td>-0.573757</td>\n",
              "      <td>-0.796209</td>\n",
              "      <td>...</td>\n",
              "      <td>-0.302414</td>\n",
              "      <td>-0.212664</td>\n",
              "      <td>-0.253629</td>\n",
              "      <td>-0.239523</td>\n",
              "      <td>-0.205508</td>\n",
              "      <td>-0.524363</td>\n",
              "      <td>-0.537118</td>\n",
              "      <td>-0.512633</td>\n",
              "      <td>-0.549841</td>\n",
              "      <td>2.70555</td>\n",
              "    </tr>\n",
              "  </tbody>\n",
              "</table>\n",
              "<p>5 rows × 249 columns</p>\n",
              "</div>"
            ],
            "text/plain": [
              "   LotFrontage   LotArea  LotShape  LandSlope  OverallQual  OverallCond  \\\n",
              "0     0.473841  0.119019  0.748359  -0.226042    -0.795063     0.380541   \n",
              "1     0.520737  0.387346 -1.382561  -0.226042    -0.064709     0.380541   \n",
              "2     0.192464  0.343014 -1.382561  -0.226042    -0.795063    -0.517461   \n",
              "3     0.380049 -0.047760 -1.382561  -0.226042    -0.064709     0.380541   \n",
              "4    -1.261317 -0.552255 -1.382561  -0.226042     1.396000    -0.517461   \n",
              "\n",
              "   YearBuilt  YearRemodAdd  MasVnrArea  ExterQual  ...  MoSold_8  MoSold_9  \\\n",
              "0  -0.337364     -1.153757   -0.573757   0.663841  ... -0.302414 -0.212664   \n",
              "1  -0.436731     -1.299070    0.036582   0.663841  ... -0.302414 -0.212664   \n",
              "2   0.855035      0.638440   -0.573757   0.663841  ... -0.302414 -0.212664   \n",
              "3   0.888158      0.638440   -0.460731   0.663841  ... -0.302414 -0.212664   \n",
              "4   0.689424      0.347814   -0.573757  -0.796209  ... -0.302414 -0.212664   \n",
              "\n",
              "   MoSold_10  MoSold_11  MoSold_12  YrSold_2006  YrSold_2007  YrSold_2008  \\\n",
              "0  -0.253629  -0.239523  -0.205508    -0.524363    -0.537118    -0.512633   \n",
              "1  -0.253629  -0.239523  -0.205508    -0.524363    -0.537118    -0.512633   \n",
              "2  -0.253629  -0.239523  -0.205508    -0.524363    -0.537118    -0.512633   \n",
              "3  -0.253629  -0.239523  -0.205508    -0.524363    -0.537118    -0.512633   \n",
              "4  -0.253629  -0.239523  -0.205508    -0.524363    -0.537118    -0.512633   \n",
              "\n",
              "   YrSold_2009  YrSold_2010  \n",
              "0    -0.549841      2.70555  \n",
              "1    -0.549841      2.70555  \n",
              "2    -0.549841      2.70555  \n",
              "3    -0.549841      2.70555  \n",
              "4    -0.549841      2.70555  \n",
              "\n",
              "[5 rows x 249 columns]"
            ]
          },
          "execution_count": 282,
          "metadata": {},
          "output_type": "execute_result"
        }
      ],
      "source": [
        "X_test.head()"
      ]
    },
    {
      "cell_type": "code",
      "execution_count": null,
      "metadata": {
        "id": "Pdogk1pkHH5t"
      },
      "outputs": [],
      "source": []
    },
    {
      "cell_type": "code",
      "execution_count": 283,
      "metadata": {
        "id": "sx8R0QUKHICv"
      },
      "outputs": [],
      "source": [
        "# 만든어진 데이터 셋이나, \n",
        "# 교재나 이론적인 설명을 위해서 가지고 오는 데이터 셋은 \n",
        "# 전처리에 별 이슈가 없음!!!!\n",
        "# --> 대회나 실제 일을 하실 때에는 전처리를 할 때 주의!!!! + unseen data\n",
        "# 1. 인코딩에서 라벨 인코딩을 할 때 test에서 unseen 만 신경쓰면 됨!!!\n",
        "# 2. 인코딩에서 원핫 인코딩을 할 때 train에서 unseen, test에서 unseen 모두 신경!!!\n",
        "#     + 순서가 틀어지기에 순서를 다시 정리하고, 모양 맞추는 작업!!!\n",
        "\n",
        "# --> 누락된 값을 채울 때.. test에서 cheating을 하면 안되게 코드 작성!!!!\n",
        "#     누락된 값을 채울 때 대표값이나 기준 값을 train을 기준으로만 해야함!!!\n",
        "\n",
        "# 실질적으로는 코드가 좀 길어지고, 복잡해지는 경향이 있음!!!!\n",
        "# + 구글링에서 코드를 볼 때 이러한 부분을 감안하고 한 코드인지\n",
        "#   그냥 작성한 코드인지 감안해서 판단해야 합니다!!!!"
      ]
    },
    {
      "cell_type": "code",
      "execution_count": 284,
      "metadata": {
        "id": "hEB1XovHHILe"
      },
      "outputs": [],
      "source": [
        "# 분석자의 의견: 아웃라이어에 대한 판단은 물론, boxplot 같은 것들을 이용을 해서 할 수 있고 분토등을 보고 판단을 해서 할 수 있음.\n",
        "# -> 여기서는 보통은 면적과 가격이 비례하는 특성을 가지는데... 그 특성이 잘 반영이 안 되는 예외적인 경우에 대해 보고 그거에 대해\n",
        "# 분포를 보고4000이상에 대해ㅓ 기준을 잡아 학습할 샘플에서 제외. 단, test "
      ]
    },
    {
      "cell_type": "code",
      "execution_count": null,
      "metadata": {
        "id": "a5xZcLmQHIUX"
      },
      "outputs": [],
      "source": []
    },
    {
      "cell_type": "code",
      "execution_count": null,
      "metadata": {
        "id": "N64CY8_cHIda"
      },
      "outputs": [],
      "source": []
    },
    {
      "cell_type": "code",
      "execution_count": null,
      "metadata": {
        "id": "0gX0GglqHImP"
      },
      "outputs": [],
      "source": []
    },
    {
      "cell_type": "code",
      "execution_count": null,
      "metadata": {
        "id": "xyAfI6GUHIvA"
      },
      "outputs": [],
      "source": []
    },
    {
      "cell_type": "code",
      "execution_count": null,
      "metadata": {
        "id": "EcgwuWFIHI31"
      },
      "outputs": [],
      "source": []
    },
    {
      "attachments": {},
      "cell_type": "markdown",
      "metadata": {
        "id": "g8tlDbE9ANDn"
      },
      "source": [
        "### Train / Test  분리"
      ]
    },
    {
      "cell_type": "code",
      "execution_count": null,
      "metadata": {
        "id": "78nxpePfANDn"
      },
      "outputs": [],
      "source": []
    },
    {
      "cell_type": "code",
      "execution_count": 285,
      "metadata": {
        "id": "IlWmC8LIANDn",
        "outputId": "de8b9a2c-820b-4fb8-ce78-8b04e4738d8c"
      },
      "outputs": [
        {
          "name": "stdout",
          "output_type": "stream",
          "text": [
            "training shape:(1456, 249), test shape:(1459, 249)\n"
          ]
        }
      ],
      "source": [
        "# 참고로 원래의 데이터가 train / test 가 1456개, 1459개로 거의 동일한 크기의 데이터가 주어진 것!!!\n",
        "print(\"training shape:{}, test shape:{}\".format(X_train.shape,X_test.shape))"
      ]
    },
    {
      "cell_type": "code",
      "execution_count": null,
      "metadata": {},
      "outputs": [],
      "source": []
    },
    {
      "attachments": {},
      "cell_type": "markdown",
      "metadata": {
        "id": "gTr_DkibANDo"
      },
      "source": [
        "### 모델링"
      ]
    },
    {
      "attachments": {},
      "cell_type": "markdown",
      "metadata": {
        "id": "7-fV7SOYANDo"
      },
      "source": [
        "* xgboost를 윈도우에서 사용하시는 분들은 경로 설정 추가 필요     \n",
        "* mlxtend 패키지 설치"
      ]
    },
    {
      "cell_type": "code",
      "execution_count": 286,
      "metadata": {
        "id": "F_yE1iFqANDo"
      },
      "outputs": [],
      "source": [
        "\n",
        "from sklearn.model_selection import GridSearchCV,RandomizedSearchCV,learning_curve, cross_val_score, KFold\n",
        "from sklearn.preprocessing import StandardScaler, RobustScaler\n",
        "from sklearn.svm import SVR\n",
        "from sklearn.ensemble import RandomForestRegressor\n",
        "from sklearn.metrics import accuracy_score, mean_squared_error\n",
        "\n",
        "from sklearn.linear_model import LassoCV,ElasticNetCV,Lasso,ElasticNet\n",
        "from sklearn.kernel_ridge import KernelRidge\n",
        "\n",
        "\n",
        "# 아래 추가적인 패키지가 설치가 되어 있어야 함!!!!!!!\n",
        "from xgboost import XGBRegressor\n",
        "from mlxtend.regressor import StackingRegressor\n",
        "\n",
        "# 시간\n",
        "import time"
      ]
    },
    {
      "cell_type": "code",
      "execution_count": 287,
      "metadata": {},
      "outputs": [],
      "source": [
        "# 참고) 회귀 문제의 경우에는 값의 오차가 워낙 심하기에...\n",
        "# 최적의 모델 1개의 선정 보다는 여러 모델에 대한 평균/가중평균으로 보팅을 해서 사용\n",
        "# -> 굳이 좋은 모델 1개 선정보다 여러 모델 나열하고, 그들에 대한 조합을 선택\n",
        "# -> X_val 셋을 따로 세팅을 하지 않음\n",
        "# : 이 부분은 분석하는 사람의 선택임"
      ]
    },
    {
      "cell_type": "code",
      "execution_count": 288,
      "metadata": {},
      "outputs": [],
      "source": [
        "# k-fold 만 중심으로 모델의 성능을 체크\n",
        "num = 6\n",
        "kfold =KFold(n_splits=num, \n",
        "             shuffle= True,\n",
        "             random_state=1234)"
      ]
    },
    {
      "cell_type": "code",
      "execution_count": 289,
      "metadata": {},
      "outputs": [],
      "source": [
        "### 평가 지표에 대해서 고민###\n",
        "# -> kaggle 에서 원한 평가 지표: root_mean_square_error(RMSE)\n",
        "# -> 사용하는 툴인 scikit-learn에서는 -RMSE를 제공\n",
        "# 실제) 대회 평가지표가 툴에서 없는 경우가 있음\n",
        "#   -> 1. 동일하지 않지만, 유사한 특성을 나타내는 지표를 선택해서 진행하는 경우\n",
        "#   -> 2. 내가 지표를 만들어서 하는 경우\n",
        "#       (모델에 따라서 만든 지표를 지원할 수도, 안할수도 있음)"
      ]
    },
    {
      "cell_type": "code",
      "execution_count": 290,
      "metadata": {},
      "outputs": [],
      "source": [
        "# 우리는 원래는 RMSE 인데\n",
        "# scikit 는 'neg_root_mean_squared_error'를 사용해서\n",
        "# -를 +로 처리하거나, 감안해서 판단하거나\n"
      ]
    },
    {
      "cell_type": "code",
      "execution_count": 291,
      "metadata": {},
      "outputs": [],
      "source": [
        "\n",
        "#---> BaseLine을 체크하는 부분에서만 함수로 만들어서.\n",
        "# 전달 상 목적: 1. 평가 지표에 대한 본인의 튜닝작업 \n",
        "#               2. 하는 일에 대한 함수화\n",
        "def rmse_baselineCV(model):\n",
        "    rmse = -cross_val_score(model, X_train, y_df, cv=kfold, \n",
        "                    scoring=\"neg_root_mean_squared_error\")\n",
        "    # rmse에는 6번의 kfold에 대한 rmse의 값들 저장\n",
        "    return rmse\n",
        "\n",
        "\n"
      ]
    },
    {
      "attachments": {},
      "cell_type": "markdown",
      "metadata": {},
      "source": [
        "LASSO Model"
      ]
    },
    {
      "cell_type": "code",
      "execution_count": 292,
      "metadata": {},
      "outputs": [
        {
          "data": {
            "text/plain": [
              "'\\n1. 일반적인 선형회귀 모델에 L1으로 규약을 함\\n    -> 각 특징에 붙는 파라미터의 크기의 절대치의 합으로\\n    -> Bias 는 손해를 보더라도... Variance를 확보하겠다//\\n    -> 학습과정에서 중요하지 않는 변수는 0으로 자동 탈락\\n    -> 학습과정에서 변수 선택이 발생을 함\\n    -> 모델이 심플하게 진행을 하려고 함\\n    -> 학습하는 연산이 수치연산으로 접근을 해야함\\n'"
            ]
          },
          "execution_count": 292,
          "metadata": {},
          "output_type": "execute_result"
        }
      ],
      "source": [
        "\"\"\"\n",
        "1. 일반적인 선형회귀 모델에 L1으로 규약을 함\n",
        "    -> 각 특징에 붙는 파라미터의 크기의 절대치의 합으로\n",
        "    -> Bias 는 손해를 보더라도... Variance를 확보하겠다//\n",
        "    -> 학습과정에서 중요하지 않는 변수는 0으로 자동 탈락\n",
        "    -> 학습과정에서 변수 선택이 발생을 함\n",
        "    -> 모델이 심플하게 진행을 하려고 함\n",
        "    -> 학습하는 연산이 수치연산으로 접근을 해야함\n",
        "\"\"\""
      ]
    },
    {
      "cell_type": "code",
      "execution_count": 293,
      "metadata": {},
      "outputs": [],
      "source": [
        "from sklearn.linear_model import Lasso"
      ]
    },
    {
      "cell_type": "code",
      "execution_count": 294,
      "metadata": {},
      "outputs": [
        {
          "name": "stdout",
          "output_type": "stream",
          "text": [
            "[0.36914367 0.38030852 0.42686533 0.36937452 0.44118888 0.38655695]\n",
            "Lasso Base Line Mean: 0.3955729771780437\n",
            "Lasso BaseLine Std: 0.028163750592352904\n"
          ]
        }
      ],
      "source": [
        "# Lasso 에 대한 baseline에 대한 체크\n",
        "# -> log(x+1)\n",
        "lasso_model = Lasso(random_state=1234)\n",
        "lasso_scores = rmse_baselineCV(lasso_model)\n",
        "print(lasso_scores)\n",
        "print(\"Lasso Base Line Mean:\", lasso_scores.mean())\n",
        "print(\"Lasso BaseLine Std:\", lasso_scores.std())\n",
        "# 참고) 우리가 log로 변환한 ㄱ값으로 평가를 했기에\n",
        "# 9.2222: 9.34 -> 에러가 상당히 작게 평가 됨\n",
        "# 0.12에 대한 편차 -> 제곱 root 값이 작게 나타남"
      ]
    },
    {
      "cell_type": "code",
      "execution_count": 295,
      "metadata": {},
      "outputs": [
        {
          "ename": "KeyboardInterrupt",
          "evalue": "",
          "output_type": "error",
          "traceback": [
            "\u001b[1;31m---------------------------------------------------------------------------\u001b[0m",
            "\u001b[1;31mKeyboardInterrupt\u001b[0m                         Traceback (most recent call last)",
            "Cell \u001b[1;32mIn[295], line 21\u001b[0m\n\u001b[0;32m      4\u001b[0m lasso_parameters \u001b[39m=\u001b[39m {\n\u001b[0;32m      5\u001b[0m     \u001b[39m# lasso 모델 자체에서 제일 중요한 부분으로 어느 정도의 L1의 규제를 가할 것인감\u001b[39;00m\n\u001b[0;32m      6\u001b[0m     \u001b[39m\"\u001b[39m\u001b[39malpha\u001b[39m\u001b[39m\"\u001b[39m: [\u001b[39m0.000001\u001b[39m, \u001b[39m0.0001\u001b[39m, \u001b[39m0.001\u001b[39m, \u001b[39m0.1\u001b[39m, \u001b[39m1\u001b[39m],\n\u001b[1;32m   (...)\u001b[0m\n\u001b[0;32m      9\u001b[0m     \u001b[39m\"\u001b[39m\u001b[39mtol\u001b[39m\u001b[39m\"\u001b[39m: [\u001b[39m0.000001\u001b[39m, \u001b[39m0.0001\u001b[39m, \u001b[39m0.001\u001b[39m]\n\u001b[0;32m     10\u001b[0m }\n\u001b[0;32m     11\u001b[0m lasso_rgs_model \u001b[39m=\u001b[39m RandomizedSearchCV(\n\u001b[0;32m     12\u001b[0m     lasso_model, \n\u001b[0;32m     13\u001b[0m     param_distributions\u001b[39m=\u001b[39mlasso_parameters,\n\u001b[1;32m   (...)\u001b[0m\n\u001b[0;32m     18\u001b[0m     n_jobs\u001b[39m=\u001b[39m\u001b[39m-\u001b[39m\u001b[39m1\u001b[39m\n\u001b[0;32m     19\u001b[0m )\n\u001b[1;32m---> 21\u001b[0m lasso_rgs_model\u001b[39m.\u001b[39;49mfit(X_train, y_df)\n",
            "File \u001b[1;32mc:\\Users\\NTX550\\anaconda3\\lib\\site-packages\\sklearn\\model_selection\\_search.py:874\u001b[0m, in \u001b[0;36mBaseSearchCV.fit\u001b[1;34m(self, X, y, groups, **fit_params)\u001b[0m\n\u001b[0;32m    868\u001b[0m     results \u001b[39m=\u001b[39m \u001b[39mself\u001b[39m\u001b[39m.\u001b[39m_format_results(\n\u001b[0;32m    869\u001b[0m         all_candidate_params, n_splits, all_out, all_more_results\n\u001b[0;32m    870\u001b[0m     )\n\u001b[0;32m    872\u001b[0m     \u001b[39mreturn\u001b[39;00m results\n\u001b[1;32m--> 874\u001b[0m \u001b[39mself\u001b[39;49m\u001b[39m.\u001b[39;49m_run_search(evaluate_candidates)\n\u001b[0;32m    876\u001b[0m \u001b[39m# multimetric is determined here because in the case of a callable\u001b[39;00m\n\u001b[0;32m    877\u001b[0m \u001b[39m# self.scoring the return type is only known after calling\u001b[39;00m\n\u001b[0;32m    878\u001b[0m first_test_score \u001b[39m=\u001b[39m all_out[\u001b[39m0\u001b[39m][\u001b[39m\"\u001b[39m\u001b[39mtest_scores\u001b[39m\u001b[39m\"\u001b[39m]\n",
            "File \u001b[1;32mc:\\Users\\NTX550\\anaconda3\\lib\\site-packages\\sklearn\\model_selection\\_search.py:1768\u001b[0m, in \u001b[0;36mRandomizedSearchCV._run_search\u001b[1;34m(self, evaluate_candidates)\u001b[0m\n\u001b[0;32m   1766\u001b[0m \u001b[39mdef\u001b[39;00m \u001b[39m_run_search\u001b[39m(\u001b[39mself\u001b[39m, evaluate_candidates):\n\u001b[0;32m   1767\u001b[0m     \u001b[39m\"\"\"Search n_iter candidates from param_distributions\"\"\"\u001b[39;00m\n\u001b[1;32m-> 1768\u001b[0m     evaluate_candidates(\n\u001b[0;32m   1769\u001b[0m         ParameterSampler(\n\u001b[0;32m   1770\u001b[0m             \u001b[39mself\u001b[39;49m\u001b[39m.\u001b[39;49mparam_distributions, \u001b[39mself\u001b[39;49m\u001b[39m.\u001b[39;49mn_iter, random_state\u001b[39m=\u001b[39;49m\u001b[39mself\u001b[39;49m\u001b[39m.\u001b[39;49mrandom_state\n\u001b[0;32m   1771\u001b[0m         )\n\u001b[0;32m   1772\u001b[0m     )\n",
            "File \u001b[1;32mc:\\Users\\NTX550\\anaconda3\\lib\\site-packages\\sklearn\\model_selection\\_search.py:821\u001b[0m, in \u001b[0;36mBaseSearchCV.fit.<locals>.evaluate_candidates\u001b[1;34m(candidate_params, cv, more_results)\u001b[0m\n\u001b[0;32m    813\u001b[0m \u001b[39mif\u001b[39;00m \u001b[39mself\u001b[39m\u001b[39m.\u001b[39mverbose \u001b[39m>\u001b[39m \u001b[39m0\u001b[39m:\n\u001b[0;32m    814\u001b[0m     \u001b[39mprint\u001b[39m(\n\u001b[0;32m    815\u001b[0m         \u001b[39m\"\u001b[39m\u001b[39mFitting \u001b[39m\u001b[39m{0}\u001b[39;00m\u001b[39m folds for each of \u001b[39m\u001b[39m{1}\u001b[39;00m\u001b[39m candidates,\u001b[39m\u001b[39m\"\u001b[39m\n\u001b[0;32m    816\u001b[0m         \u001b[39m\"\u001b[39m\u001b[39m totalling \u001b[39m\u001b[39m{2}\u001b[39;00m\u001b[39m fits\u001b[39m\u001b[39m\"\u001b[39m\u001b[39m.\u001b[39mformat(\n\u001b[0;32m    817\u001b[0m             n_splits, n_candidates, n_candidates \u001b[39m*\u001b[39m n_splits\n\u001b[0;32m    818\u001b[0m         )\n\u001b[0;32m    819\u001b[0m     )\n\u001b[1;32m--> 821\u001b[0m out \u001b[39m=\u001b[39m parallel(\n\u001b[0;32m    822\u001b[0m     delayed(_fit_and_score)(\n\u001b[0;32m    823\u001b[0m         clone(base_estimator),\n\u001b[0;32m    824\u001b[0m         X,\n\u001b[0;32m    825\u001b[0m         y,\n\u001b[0;32m    826\u001b[0m         train\u001b[39m=\u001b[39;49mtrain,\n\u001b[0;32m    827\u001b[0m         test\u001b[39m=\u001b[39;49mtest,\n\u001b[0;32m    828\u001b[0m         parameters\u001b[39m=\u001b[39;49mparameters,\n\u001b[0;32m    829\u001b[0m         split_progress\u001b[39m=\u001b[39;49m(split_idx, n_splits),\n\u001b[0;32m    830\u001b[0m         candidate_progress\u001b[39m=\u001b[39;49m(cand_idx, n_candidates),\n\u001b[0;32m    831\u001b[0m         \u001b[39m*\u001b[39;49m\u001b[39m*\u001b[39;49mfit_and_score_kwargs,\n\u001b[0;32m    832\u001b[0m     )\n\u001b[0;32m    833\u001b[0m     \u001b[39mfor\u001b[39;49;00m (cand_idx, parameters), (split_idx, (train, test)) \u001b[39min\u001b[39;49;00m product(\n\u001b[0;32m    834\u001b[0m         \u001b[39menumerate\u001b[39;49m(candidate_params), \u001b[39menumerate\u001b[39;49m(cv\u001b[39m.\u001b[39;49msplit(X, y, groups))\n\u001b[0;32m    835\u001b[0m     )\n\u001b[0;32m    836\u001b[0m )\n\u001b[0;32m    838\u001b[0m \u001b[39mif\u001b[39;00m \u001b[39mlen\u001b[39m(out) \u001b[39m<\u001b[39m \u001b[39m1\u001b[39m:\n\u001b[0;32m    839\u001b[0m     \u001b[39mraise\u001b[39;00m \u001b[39mValueError\u001b[39;00m(\n\u001b[0;32m    840\u001b[0m         \u001b[39m\"\u001b[39m\u001b[39mNo fits were performed. \u001b[39m\u001b[39m\"\u001b[39m\n\u001b[0;32m    841\u001b[0m         \u001b[39m\"\u001b[39m\u001b[39mWas the CV iterator empty? \u001b[39m\u001b[39m\"\u001b[39m\n\u001b[0;32m    842\u001b[0m         \u001b[39m\"\u001b[39m\u001b[39mWere there no candidates?\u001b[39m\u001b[39m\"\u001b[39m\n\u001b[0;32m    843\u001b[0m     )\n",
            "File \u001b[1;32mc:\\Users\\NTX550\\anaconda3\\lib\\site-packages\\sklearn\\utils\\parallel.py:63\u001b[0m, in \u001b[0;36mParallel.__call__\u001b[1;34m(self, iterable)\u001b[0m\n\u001b[0;32m     58\u001b[0m config \u001b[39m=\u001b[39m get_config()\n\u001b[0;32m     59\u001b[0m iterable_with_config \u001b[39m=\u001b[39m (\n\u001b[0;32m     60\u001b[0m     (_with_config(delayed_func, config), args, kwargs)\n\u001b[0;32m     61\u001b[0m     \u001b[39mfor\u001b[39;00m delayed_func, args, kwargs \u001b[39min\u001b[39;00m iterable\n\u001b[0;32m     62\u001b[0m )\n\u001b[1;32m---> 63\u001b[0m \u001b[39mreturn\u001b[39;00m \u001b[39msuper\u001b[39;49m()\u001b[39m.\u001b[39;49m\u001b[39m__call__\u001b[39;49m(iterable_with_config)\n",
            "File \u001b[1;32mc:\\Users\\NTX550\\anaconda3\\lib\\site-packages\\joblib\\parallel.py:1061\u001b[0m, in \u001b[0;36mParallel.__call__\u001b[1;34m(self, iterable)\u001b[0m\n\u001b[0;32m   1058\u001b[0m     \u001b[39mself\u001b[39m\u001b[39m.\u001b[39m_iterating \u001b[39m=\u001b[39m \u001b[39mFalse\u001b[39;00m\n\u001b[0;32m   1060\u001b[0m \u001b[39mwith\u001b[39;00m \u001b[39mself\u001b[39m\u001b[39m.\u001b[39m_backend\u001b[39m.\u001b[39mretrieval_context():\n\u001b[1;32m-> 1061\u001b[0m     \u001b[39mself\u001b[39;49m\u001b[39m.\u001b[39;49mretrieve()\n\u001b[0;32m   1062\u001b[0m \u001b[39m# Make sure that we get a last message telling us we are done\u001b[39;00m\n\u001b[0;32m   1063\u001b[0m elapsed_time \u001b[39m=\u001b[39m time\u001b[39m.\u001b[39mtime() \u001b[39m-\u001b[39m \u001b[39mself\u001b[39m\u001b[39m.\u001b[39m_start_time\n",
            "File \u001b[1;32mc:\\Users\\NTX550\\anaconda3\\lib\\site-packages\\joblib\\parallel.py:938\u001b[0m, in \u001b[0;36mParallel.retrieve\u001b[1;34m(self)\u001b[0m\n\u001b[0;32m    936\u001b[0m \u001b[39mtry\u001b[39;00m:\n\u001b[0;32m    937\u001b[0m     \u001b[39mif\u001b[39;00m \u001b[39mgetattr\u001b[39m(\u001b[39mself\u001b[39m\u001b[39m.\u001b[39m_backend, \u001b[39m'\u001b[39m\u001b[39msupports_timeout\u001b[39m\u001b[39m'\u001b[39m, \u001b[39mFalse\u001b[39;00m):\n\u001b[1;32m--> 938\u001b[0m         \u001b[39mself\u001b[39m\u001b[39m.\u001b[39m_output\u001b[39m.\u001b[39mextend(job\u001b[39m.\u001b[39;49mget(timeout\u001b[39m=\u001b[39;49m\u001b[39mself\u001b[39;49m\u001b[39m.\u001b[39;49mtimeout))\n\u001b[0;32m    939\u001b[0m     \u001b[39melse\u001b[39;00m:\n\u001b[0;32m    940\u001b[0m         \u001b[39mself\u001b[39m\u001b[39m.\u001b[39m_output\u001b[39m.\u001b[39mextend(job\u001b[39m.\u001b[39mget())\n",
            "File \u001b[1;32mc:\\Users\\NTX550\\anaconda3\\lib\\site-packages\\joblib\\_parallel_backends.py:542\u001b[0m, in \u001b[0;36mLokyBackend.wrap_future_result\u001b[1;34m(future, timeout)\u001b[0m\n\u001b[0;32m    539\u001b[0m \u001b[39m\"\"\"Wrapper for Future.result to implement the same behaviour as\u001b[39;00m\n\u001b[0;32m    540\u001b[0m \u001b[39mAsyncResults.get from multiprocessing.\"\"\"\u001b[39;00m\n\u001b[0;32m    541\u001b[0m \u001b[39mtry\u001b[39;00m:\n\u001b[1;32m--> 542\u001b[0m     \u001b[39mreturn\u001b[39;00m future\u001b[39m.\u001b[39;49mresult(timeout\u001b[39m=\u001b[39;49mtimeout)\n\u001b[0;32m    543\u001b[0m \u001b[39mexcept\u001b[39;00m CfTimeoutError \u001b[39mas\u001b[39;00m e:\n\u001b[0;32m    544\u001b[0m     \u001b[39mraise\u001b[39;00m \u001b[39mTimeoutError\u001b[39;00m \u001b[39mfrom\u001b[39;00m \u001b[39me\u001b[39;00m\n",
            "File \u001b[1;32mc:\\Users\\NTX550\\anaconda3\\lib\\concurrent\\futures\\_base.py:453\u001b[0m, in \u001b[0;36mFuture.result\u001b[1;34m(self, timeout)\u001b[0m\n\u001b[0;32m    450\u001b[0m \u001b[39melif\u001b[39;00m \u001b[39mself\u001b[39m\u001b[39m.\u001b[39m_state \u001b[39m==\u001b[39m FINISHED:\n\u001b[0;32m    451\u001b[0m     \u001b[39mreturn\u001b[39;00m \u001b[39mself\u001b[39m\u001b[39m.\u001b[39m__get_result()\n\u001b[1;32m--> 453\u001b[0m \u001b[39mself\u001b[39;49m\u001b[39m.\u001b[39;49m_condition\u001b[39m.\u001b[39;49mwait(timeout)\n\u001b[0;32m    455\u001b[0m \u001b[39mif\u001b[39;00m \u001b[39mself\u001b[39m\u001b[39m.\u001b[39m_state \u001b[39min\u001b[39;00m [CANCELLED, CANCELLED_AND_NOTIFIED]:\n\u001b[0;32m    456\u001b[0m     \u001b[39mraise\u001b[39;00m CancelledError()\n",
            "File \u001b[1;32mc:\\Users\\NTX550\\anaconda3\\lib\\threading.py:320\u001b[0m, in \u001b[0;36mCondition.wait\u001b[1;34m(self, timeout)\u001b[0m\n\u001b[0;32m    318\u001b[0m \u001b[39mtry\u001b[39;00m:    \u001b[39m# restore state no matter what (e.g., KeyboardInterrupt)\u001b[39;00m\n\u001b[0;32m    319\u001b[0m     \u001b[39mif\u001b[39;00m timeout \u001b[39mis\u001b[39;00m \u001b[39mNone\u001b[39;00m:\n\u001b[1;32m--> 320\u001b[0m         waiter\u001b[39m.\u001b[39;49macquire()\n\u001b[0;32m    321\u001b[0m         gotit \u001b[39m=\u001b[39m \u001b[39mTrue\u001b[39;00m\n\u001b[0;32m    322\u001b[0m     \u001b[39melse\u001b[39;00m:\n",
            "\u001b[1;31mKeyboardInterrupt\u001b[0m: "
          ]
        }
      ],
      "source": [
        "# from spicy.sparse import random # 없어도 됨\n",
        "# optuna 제외, simple하게 rgs, gs 정도만 ㄱㄱ\n",
        "lasso_model = Lasso(random_state=1234)\n",
        "lasso_parameters = {\n",
        "    # lasso 모델 자체에서 제일 중요한 부분으로 어느 정도의 L1의 규제를 가할 것인감\n",
        "    \"alpha\": [0.000001, 0.0001, 0.001, 0.1, 1],\n",
        "    # 실제 수치연산적인 부분에서 체크 -> 모델이 아니라 연산\n",
        "    \"max_iter\": [1000,3000],\n",
        "    \"tol\": [0.000001, 0.0001, 0.001]\n",
        "}\n",
        "lasso_rgs_model = RandomizedSearchCV(\n",
        "    lasso_model, \n",
        "    param_distributions=lasso_parameters,\n",
        "    n_iter = 30,\n",
        "    cv = kfold,\n",
        "    scoring = \"neg_root_mean_squared_error\",\n",
        "    random_state=1234,\n",
        "    n_jobs=-1\n",
        ")\n",
        "\n",
        "lasso_rgs_model.fit(X_train, y_df)"
      ]
    },
    {
      "cell_type": "code",
      "execution_count": null,
      "metadata": {},
      "outputs": [
        {
          "data": {
            "text/plain": [
              "-0.11610035026916331"
            ]
          },
          "execution_count": 159,
          "metadata": {},
          "output_type": "execute_result"
        }
      ],
      "source": [
        "lasso_rgs_model.best_score_"
      ]
    },
    {
      "cell_type": "code",
      "execution_count": null,
      "metadata": {},
      "outputs": [],
      "source": [
        "# regression 같은 경우에서는 그냥 던지는 baseline 하고\n",
        "# 적당한 튜닝하고 좀 차이가 많이 발생함\n",
        "# -> 좀 나아졌다고 때려치지 말고, 좀 더 해보는게 필요\n",
        "# 일반적인 선형모델이 더 갭이 큼"
      ]
    },
    {
      "cell_type": "code",
      "execution_count": null,
      "metadata": {},
      "outputs": [
        {
          "data": {
            "text/plain": [
              "{'tol': 1e-06, 'max_iter': 1000, 'alpha': 0.001}"
            ]
          },
          "execution_count": 160,
          "metadata": {},
          "output_type": "execute_result"
        }
      ],
      "source": [
        "lasso_rgs_model.best_params_"
      ]
    },
    {
      "cell_type": "code",
      "execution_count": null,
      "metadata": {},
      "outputs": [],
      "source": [
        "# 수행 결과에 대해서 자세히 볼때: cv_results_\n"
      ]
    },
    {
      "cell_type": "code",
      "execution_count": null,
      "metadata": {},
      "outputs": [
        {
          "data": {
            "text/plain": [
              "array([122188.70714993, 158270.22615264, 180017.42148513, ...,\n",
              "       170305.23821849, 115803.20929684, 223298.85641762])"
            ]
          },
          "execution_count": 165,
          "metadata": {},
          "output_type": "execute_result"
        }
      ],
      "source": [
        "# lasso에서는 이 모델이 적당한 것 같다고 선택\n",
        "lasso_rgs_best = lasso_rgs_model.best_estimator_\n",
        "# 실전 문제\n",
        "lasso_rgs_ypred = lasso_rgs_best.predict(X_test)\n",
        "# lasso_rgs_yred  에 대한 값을 워해 원래 영역으로 환원\n",
        "# numpy = np.log1p() <----> np.expn(1)\n",
        "y_pred_1 =  np.expm1(lasso_rgs_ypred)\n",
        "y_pred_1"
      ]
    },
    {
      "cell_type": "code",
      "execution_count": null,
      "metadata": {},
      "outputs": [
        {
          "data": {
            "text/plain": [
              "array([11.71333009, 11.97206546, 12.10081447, ..., 12.0453535 ,\n",
              "       11.65965619, 12.31627079])"
            ]
          },
          "execution_count": 167,
          "metadata": {},
          "output_type": "execute_result"
        }
      ],
      "source": [
        "lasso_rgs_ypred"
      ]
    },
    {
      "cell_type": "code",
      "execution_count": null,
      "metadata": {},
      "outputs": [],
      "source": []
    },
    {
      "cell_type": "code",
      "execution_count": null,
      "metadata": {},
      "outputs": [],
      "source": [
        "# +++ To Do : GridSearch or Optuna 써서 더 최적을 찾기!!!!!!"
      ]
    },
    {
      "cell_type": "code",
      "execution_count": null,
      "metadata": {},
      "outputs": [],
      "source": [
        "from sklearn.kernel_ridge import KernelRidge"
      ]
    },
    {
      "cell_type": "code",
      "execution_count": null,
      "metadata": {},
      "outputs": [
        {
          "name": "stdout",
          "output_type": "stream",
          "text": [
            "[ 14.96775974 462.04582146 344.24847569 494.61970053 476.18765624\n",
            " 439.08227532]\n",
            "KR BaseLine Mean: 371.8586148293337\n",
            "KR BaseLine Std: 166.70382321357198\n"
          ]
        }
      ],
      "source": [
        "kr_model = KernelRidge()\n",
        "kr_scores = rmse_baselineCV( kr_model )\n",
        "print(kr_scores)\n",
        "print(\"KR BaseLine Mean:\", kr_scores.mean())\n",
        "print(\"KR BaseLine Std:\", kr_scores.std())"
      ]
    },
    {
      "cell_type": "code",
      "execution_count": null,
      "metadata": {},
      "outputs": [],
      "source": [
        "# RGS 로 파라미터를"
      ]
    },
    {
      "cell_type": "code",
      "execution_count": null,
      "metadata": {},
      "outputs": [
        {
          "data": {
            "text/html": [
              "<style>#sk-container-id-6 {color: black;background-color: white;}#sk-container-id-6 pre{padding: 0;}#sk-container-id-6 div.sk-toggleable {background-color: white;}#sk-container-id-6 label.sk-toggleable__label {cursor: pointer;display: block;width: 100%;margin-bottom: 0;padding: 0.3em;box-sizing: border-box;text-align: center;}#sk-container-id-6 label.sk-toggleable__label-arrow:before {content: \"▸\";float: left;margin-right: 0.25em;color: #696969;}#sk-container-id-6 label.sk-toggleable__label-arrow:hover:before {color: black;}#sk-container-id-6 div.sk-estimator:hover label.sk-toggleable__label-arrow:before {color: black;}#sk-container-id-6 div.sk-toggleable__content {max-height: 0;max-width: 0;overflow: hidden;text-align: left;background-color: #f0f8ff;}#sk-container-id-6 div.sk-toggleable__content pre {margin: 0.2em;color: black;border-radius: 0.25em;background-color: #f0f8ff;}#sk-container-id-6 input.sk-toggleable__control:checked~div.sk-toggleable__content {max-height: 200px;max-width: 100%;overflow: auto;}#sk-container-id-6 input.sk-toggleable__control:checked~label.sk-toggleable__label-arrow:before {content: \"▾\";}#sk-container-id-6 div.sk-estimator input.sk-toggleable__control:checked~label.sk-toggleable__label {background-color: #d4ebff;}#sk-container-id-6 div.sk-label input.sk-toggleable__control:checked~label.sk-toggleable__label {background-color: #d4ebff;}#sk-container-id-6 input.sk-hidden--visually {border: 0;clip: rect(1px 1px 1px 1px);clip: rect(1px, 1px, 1px, 1px);height: 1px;margin: -1px;overflow: hidden;padding: 0;position: absolute;width: 1px;}#sk-container-id-6 div.sk-estimator {font-family: monospace;background-color: #f0f8ff;border: 1px dotted black;border-radius: 0.25em;box-sizing: border-box;margin-bottom: 0.5em;}#sk-container-id-6 div.sk-estimator:hover {background-color: #d4ebff;}#sk-container-id-6 div.sk-parallel-item::after {content: \"\";width: 100%;border-bottom: 1px solid gray;flex-grow: 1;}#sk-container-id-6 div.sk-label:hover label.sk-toggleable__label {background-color: #d4ebff;}#sk-container-id-6 div.sk-serial::before {content: \"\";position: absolute;border-left: 1px solid gray;box-sizing: border-box;top: 0;bottom: 0;left: 50%;z-index: 0;}#sk-container-id-6 div.sk-serial {display: flex;flex-direction: column;align-items: center;background-color: white;padding-right: 0.2em;padding-left: 0.2em;position: relative;}#sk-container-id-6 div.sk-item {position: relative;z-index: 1;}#sk-container-id-6 div.sk-parallel {display: flex;align-items: stretch;justify-content: center;background-color: white;position: relative;}#sk-container-id-6 div.sk-item::before, #sk-container-id-6 div.sk-parallel-item::before {content: \"\";position: absolute;border-left: 1px solid gray;box-sizing: border-box;top: 0;bottom: 0;left: 50%;z-index: -1;}#sk-container-id-6 div.sk-parallel-item {display: flex;flex-direction: column;z-index: 1;position: relative;background-color: white;}#sk-container-id-6 div.sk-parallel-item:first-child::after {align-self: flex-end;width: 50%;}#sk-container-id-6 div.sk-parallel-item:last-child::after {align-self: flex-start;width: 50%;}#sk-container-id-6 div.sk-parallel-item:only-child::after {width: 0;}#sk-container-id-6 div.sk-dashed-wrapped {border: 1px dashed gray;margin: 0 0.4em 0.5em 0.4em;box-sizing: border-box;padding-bottom: 0.4em;background-color: white;}#sk-container-id-6 div.sk-label label {font-family: monospace;font-weight: bold;display: inline-block;line-height: 1.2em;}#sk-container-id-6 div.sk-label-container {text-align: center;}#sk-container-id-6 div.sk-container {/* jupyter's `normalize.less` sets `[hidden] { display: none; }` but bootstrap.min.css set `[hidden] { display: none !important; }` so we also need the `!important` here to be able to override the default hidden behavior on the sphinx rendered scikit-learn.org. See: https://github.com/scikit-learn/scikit-learn/issues/21755 */display: inline-block !important;position: relative;}#sk-container-id-6 div.sk-text-repr-fallback {display: none;}</style><div id=\"sk-container-id-6\" class=\"sk-top-container\"><div class=\"sk-text-repr-fallback\"><pre>RandomizedSearchCV(cv=KFold(n_splits=6, random_state=1234, shuffle=True),\n",
              "                   estimator=KernelRidge(), n_iter=30, n_jobs=-1,\n",
              "                   param_distributions={&#x27;alpha&#x27;: [1e-05, 0.001, 0.1, 1],\n",
              "                                        &#x27;degree&#x27;: [2, 3, 4],\n",
              "                                        &#x27;gamma&#x27;: [0.001, 0.01, 0.1, 1],\n",
              "                                        &#x27;kernel&#x27;: [&#x27;linear&#x27;, &#x27;rbf&#x27;, &#x27;poly&#x27;]},\n",
              "                   random_state=1234, scoring=&#x27;neg_root_mean_squared_error&#x27;)</pre><b>In a Jupyter environment, please rerun this cell to show the HTML representation or trust the notebook. <br />On GitHub, the HTML representation is unable to render, please try loading this page with nbviewer.org.</b></div><div class=\"sk-container\" hidden><div class=\"sk-item sk-dashed-wrapped\"><div class=\"sk-label-container\"><div class=\"sk-label sk-toggleable\"><input class=\"sk-toggleable__control sk-hidden--visually\" id=\"sk-estimator-id-14\" type=\"checkbox\" ><label for=\"sk-estimator-id-14\" class=\"sk-toggleable__label sk-toggleable__label-arrow\">RandomizedSearchCV</label><div class=\"sk-toggleable__content\"><pre>RandomizedSearchCV(cv=KFold(n_splits=6, random_state=1234, shuffle=True),\n",
              "                   estimator=KernelRidge(), n_iter=30, n_jobs=-1,\n",
              "                   param_distributions={&#x27;alpha&#x27;: [1e-05, 0.001, 0.1, 1],\n",
              "                                        &#x27;degree&#x27;: [2, 3, 4],\n",
              "                                        &#x27;gamma&#x27;: [0.001, 0.01, 0.1, 1],\n",
              "                                        &#x27;kernel&#x27;: [&#x27;linear&#x27;, &#x27;rbf&#x27;, &#x27;poly&#x27;]},\n",
              "                   random_state=1234, scoring=&#x27;neg_root_mean_squared_error&#x27;)</pre></div></div></div><div class=\"sk-parallel\"><div class=\"sk-parallel-item\"><div class=\"sk-item\"><div class=\"sk-label-container\"><div class=\"sk-label sk-toggleable\"><input class=\"sk-toggleable__control sk-hidden--visually\" id=\"sk-estimator-id-15\" type=\"checkbox\" ><label for=\"sk-estimator-id-15\" class=\"sk-toggleable__label sk-toggleable__label-arrow\">estimator: KernelRidge</label><div class=\"sk-toggleable__content\"><pre>KernelRidge()</pre></div></div></div><div class=\"sk-serial\"><div class=\"sk-item\"><div class=\"sk-estimator sk-toggleable\"><input class=\"sk-toggleable__control sk-hidden--visually\" id=\"sk-estimator-id-16\" type=\"checkbox\" ><label for=\"sk-estimator-id-16\" class=\"sk-toggleable__label sk-toggleable__label-arrow\">KernelRidge</label><div class=\"sk-toggleable__content\"><pre>KernelRidge()</pre></div></div></div></div></div></div></div></div></div></div>"
            ],
            "text/plain": [
              "RandomizedSearchCV(cv=KFold(n_splits=6, random_state=1234, shuffle=True),\n",
              "                   estimator=KernelRidge(), n_iter=30, n_jobs=-1,\n",
              "                   param_distributions={'alpha': [1e-05, 0.001, 0.1, 1],\n",
              "                                        'degree': [2, 3, 4],\n",
              "                                        'gamma': [0.001, 0.01, 0.1, 1],\n",
              "                                        'kernel': ['linear', 'rbf', 'poly']},\n",
              "                   random_state=1234, scoring='neg_root_mean_squared_error')"
            ]
          },
          "execution_count": 177,
          "metadata": {},
          "output_type": "execute_result"
        }
      ],
      "source": [
        "kr_model = KernelRidge()\n",
        "kr_parameters = {\n",
        "    #Ridge 에 대한 L2 로 규약을 얼마나 할지\n",
        "    \"alpha\": [0.00001, 0.001, 0.1, 1],\n",
        "    # kernel 을 어떻게 해서 원본변환할지\n",
        "    \"gamma\": [0.001, 0.01, 0.1, 1],\n",
        "    \"kernel\": [\"linear\", \"rbf\" ,\"poly\"],\n",
        "    \"degree\": [2,3,4] \n",
        "    \n",
        "}\n",
        "\n",
        "kr_rgs_model = RandomizedSearchCV(\n",
        "    kr_model, param_distributions=kr_parameters,\n",
        "    cv = kfold, n_iter=30,\n",
        "    random_state=1234, n_jobs = -1,\n",
        "    scoring=\"neg_root_mean_squared_error\"\n",
        ")\n",
        "\n",
        "kr_rgs_model.fit(X_train,y_df)"
      ]
    },
    {
      "cell_type": "code",
      "execution_count": null,
      "metadata": {},
      "outputs": [
        {
          "data": {
            "text/plain": [
              "-0.11771517295392009"
            ]
          },
          "execution_count": 178,
          "metadata": {},
          "output_type": "execute_result"
        }
      ],
      "source": [
        "kr_rgs_model.best_score_"
      ]
    },
    {
      "cell_type": "code",
      "execution_count": null,
      "metadata": {},
      "outputs": [
        {
          "data": {
            "text/plain": [
              "array([125982.52933733, 167533.05210767, 182556.32253913, ...,\n",
              "       164327.10997867, 111043.12306742, 226200.05407038])"
            ]
          },
          "execution_count": 179,
          "metadata": {},
          "output_type": "execute_result"
        }
      ],
      "source": [
        "# KR 을 RGS에서 제일 좋은 모델을\n",
        "kr_rgs_best = kr_rgs_model.best_estimator_\n",
        "# 실전\n",
        "kr_rgs_ypred = kr_rgs_best.predict(X_test)\n",
        "# 원래 값의 영역대로 환원\n",
        "y_pred_2 = np.expm1(kr_rgs_ypred)\n",
        "y_pred_2"
      ]
    },
    {
      "cell_type": "code",
      "execution_count": null,
      "metadata": {},
      "outputs": [
        {
          "data": {
            "text/plain": [
              "(122188.70714992854, 125982.52933732758)"
            ]
          },
          "execution_count": 180,
          "metadata": {},
          "output_type": "execute_result"
        }
      ],
      "source": [
        "y_pred_1[0], y_pred_2[0]\n",
        "# -> 회귀에서는 싱글모델보다는 여러 모델의 평균/가중평균을 주로 활용"
      ]
    },
    {
      "attachments": {},
      "cell_type": "markdown",
      "metadata": {},
      "source": [
        "### model 3: L1 + L2 -> ElasticNet"
      ]
    },
    {
      "cell_type": "code",
      "execution_count": null,
      "metadata": {},
      "outputs": [],
      "source": [
        "from sklearn.linear_model import ElasticNet"
      ]
    },
    {
      "cell_type": "code",
      "execution_count": null,
      "metadata": {},
      "outputs": [
        {
          "name": "stdout",
          "output_type": "stream",
          "text": [
            "[0.36914367 0.38030852 0.42686533 0.36937452 0.44118888 0.38655695]\n",
            "Elastic BaseLine Mean: 0.3955729771780437\n",
            "Elastic BaseLine Std: 0.028163750592352904\n"
          ]
        }
      ],
      "source": [
        "elnet_model = ElasticNet(random_state=1234)\n",
        "elnet_scores = rmse_baselineCV( elnet_model )\n",
        "print(elnet_scores)\n",
        "print(\"Elastic BaseLine Mean:\", elnet_scores.mean())\n",
        "print(\"Elastic BaseLine Std:\", elnet_scores.std())"
      ]
    },
    {
      "cell_type": "code",
      "execution_count": null,
      "metadata": {},
      "outputs": [
        {
          "data": {
            "text/html": [
              "<style>#sk-container-id-7 {color: black;background-color: white;}#sk-container-id-7 pre{padding: 0;}#sk-container-id-7 div.sk-toggleable {background-color: white;}#sk-container-id-7 label.sk-toggleable__label {cursor: pointer;display: block;width: 100%;margin-bottom: 0;padding: 0.3em;box-sizing: border-box;text-align: center;}#sk-container-id-7 label.sk-toggleable__label-arrow:before {content: \"▸\";float: left;margin-right: 0.25em;color: #696969;}#sk-container-id-7 label.sk-toggleable__label-arrow:hover:before {color: black;}#sk-container-id-7 div.sk-estimator:hover label.sk-toggleable__label-arrow:before {color: black;}#sk-container-id-7 div.sk-toggleable__content {max-height: 0;max-width: 0;overflow: hidden;text-align: left;background-color: #f0f8ff;}#sk-container-id-7 div.sk-toggleable__content pre {margin: 0.2em;color: black;border-radius: 0.25em;background-color: #f0f8ff;}#sk-container-id-7 input.sk-toggleable__control:checked~div.sk-toggleable__content {max-height: 200px;max-width: 100%;overflow: auto;}#sk-container-id-7 input.sk-toggleable__control:checked~label.sk-toggleable__label-arrow:before {content: \"▾\";}#sk-container-id-7 div.sk-estimator input.sk-toggleable__control:checked~label.sk-toggleable__label {background-color: #d4ebff;}#sk-container-id-7 div.sk-label input.sk-toggleable__control:checked~label.sk-toggleable__label {background-color: #d4ebff;}#sk-container-id-7 input.sk-hidden--visually {border: 0;clip: rect(1px 1px 1px 1px);clip: rect(1px, 1px, 1px, 1px);height: 1px;margin: -1px;overflow: hidden;padding: 0;position: absolute;width: 1px;}#sk-container-id-7 div.sk-estimator {font-family: monospace;background-color: #f0f8ff;border: 1px dotted black;border-radius: 0.25em;box-sizing: border-box;margin-bottom: 0.5em;}#sk-container-id-7 div.sk-estimator:hover {background-color: #d4ebff;}#sk-container-id-7 div.sk-parallel-item::after {content: \"\";width: 100%;border-bottom: 1px solid gray;flex-grow: 1;}#sk-container-id-7 div.sk-label:hover label.sk-toggleable__label {background-color: #d4ebff;}#sk-container-id-7 div.sk-serial::before {content: \"\";position: absolute;border-left: 1px solid gray;box-sizing: border-box;top: 0;bottom: 0;left: 50%;z-index: 0;}#sk-container-id-7 div.sk-serial {display: flex;flex-direction: column;align-items: center;background-color: white;padding-right: 0.2em;padding-left: 0.2em;position: relative;}#sk-container-id-7 div.sk-item {position: relative;z-index: 1;}#sk-container-id-7 div.sk-parallel {display: flex;align-items: stretch;justify-content: center;background-color: white;position: relative;}#sk-container-id-7 div.sk-item::before, #sk-container-id-7 div.sk-parallel-item::before {content: \"\";position: absolute;border-left: 1px solid gray;box-sizing: border-box;top: 0;bottom: 0;left: 50%;z-index: -1;}#sk-container-id-7 div.sk-parallel-item {display: flex;flex-direction: column;z-index: 1;position: relative;background-color: white;}#sk-container-id-7 div.sk-parallel-item:first-child::after {align-self: flex-end;width: 50%;}#sk-container-id-7 div.sk-parallel-item:last-child::after {align-self: flex-start;width: 50%;}#sk-container-id-7 div.sk-parallel-item:only-child::after {width: 0;}#sk-container-id-7 div.sk-dashed-wrapped {border: 1px dashed gray;margin: 0 0.4em 0.5em 0.4em;box-sizing: border-box;padding-bottom: 0.4em;background-color: white;}#sk-container-id-7 div.sk-label label {font-family: monospace;font-weight: bold;display: inline-block;line-height: 1.2em;}#sk-container-id-7 div.sk-label-container {text-align: center;}#sk-container-id-7 div.sk-container {/* jupyter's `normalize.less` sets `[hidden] { display: none; }` but bootstrap.min.css set `[hidden] { display: none !important; }` so we also need the `!important` here to be able to override the default hidden behavior on the sphinx rendered scikit-learn.org. See: https://github.com/scikit-learn/scikit-learn/issues/21755 */display: inline-block !important;position: relative;}#sk-container-id-7 div.sk-text-repr-fallback {display: none;}</style><div id=\"sk-container-id-7\" class=\"sk-top-container\"><div class=\"sk-text-repr-fallback\"><pre>RandomizedSearchCV(cv=KFold(n_splits=6, random_state=1234, shuffle=True),\n",
              "                   estimator=ElasticNet(random_state=1234), n_iter=30,\n",
              "                   n_jobs=-1,\n",
              "                   param_distributions={&#x27;alpha&#x27;: [0, 1e-05, 0.0001, 0.001, 0.1,\n",
              "                                                  1],\n",
              "                                        &#x27;l1_ratio&#x27;: [0, 1e-05, 0.0001, 0.001,\n",
              "                                                     0.1, 1],\n",
              "                                        &#x27;max_iter&#x27;: [1000, 3000],\n",
              "                                        &#x27;tol&#x27;: [1e-06, 0.0001, 0.001, 0.01]},\n",
              "                   random_state=1234, scoring=&#x27;neg_root_mean_squared_error&#x27;)</pre><b>In a Jupyter environment, please rerun this cell to show the HTML representation or trust the notebook. <br />On GitHub, the HTML representation is unable to render, please try loading this page with nbviewer.org.</b></div><div class=\"sk-container\" hidden><div class=\"sk-item sk-dashed-wrapped\"><div class=\"sk-label-container\"><div class=\"sk-label sk-toggleable\"><input class=\"sk-toggleable__control sk-hidden--visually\" id=\"sk-estimator-id-17\" type=\"checkbox\" ><label for=\"sk-estimator-id-17\" class=\"sk-toggleable__label sk-toggleable__label-arrow\">RandomizedSearchCV</label><div class=\"sk-toggleable__content\"><pre>RandomizedSearchCV(cv=KFold(n_splits=6, random_state=1234, shuffle=True),\n",
              "                   estimator=ElasticNet(random_state=1234), n_iter=30,\n",
              "                   n_jobs=-1,\n",
              "                   param_distributions={&#x27;alpha&#x27;: [0, 1e-05, 0.0001, 0.001, 0.1,\n",
              "                                                  1],\n",
              "                                        &#x27;l1_ratio&#x27;: [0, 1e-05, 0.0001, 0.001,\n",
              "                                                     0.1, 1],\n",
              "                                        &#x27;max_iter&#x27;: [1000, 3000],\n",
              "                                        &#x27;tol&#x27;: [1e-06, 0.0001, 0.001, 0.01]},\n",
              "                   random_state=1234, scoring=&#x27;neg_root_mean_squared_error&#x27;)</pre></div></div></div><div class=\"sk-parallel\"><div class=\"sk-parallel-item\"><div class=\"sk-item\"><div class=\"sk-label-container\"><div class=\"sk-label sk-toggleable\"><input class=\"sk-toggleable__control sk-hidden--visually\" id=\"sk-estimator-id-18\" type=\"checkbox\" ><label for=\"sk-estimator-id-18\" class=\"sk-toggleable__label sk-toggleable__label-arrow\">estimator: ElasticNet</label><div class=\"sk-toggleable__content\"><pre>ElasticNet(random_state=1234)</pre></div></div></div><div class=\"sk-serial\"><div class=\"sk-item\"><div class=\"sk-estimator sk-toggleable\"><input class=\"sk-toggleable__control sk-hidden--visually\" id=\"sk-estimator-id-19\" type=\"checkbox\" ><label for=\"sk-estimator-id-19\" class=\"sk-toggleable__label sk-toggleable__label-arrow\">ElasticNet</label><div class=\"sk-toggleable__content\"><pre>ElasticNet(random_state=1234)</pre></div></div></div></div></div></div></div></div></div></div>"
            ],
            "text/plain": [
              "RandomizedSearchCV(cv=KFold(n_splits=6, random_state=1234, shuffle=True),\n",
              "                   estimator=ElasticNet(random_state=1234), n_iter=30,\n",
              "                   n_jobs=-1,\n",
              "                   param_distributions={'alpha': [0, 1e-05, 0.0001, 0.001, 0.1,\n",
              "                                                  1],\n",
              "                                        'l1_ratio': [0, 1e-05, 0.0001, 0.001,\n",
              "                                                     0.1, 1],\n",
              "                                        'max_iter': [1000, 3000],\n",
              "                                        'tol': [1e-06, 0.0001, 0.001, 0.01]},\n",
              "                   random_state=1234, scoring='neg_root_mean_squared_error')"
            ]
          },
          "execution_count": 184,
          "metadata": {},
          "output_type": "execute_result"
        }
      ],
      "source": [
        "# RGS를 통해 최적의 값을 찾기\n",
        "elnet_model = ElasticNet(random_state=1234)\n",
        "elnet_params = {\n",
        "    # L1, L2에 대한 규약을 어떻게 조합을 할지가 elnet\n",
        "    \"l1_ratio\" : [0, 0.00001, 0.0001, 0.001, 0.1, 1],\n",
        "    \"alpha\" : [0, 0.00001, 0.0001, 0.001, 0.1, 1],\n",
        "    # 실제 연산을 위해 설정\n",
        "    \"tol\" : [0.000001, 0.0001, 0.001, 0.01],\n",
        "    \"max_iter\": [1000,3000]\n",
        "}\n",
        "\n",
        "elnet_rgs_model = RandomizedSearchCV(\n",
        "    elnet_model, param_distributions=elnet_params, \n",
        "    cv=kfold, n_iter=30,\n",
        "    scoring=\"neg_root_mean_squared_error\",\n",
        "    random_state=1234,\n",
        "    n_jobs=-1\n",
        ")\n",
        "\n",
        "elnet_rgs_model.fit(X_train, y_df)"
      ]
    },
    {
      "cell_type": "code",
      "execution_count": null,
      "metadata": {},
      "outputs": [
        {
          "data": {
            "text/plain": [
              "{'tol': 0.001, 'max_iter': 3000, 'l1_ratio': 1, 'alpha': 0.001}"
            ]
          },
          "execution_count": 186,
          "metadata": {},
          "output_type": "execute_result"
        }
      ],
      "source": [
        "elnet_rgs_model.best_params_"
      ]
    },
    {
      "cell_type": "code",
      "execution_count": null,
      "metadata": {},
      "outputs": [
        {
          "data": {
            "text/plain": [
              "-0.1161043793469697"
            ]
          },
          "execution_count": 187,
          "metadata": {},
          "output_type": "execute_result"
        }
      ],
      "source": [
        "elnet_rgs_model.best_score_"
      ]
    },
    {
      "cell_type": "code",
      "execution_count": null,
      "metadata": {},
      "outputs": [
        {
          "data": {
            "text/plain": [
              "array([122186.46068408, 158252.38081037, 180024.77489704, ...,\n",
              "       170328.17467647, 115746.83740633, 223377.92817961])"
            ]
          },
          "execution_count": 188,
          "metadata": {},
          "output_type": "execute_result"
        }
      ],
      "source": [
        "elnet_rgs_best = elnet_rgs_model.best_estimator_\n",
        "# 실전\n",
        "elnet_rgs_ypred = elnet_rgs_best.predict(X_test)\n",
        "# 원래 문제 영역으로 변환\n",
        "y_pred_3 = np.expm1(elnet_rgs_ypred)\n",
        "y_pred_3"
      ]
    },
    {
      "cell_type": "code",
      "execution_count": null,
      "metadata": {},
      "outputs": [
        {
          "data": {
            "text/plain": [
              "(122188.70714992854, 125982.52933732758, 122186.46068407528)"
            ]
          },
          "execution_count": 190,
          "metadata": {},
          "output_type": "execute_result"
        }
      ],
      "source": [
        "y_pred_1[0], y_pred_2[0], y_pred_3[0]"
      ]
    },
    {
      "cell_type": "code",
      "execution_count": null,
      "metadata": {},
      "outputs": [
        {
          "name": "stdout",
          "output_type": "stream",
          "text": [
            "[123452.56572378 161351.88635689 180866.17297377 ... 168320.17429121\n",
            " 114197.72325686 224292.27955587]\n"
          ]
        }
      ],
      "source": [
        "\"\"\"`\n",
        "여러 모델을 바탕으로 voting을 한다면???\n",
        "1. hard voting: 회귀에서는 단순 평균 \n",
        "        => 굳이 홀수개의 모델일 필요는 없음\n",
        "2. soft voting: 회귀에서는 가중 평균\n",
        "        => 예) 1번이 제일 좋다, 2번 별로, 3번 적당 \n",
        "                -> 제일 좋은 것: 3, 중간 : 2, 제일 별로:1\n",
        "                   제일 좋은 것: 1.5, 중간: 1, 별로: 0.5 \n",
        "        \n",
        "\"\"\"\n",
        "# hard voting\n",
        "y_pred_hv = (y_pred_1+y_pred_2+y_pred_3)/3\n",
        "print(y_pred_hv)\n",
        "\n",
        "# soft voting\n",
        "# 제일 좋은 것: 3, 중간 : 2, 제일 별로:1\n",
        "y_pred_sv_1 = (y_pred_1*3 + y_pred_2*2 + y_pred_3*1) /6\n",
        "# 제일 좋은 것: 1.5, 중간: 1, 별로: 0.5\n",
        "y_pred_sv_2 = (y_pred_1*1.5 + y_pred_2*1 + y_pred_3*0.5) /6"
      ]
    },
    {
      "cell_type": "code",
      "execution_count": null,
      "metadata": {},
      "outputs": [
        {
          "data": {
            "text/plain": [
              "-0.11610035026916331"
            ]
          },
          "execution_count": 193,
          "metadata": {},
          "output_type": "execute_result"
        }
      ],
      "source": [
        "lasso_rgs_model.best_score_"
      ]
    },
    {
      "cell_type": "code",
      "execution_count": null,
      "metadata": {},
      "outputs": [
        {
          "data": {
            "text/plain": [
              "-0.11771517295392009"
            ]
          },
          "execution_count": 194,
          "metadata": {},
          "output_type": "execute_result"
        }
      ],
      "source": [
        "kr_rgs_model.best_score_"
      ]
    },
    {
      "cell_type": "code",
      "execution_count": null,
      "metadata": {},
      "outputs": [
        {
          "data": {
            "text/plain": [
              "-0.1161043793469697"
            ]
          },
          "execution_count": 195,
          "metadata": {},
          "output_type": "execute_result"
        }
      ],
      "source": [
        "elnet_rgs_model.best_score_"
      ]
    },
    {
      "cell_type": "code",
      "execution_count": null,
      "metadata": {},
      "outputs": [],
      "source": [
        "######################################################\n",
        "### 일반적인 선형 회귀 모형을 기반으로 하는 모델들\n",
        "# Lasso, ridge, elastic: 포커스 보다는 일단 체크해본다의 느낌 \n",
        "# -> 속도가 어느정도 괜찮아 보이기에\n",
        "# -> 현실적으로는 Tree 기반의 알고리즘들을 주로 활용을\n",
        "#    RF, Xgboost, LightGBM\n",
        "# + opt) stacking"
      ]
    },
    {
      "attachments": {},
      "cell_type": "markdown",
      "metadata": {},
      "source": [
        "### model 4: RF\n"
      ]
    },
    {
      "cell_type": "code",
      "execution_count": null,
      "metadata": {},
      "outputs": [],
      "source": [
        "from sklearn.ensemble import RandomForestRegressor"
      ]
    },
    {
      "cell_type": "code",
      "execution_count": null,
      "metadata": {},
      "outputs": [
        {
          "name": "stdout",
          "output_type": "stream",
          "text": [
            "[0.14681127 0.11976133 0.15682506 0.12946261 0.14335317 0.12518033]\n",
            "RF BaseLine Mean: 0.13689896341411315\n",
            "RF BaseLine Std: 0.01305937887390976\n"
          ]
        }
      ],
      "source": [
        "rf_model = RandomForestRegressor(random_state=1234)\n",
        "rf_scores = rmse_baselineCV( rf_model )\n",
        "print(rf_scores)\n",
        "print(\"RF BaseLine Mean:\", rf_scores.mean())\n",
        "print(\"RF BaseLine Std:\", rf_scores.std())"
      ]
    },
    {
      "cell_type": "code",
      "execution_count": null,
      "metadata": {},
      "outputs": [],
      "source": [
        "# RGS: 앞에 여러 모델을 한 결과가 있으니\n",
        "#      0.13보다는 줄이면서 그래도 한 0.11 안쪽으로는 들어가야 하지 않을까...\n",
        "# rf는 rgs 보다는 optuna 들이 좀 더 잘 찾아주는 부분이 있는 거 같음 (개인적인 의견)"
      ]
    },
    {
      "cell_type": "code",
      "execution_count": null,
      "metadata": {},
      "outputs": [
        {
          "name": "stderr",
          "output_type": "stream",
          "text": [
            "c:\\Users\\NTX550\\anaconda3\\lib\\site-packages\\sklearn\\ensemble\\_forest.py:413: FutureWarning: `max_features='auto'` has been deprecated in 1.1 and will be removed in 1.3. To keep the past behaviour, explicitly set `max_features=1.0` or remove this parameter as it is also the default value for RandomForestRegressors and ExtraTreesRegressors.\n",
            "  warn(\n"
          ]
        },
        {
          "data": {
            "text/html": [
              "<style>#sk-container-id-9 {color: black;background-color: white;}#sk-container-id-9 pre{padding: 0;}#sk-container-id-9 div.sk-toggleable {background-color: white;}#sk-container-id-9 label.sk-toggleable__label {cursor: pointer;display: block;width: 100%;margin-bottom: 0;padding: 0.3em;box-sizing: border-box;text-align: center;}#sk-container-id-9 label.sk-toggleable__label-arrow:before {content: \"▸\";float: left;margin-right: 0.25em;color: #696969;}#sk-container-id-9 label.sk-toggleable__label-arrow:hover:before {color: black;}#sk-container-id-9 div.sk-estimator:hover label.sk-toggleable__label-arrow:before {color: black;}#sk-container-id-9 div.sk-toggleable__content {max-height: 0;max-width: 0;overflow: hidden;text-align: left;background-color: #f0f8ff;}#sk-container-id-9 div.sk-toggleable__content pre {margin: 0.2em;color: black;border-radius: 0.25em;background-color: #f0f8ff;}#sk-container-id-9 input.sk-toggleable__control:checked~div.sk-toggleable__content {max-height: 200px;max-width: 100%;overflow: auto;}#sk-container-id-9 input.sk-toggleable__control:checked~label.sk-toggleable__label-arrow:before {content: \"▾\";}#sk-container-id-9 div.sk-estimator input.sk-toggleable__control:checked~label.sk-toggleable__label {background-color: #d4ebff;}#sk-container-id-9 div.sk-label input.sk-toggleable__control:checked~label.sk-toggleable__label {background-color: #d4ebff;}#sk-container-id-9 input.sk-hidden--visually {border: 0;clip: rect(1px 1px 1px 1px);clip: rect(1px, 1px, 1px, 1px);height: 1px;margin: -1px;overflow: hidden;padding: 0;position: absolute;width: 1px;}#sk-container-id-9 div.sk-estimator {font-family: monospace;background-color: #f0f8ff;border: 1px dotted black;border-radius: 0.25em;box-sizing: border-box;margin-bottom: 0.5em;}#sk-container-id-9 div.sk-estimator:hover {background-color: #d4ebff;}#sk-container-id-9 div.sk-parallel-item::after {content: \"\";width: 100%;border-bottom: 1px solid gray;flex-grow: 1;}#sk-container-id-9 div.sk-label:hover label.sk-toggleable__label {background-color: #d4ebff;}#sk-container-id-9 div.sk-serial::before {content: \"\";position: absolute;border-left: 1px solid gray;box-sizing: border-box;top: 0;bottom: 0;left: 50%;z-index: 0;}#sk-container-id-9 div.sk-serial {display: flex;flex-direction: column;align-items: center;background-color: white;padding-right: 0.2em;padding-left: 0.2em;position: relative;}#sk-container-id-9 div.sk-item {position: relative;z-index: 1;}#sk-container-id-9 div.sk-parallel {display: flex;align-items: stretch;justify-content: center;background-color: white;position: relative;}#sk-container-id-9 div.sk-item::before, #sk-container-id-9 div.sk-parallel-item::before {content: \"\";position: absolute;border-left: 1px solid gray;box-sizing: border-box;top: 0;bottom: 0;left: 50%;z-index: -1;}#sk-container-id-9 div.sk-parallel-item {display: flex;flex-direction: column;z-index: 1;position: relative;background-color: white;}#sk-container-id-9 div.sk-parallel-item:first-child::after {align-self: flex-end;width: 50%;}#sk-container-id-9 div.sk-parallel-item:last-child::after {align-self: flex-start;width: 50%;}#sk-container-id-9 div.sk-parallel-item:only-child::after {width: 0;}#sk-container-id-9 div.sk-dashed-wrapped {border: 1px dashed gray;margin: 0 0.4em 0.5em 0.4em;box-sizing: border-box;padding-bottom: 0.4em;background-color: white;}#sk-container-id-9 div.sk-label label {font-family: monospace;font-weight: bold;display: inline-block;line-height: 1.2em;}#sk-container-id-9 div.sk-label-container {text-align: center;}#sk-container-id-9 div.sk-container {/* jupyter's `normalize.less` sets `[hidden] { display: none; }` but bootstrap.min.css set `[hidden] { display: none !important; }` so we also need the `!important` here to be able to override the default hidden behavior on the sphinx rendered scikit-learn.org. See: https://github.com/scikit-learn/scikit-learn/issues/21755 */display: inline-block !important;position: relative;}#sk-container-id-9 div.sk-text-repr-fallback {display: none;}</style><div id=\"sk-container-id-9\" class=\"sk-top-container\"><div class=\"sk-text-repr-fallback\"><pre>RandomizedSearchCV(cv=KFold(n_splits=6, random_state=1234, shuffle=True),\n",
              "                   estimator=RandomForestRegressor(n_jobs=-1,\n",
              "                                                   random_state=1234),\n",
              "                   n_iter=20, n_jobs=-1,\n",
              "                   param_distributions={&#x27;criterion&#x27;: [&#x27;squared_error&#x27;,\n",
              "                                                      &#x27;absolute_error&#x27;],\n",
              "                                        &#x27;max_depth&#x27;: [3, 4, 5, 10],\n",
              "                                        &#x27;max_features&#x27;: [&#x27;auto&#x27;, &#x27;sqrt&#x27;,\n",
              "                                                         &#x27;log2&#x27;],\n",
              "                                        &#x27;min_samples_split&#x27;: [2, 3, 4, 5],\n",
              "                                        &#x27;n_estimators&#x27;: [100, 200, 300, 500]},\n",
              "                   random_state=1234, scoring=&#x27;neg_root_mean_squared_error&#x27;)</pre><b>In a Jupyter environment, please rerun this cell to show the HTML representation or trust the notebook. <br />On GitHub, the HTML representation is unable to render, please try loading this page with nbviewer.org.</b></div><div class=\"sk-container\" hidden><div class=\"sk-item sk-dashed-wrapped\"><div class=\"sk-label-container\"><div class=\"sk-label sk-toggleable\"><input class=\"sk-toggleable__control sk-hidden--visually\" id=\"sk-estimator-id-23\" type=\"checkbox\" ><label for=\"sk-estimator-id-23\" class=\"sk-toggleable__label sk-toggleable__label-arrow\">RandomizedSearchCV</label><div class=\"sk-toggleable__content\"><pre>RandomizedSearchCV(cv=KFold(n_splits=6, random_state=1234, shuffle=True),\n",
              "                   estimator=RandomForestRegressor(n_jobs=-1,\n",
              "                                                   random_state=1234),\n",
              "                   n_iter=20, n_jobs=-1,\n",
              "                   param_distributions={&#x27;criterion&#x27;: [&#x27;squared_error&#x27;,\n",
              "                                                      &#x27;absolute_error&#x27;],\n",
              "                                        &#x27;max_depth&#x27;: [3, 4, 5, 10],\n",
              "                                        &#x27;max_features&#x27;: [&#x27;auto&#x27;, &#x27;sqrt&#x27;,\n",
              "                                                         &#x27;log2&#x27;],\n",
              "                                        &#x27;min_samples_split&#x27;: [2, 3, 4, 5],\n",
              "                                        &#x27;n_estimators&#x27;: [100, 200, 300, 500]},\n",
              "                   random_state=1234, scoring=&#x27;neg_root_mean_squared_error&#x27;)</pre></div></div></div><div class=\"sk-parallel\"><div class=\"sk-parallel-item\"><div class=\"sk-item\"><div class=\"sk-label-container\"><div class=\"sk-label sk-toggleable\"><input class=\"sk-toggleable__control sk-hidden--visually\" id=\"sk-estimator-id-24\" type=\"checkbox\" ><label for=\"sk-estimator-id-24\" class=\"sk-toggleable__label sk-toggleable__label-arrow\">estimator: RandomForestRegressor</label><div class=\"sk-toggleable__content\"><pre>RandomForestRegressor(n_jobs=-1, random_state=1234)</pre></div></div></div><div class=\"sk-serial\"><div class=\"sk-item\"><div class=\"sk-estimator sk-toggleable\"><input class=\"sk-toggleable__control sk-hidden--visually\" id=\"sk-estimator-id-25\" type=\"checkbox\" ><label for=\"sk-estimator-id-25\" class=\"sk-toggleable__label sk-toggleable__label-arrow\">RandomForestRegressor</label><div class=\"sk-toggleable__content\"><pre>RandomForestRegressor(n_jobs=-1, random_state=1234)</pre></div></div></div></div></div></div></div></div></div></div>"
            ],
            "text/plain": [
              "RandomizedSearchCV(cv=KFold(n_splits=6, random_state=1234, shuffle=True),\n",
              "                   estimator=RandomForestRegressor(n_jobs=-1,\n",
              "                                                   random_state=1234),\n",
              "                   n_iter=20, n_jobs=-1,\n",
              "                   param_distributions={'criterion': ['squared_error',\n",
              "                                                      'absolute_error'],\n",
              "                                        'max_depth': [3, 4, 5, 10],\n",
              "                                        'max_features': ['auto', 'sqrt',\n",
              "                                                         'log2'],\n",
              "                                        'min_samples_split': [2, 3, 4, 5],\n",
              "                                        'n_estimators': [100, 200, 300, 500]},\n",
              "                   random_state=1234, scoring='neg_root_mean_squared_error')"
            ]
          },
          "execution_count": 200,
          "metadata": {},
          "output_type": "execute_result"
        }
      ],
      "source": [
        "rf_model = RandomForestRegressor(random_state=1234, n_jobs=-1)\n",
        "rf_rgs_parameters = {\n",
        "    # bagging에서 몇 개의 모델을 펌핑해서 의견을 종합을 할지 ... 몇 그루 나무\n",
        "    \"n_estimators\": [100,200,300,500],\n",
        "    #회귀의 평가 지표 -> 회귀, 분류 중 무엇을 하느냐에 따라\n",
        "    # 최종 평가 지표와 연관을 해서 설정을 하는 부분이 필요함\n",
        "\n",
        "    \"criterion\": ['squared_error', 'absolute_error'],\n",
        "    # DT기반이기에 overfit을 어떻게 컨트롤 할지\n",
        "    \"max_depth\" : [3,4,5,10],\n",
        "    \"min_samples_split\": [2,3,4,5],\n",
        "    # 샘플링\n",
        "    \"max_features\": [\"auto\",\"sqrt\",\"log2\"],\n",
        "    \n",
        "    \n",
        "}\n",
        "\n",
        "rf_rgs_model = RandomizedSearchCV(rf_model, param_distributions=rf_rgs_parameters,\n",
        "                                  cv = kfold, n_iter=20, scoring=\"neg_root_mean_squared_error\",\n",
        "                                  random_state=1234, n_jobs=-1)\n",
        "\n",
        "rf_rgs_model.fit(X_train,y_df)\n"
      ]
    },
    {
      "cell_type": "code",
      "execution_count": null,
      "metadata": {},
      "outputs": [
        {
          "data": {
            "text/plain": [
              "-0.13834404760264338"
            ]
          },
          "execution_count": 203,
          "metadata": {},
          "output_type": "execute_result"
        }
      ],
      "source": [
        "rf_rgs_model.best_score_ # 더 조정 필요"
      ]
    },
    {
      "cell_type": "code",
      "execution_count": null,
      "metadata": {},
      "outputs": [
        {
          "data": {
            "text/plain": [
              "array([122836.91113294, 154804.05051477, 174641.58612638, ...,\n",
              "       154841.11628776, 113828.50636803, 225874.02073724])"
            ]
          },
          "execution_count": 204,
          "metadata": {},
          "output_type": "execute_result"
        }
      ],
      "source": [
        "rf_rgs_model_best = rf_rgs_model.best_estimator_\n",
        "rf_rgs_model_ypred = rf_rgs_model_best.predict(X_test)\n",
        "y_pred_4 = np.expm1(rf_rgs_model_ypred)\n",
        "y_pred_4"
      ]
    },
    {
      "cell_type": "code",
      "execution_count": null,
      "metadata": {},
      "outputs": [],
      "source": []
    },
    {
      "attachments": {},
      "cell_type": "markdown",
      "metadata": {},
      "source": [
        "### model 5: xgboost"
      ]
    },
    {
      "cell_type": "code",
      "execution_count": 296,
      "metadata": {},
      "outputs": [],
      "source": [
        "from xgboost import XGBRegressor"
      ]
    },
    {
      "cell_type": "code",
      "execution_count": 297,
      "metadata": {},
      "outputs": [
        {
          "name": "stdout",
          "output_type": "stream",
          "text": [
            "[0.14681127 0.11976133 0.15682506 0.12946261 0.14335317 0.12518033]\n",
            "XGB BaseLine Mean: 0.1306217812129252\n",
            "xGB BaseLine Std: 0.010239615574528948\n"
          ]
        }
      ],
      "source": [
        "xgb_model = XGBRegressor(random_state=1234)\n",
        "xgb_scores = rmse_baselineCV( xgb_model )\n",
        "print(rf_scores)\n",
        "print(\"XGB BaseLine Mean:\", xgb_scores.mean())\n",
        "print(\"xGB BaseLine Std:\", xgb_scores.std())"
      ]
    },
    {
      "cell_type": "code",
      "execution_count": 299,
      "metadata": {},
      "outputs": [
        {
          "data": {
            "text/html": [
              "<style>#sk-container-id-12 {color: black;background-color: white;}#sk-container-id-12 pre{padding: 0;}#sk-container-id-12 div.sk-toggleable {background-color: white;}#sk-container-id-12 label.sk-toggleable__label {cursor: pointer;display: block;width: 100%;margin-bottom: 0;padding: 0.3em;box-sizing: border-box;text-align: center;}#sk-container-id-12 label.sk-toggleable__label-arrow:before {content: \"▸\";float: left;margin-right: 0.25em;color: #696969;}#sk-container-id-12 label.sk-toggleable__label-arrow:hover:before {color: black;}#sk-container-id-12 div.sk-estimator:hover label.sk-toggleable__label-arrow:before {color: black;}#sk-container-id-12 div.sk-toggleable__content {max-height: 0;max-width: 0;overflow: hidden;text-align: left;background-color: #f0f8ff;}#sk-container-id-12 div.sk-toggleable__content pre {margin: 0.2em;color: black;border-radius: 0.25em;background-color: #f0f8ff;}#sk-container-id-12 input.sk-toggleable__control:checked~div.sk-toggleable__content {max-height: 200px;max-width: 100%;overflow: auto;}#sk-container-id-12 input.sk-toggleable__control:checked~label.sk-toggleable__label-arrow:before {content: \"▾\";}#sk-container-id-12 div.sk-estimator input.sk-toggleable__control:checked~label.sk-toggleable__label {background-color: #d4ebff;}#sk-container-id-12 div.sk-label input.sk-toggleable__control:checked~label.sk-toggleable__label {background-color: #d4ebff;}#sk-container-id-12 input.sk-hidden--visually {border: 0;clip: rect(1px 1px 1px 1px);clip: rect(1px, 1px, 1px, 1px);height: 1px;margin: -1px;overflow: hidden;padding: 0;position: absolute;width: 1px;}#sk-container-id-12 div.sk-estimator {font-family: monospace;background-color: #f0f8ff;border: 1px dotted black;border-radius: 0.25em;box-sizing: border-box;margin-bottom: 0.5em;}#sk-container-id-12 div.sk-estimator:hover {background-color: #d4ebff;}#sk-container-id-12 div.sk-parallel-item::after {content: \"\";width: 100%;border-bottom: 1px solid gray;flex-grow: 1;}#sk-container-id-12 div.sk-label:hover label.sk-toggleable__label {background-color: #d4ebff;}#sk-container-id-12 div.sk-serial::before {content: \"\";position: absolute;border-left: 1px solid gray;box-sizing: border-box;top: 0;bottom: 0;left: 50%;z-index: 0;}#sk-container-id-12 div.sk-serial {display: flex;flex-direction: column;align-items: center;background-color: white;padding-right: 0.2em;padding-left: 0.2em;position: relative;}#sk-container-id-12 div.sk-item {position: relative;z-index: 1;}#sk-container-id-12 div.sk-parallel {display: flex;align-items: stretch;justify-content: center;background-color: white;position: relative;}#sk-container-id-12 div.sk-item::before, #sk-container-id-12 div.sk-parallel-item::before {content: \"\";position: absolute;border-left: 1px solid gray;box-sizing: border-box;top: 0;bottom: 0;left: 50%;z-index: -1;}#sk-container-id-12 div.sk-parallel-item {display: flex;flex-direction: column;z-index: 1;position: relative;background-color: white;}#sk-container-id-12 div.sk-parallel-item:first-child::after {align-self: flex-end;width: 50%;}#sk-container-id-12 div.sk-parallel-item:last-child::after {align-self: flex-start;width: 50%;}#sk-container-id-12 div.sk-parallel-item:only-child::after {width: 0;}#sk-container-id-12 div.sk-dashed-wrapped {border: 1px dashed gray;margin: 0 0.4em 0.5em 0.4em;box-sizing: border-box;padding-bottom: 0.4em;background-color: white;}#sk-container-id-12 div.sk-label label {font-family: monospace;font-weight: bold;display: inline-block;line-height: 1.2em;}#sk-container-id-12 div.sk-label-container {text-align: center;}#sk-container-id-12 div.sk-container {/* jupyter's `normalize.less` sets `[hidden] { display: none; }` but bootstrap.min.css set `[hidden] { display: none !important; }` so we also need the `!important` here to be able to override the default hidden behavior on the sphinx rendered scikit-learn.org. See: https://github.com/scikit-learn/scikit-learn/issues/21755 */display: inline-block !important;position: relative;}#sk-container-id-12 div.sk-text-repr-fallback {display: none;}</style><div id=\"sk-container-id-12\" class=\"sk-top-container\"><div class=\"sk-text-repr-fallback\"><pre>RandomizedSearchCV(cv=KFold(n_splits=6, random_state=1234, shuffle=True),\n",
              "                   estimator=XGBRegressor(base_score=None, booster=None,\n",
              "                                          callbacks=None,\n",
              "                                          colsample_bylevel=None,\n",
              "                                          colsample_bynode=None,\n",
              "                                          colsample_bytree=None,\n",
              "                                          early_stopping_rounds=None,\n",
              "                                          enable_categorical=False,\n",
              "                                          eval_metric=None, feature_types=None,\n",
              "                                          gamma=None, gpu_id=None,\n",
              "                                          grow_policy=None,\n",
              "                                          importance_type=N...\n",
              "                                          max_leaves=None,\n",
              "                                          min_child_weight=None, missing=nan,\n",
              "                                          monotone_constraints=None,\n",
              "                                          n_estimators=100, n_jobs=-1,\n",
              "                                          num_parallel_tree=None,\n",
              "                                          predictor=None, random_state=1234, ...),\n",
              "                   n_jobs=-1,\n",
              "                   param_distributions={&#x27;colsample_bytree&#x27;: [0.1, 0.2, 0.3,\n",
              "                                                             0.6],\n",
              "                                        &#x27;learning_rate&#x27;: [0.1, 0.3, 0.5],\n",
              "                                        &#x27;max_depth&#x27;: [2, 5, 7, 9],\n",
              "                                        &#x27;n_estimators&#x27;: [50, 100]},\n",
              "                   random_state=1234, scoring=&#x27;neg_root_mean_squared_error&#x27;)</pre><b>In a Jupyter environment, please rerun this cell to show the HTML representation or trust the notebook. <br />On GitHub, the HTML representation is unable to render, please try loading this page with nbviewer.org.</b></div><div class=\"sk-container\" hidden><div class=\"sk-item sk-dashed-wrapped\"><div class=\"sk-label-container\"><div class=\"sk-label sk-toggleable\"><input class=\"sk-toggleable__control sk-hidden--visually\" id=\"sk-estimator-id-30\" type=\"checkbox\" ><label for=\"sk-estimator-id-30\" class=\"sk-toggleable__label sk-toggleable__label-arrow\">RandomizedSearchCV</label><div class=\"sk-toggleable__content\"><pre>RandomizedSearchCV(cv=KFold(n_splits=6, random_state=1234, shuffle=True),\n",
              "                   estimator=XGBRegressor(base_score=None, booster=None,\n",
              "                                          callbacks=None,\n",
              "                                          colsample_bylevel=None,\n",
              "                                          colsample_bynode=None,\n",
              "                                          colsample_bytree=None,\n",
              "                                          early_stopping_rounds=None,\n",
              "                                          enable_categorical=False,\n",
              "                                          eval_metric=None, feature_types=None,\n",
              "                                          gamma=None, gpu_id=None,\n",
              "                                          grow_policy=None,\n",
              "                                          importance_type=N...\n",
              "                                          max_leaves=None,\n",
              "                                          min_child_weight=None, missing=nan,\n",
              "                                          monotone_constraints=None,\n",
              "                                          n_estimators=100, n_jobs=-1,\n",
              "                                          num_parallel_tree=None,\n",
              "                                          predictor=None, random_state=1234, ...),\n",
              "                   n_jobs=-1,\n",
              "                   param_distributions={&#x27;colsample_bytree&#x27;: [0.1, 0.2, 0.3,\n",
              "                                                             0.6],\n",
              "                                        &#x27;learning_rate&#x27;: [0.1, 0.3, 0.5],\n",
              "                                        &#x27;max_depth&#x27;: [2, 5, 7, 9],\n",
              "                                        &#x27;n_estimators&#x27;: [50, 100]},\n",
              "                   random_state=1234, scoring=&#x27;neg_root_mean_squared_error&#x27;)</pre></div></div></div><div class=\"sk-parallel\"><div class=\"sk-parallel-item\"><div class=\"sk-item\"><div class=\"sk-label-container\"><div class=\"sk-label sk-toggleable\"><input class=\"sk-toggleable__control sk-hidden--visually\" id=\"sk-estimator-id-31\" type=\"checkbox\" ><label for=\"sk-estimator-id-31\" class=\"sk-toggleable__label sk-toggleable__label-arrow\">estimator: XGBRegressor</label><div class=\"sk-toggleable__content\"><pre>XGBRegressor(base_score=None, booster=None, callbacks=None,\n",
              "             colsample_bylevel=None, colsample_bynode=None,\n",
              "             colsample_bytree=None, early_stopping_rounds=None,\n",
              "             enable_categorical=False, eval_metric=None, feature_types=None,\n",
              "             gamma=None, gpu_id=None, grow_policy=None, importance_type=None,\n",
              "             interaction_constraints=None, learning_rate=None, max_bin=None,\n",
              "             max_cat_threshold=None, max_cat_to_onehot=None,\n",
              "             max_delta_step=None, max_depth=None, max_leaves=None,\n",
              "             min_child_weight=None, missing=nan, monotone_constraints=None,\n",
              "             n_estimators=100, n_jobs=-1, num_parallel_tree=None,\n",
              "             predictor=None, random_state=1234, ...)</pre></div></div></div><div class=\"sk-serial\"><div class=\"sk-item\"><div class=\"sk-estimator sk-toggleable\"><input class=\"sk-toggleable__control sk-hidden--visually\" id=\"sk-estimator-id-32\" type=\"checkbox\" ><label for=\"sk-estimator-id-32\" class=\"sk-toggleable__label sk-toggleable__label-arrow\">XGBRegressor</label><div class=\"sk-toggleable__content\"><pre>XGBRegressor(base_score=None, booster=None, callbacks=None,\n",
              "             colsample_bylevel=None, colsample_bynode=None,\n",
              "             colsample_bytree=None, early_stopping_rounds=None,\n",
              "             enable_categorical=False, eval_metric=None, feature_types=None,\n",
              "             gamma=None, gpu_id=None, grow_policy=None, importance_type=None,\n",
              "             interaction_constraints=None, learning_rate=None, max_bin=None,\n",
              "             max_cat_threshold=None, max_cat_to_onehot=None,\n",
              "             max_delta_step=None, max_depth=None, max_leaves=None,\n",
              "             min_child_weight=None, missing=nan, monotone_constraints=None,\n",
              "             n_estimators=100, n_jobs=-1, num_parallel_tree=None,\n",
              "             predictor=None, random_state=1234, ...)</pre></div></div></div></div></div></div></div></div></div></div>"
            ],
            "text/plain": [
              "RandomizedSearchCV(cv=KFold(n_splits=6, random_state=1234, shuffle=True),\n",
              "                   estimator=XGBRegressor(base_score=None, booster=None,\n",
              "                                          callbacks=None,\n",
              "                                          colsample_bylevel=None,\n",
              "                                          colsample_bynode=None,\n",
              "                                          colsample_bytree=None,\n",
              "                                          early_stopping_rounds=None,\n",
              "                                          enable_categorical=False,\n",
              "                                          eval_metric=None, feature_types=None,\n",
              "                                          gamma=None, gpu_id=None,\n",
              "                                          grow_policy=None,\n",
              "                                          importance_type=N...\n",
              "                                          max_leaves=None,\n",
              "                                          min_child_weight=None, missing=nan,\n",
              "                                          monotone_constraints=None,\n",
              "                                          n_estimators=100, n_jobs=-1,\n",
              "                                          num_parallel_tree=None,\n",
              "                                          predictor=None, random_state=1234, ...),\n",
              "                   n_jobs=-1,\n",
              "                   param_distributions={'colsample_bytree': [0.1, 0.2, 0.3,\n",
              "                                                             0.6],\n",
              "                                        'learning_rate': [0.1, 0.3, 0.5],\n",
              "                                        'max_depth': [2, 5, 7, 9],\n",
              "                                        'n_estimators': [50, 100]},\n",
              "                   random_state=1234, scoring='neg_root_mean_squared_error')"
            ]
          },
          "execution_count": 299,
          "metadata": {},
          "output_type": "execute_result"
        }
      ],
      "source": [
        "# RGS\n",
        "xgb_model = XGBRegressor(random_state = 1234, n_jobs= -1,\n",
        "                         objective = \"reg:squarederror\")\n",
        "xgb_parameters = {\n",
        "    \"n_estimators\" : [50,100],\n",
        "    \"learning_rate\": [0.1, 0.3, 0.5],\n",
        "    \"max_depth\": [2,5,7,9],\n",
        "    \"colsample_bytree\" : [0.1,0.2,0.3,0.6]\n",
        "}\n",
        "\n",
        "xgb_rgs_model = RandomizedSearchCV(\n",
        "    xgb_model, param_distributions=xgb_parameters,\n",
        "    cv=kfold, scoring=\"neg_root_mean_squared_error\",\n",
        "    n_iter=10, random_state=1234, n_jobs= -1\n",
        ")\n",
        "xgb_rgs_model.fit(X_train, y_df)"
      ]
    },
    {
      "cell_type": "code",
      "execution_count": null,
      "metadata": {},
      "outputs": [],
      "source": []
    },
    {
      "attachments": {},
      "cell_type": "markdown",
      "metadata": {},
      "source": [
        "To Do List: \n",
        "RF, xgboost, lightbgn에 대한 최적의 모델 찾기\n",
        "+++ 여러 모델에 대한 앙상블을 시도해도면 돼"
      ]
    },
    {
      "cell_type": "code",
      "execution_count": 300,
      "metadata": {},
      "outputs": [
        {
          "ename": "NameError",
          "evalue": "name 'y_pred_sv_1' is not defined",
          "output_type": "error",
          "traceback": [
            "\u001b[1;31m---------------------------------------------------------------------------\u001b[0m",
            "\u001b[1;31mNameError\u001b[0m                                 Traceback (most recent call last)",
            "Cell \u001b[1;32mIn[300], line 2\u001b[0m\n\u001b[0;32m      1\u001b[0m \u001b[39m# 가정) 아래 모델을 선정했다고 함\u001b[39;00m\n\u001b[1;32m----> 2\u001b[0m y_pred_sv_1\n",
            "\u001b[1;31mNameError\u001b[0m: name 'y_pred_sv_1' is not defined"
          ]
        }
      ],
      "source": [
        "# 가정) 아래 모델을 선정했다고 함\n",
        "y_pred_sv_1"
      ]
    },
    {
      "cell_type": "code",
      "execution_count": null,
      "metadata": {},
      "outputs": [],
      "source": []
    },
    {
      "cell_type": "code",
      "execution_count": null,
      "metadata": {},
      "outputs": [],
      "source": [
        "# 개인별로 업로드를 한번 해보기"
      ]
    },
    {
      "cell_type": "code",
      "execution_count": null,
      "metadata": {},
      "outputs": [],
      "source": []
    },
    {
      "cell_type": "code",
      "execution_count": null,
      "metadata": {},
      "outputs": [],
      "source": []
    },
    {
      "attachments": {},
      "cell_type": "markdown",
      "metadata": {
        "id": "g7UafiRuANDo"
      },
      "source": [
        "#### 정규화 작업"
      ]
    },
    {
      "cell_type": "code",
      "execution_count": null,
      "metadata": {},
      "outputs": [],
      "source": []
    },
    {
      "cell_type": "code",
      "execution_count": null,
      "metadata": {},
      "outputs": [],
      "source": []
    },
    {
      "cell_type": "code",
      "execution_count": null,
      "metadata": {
        "id": "jrg7e48gANDp"
      },
      "outputs": [],
      "source": [
        "scaler = StandardScaler()\n"
      ]
    },
    {
      "cell_type": "code",
      "execution_count": null,
      "metadata": {
        "id": "RVsKKXqcANDp",
        "outputId": "2e366503-4d95-472f-ce83-83022dfa1ad5"
      },
      "outputs": [
        {
          "data": {
            "text/plain": [
              "0    12.247699\n",
              "1    12.109016\n",
              "2    12.317171\n",
              "3    11.849405\n",
              "4    12.429220\n",
              "Name: SalePrice, dtype: float64"
            ]
          },
          "execution_count": 146,
          "metadata": {},
          "output_type": "execute_result"
        }
      ],
      "source": [
        "y_df.head()"
      ]
    },
    {
      "cell_type": "code",
      "execution_count": null,
      "metadata": {
        "id": "5xGNwKfSANDp",
        "outputId": "25e0f106-32cc-416c-f508-dbf589f11a8f"
      },
      "outputs": [
        {
          "data": {
            "text/plain": [
              "(1456,)"
            ]
          },
          "execution_count": 147,
          "metadata": {},
          "output_type": "execute_result"
        }
      ],
      "source": [
        "y_df.shape"
      ]
    },
    {
      "cell_type": "code",
      "execution_count": null,
      "metadata": {
        "id": "RlMxeSdyANDq",
        "outputId": "bc6091c2-c88e-4d72-d58b-a9b93b0286f7"
      },
      "outputs": [
        {
          "data": {
            "text/plain": [
              "12.24769911637256"
            ]
          },
          "execution_count": 148,
          "metadata": {},
          "output_type": "execute_result"
        }
      ],
      "source": [
        "#  참고) 위에서 제일 원본 데이터는 208500이였는데, 이것을 log1p로 변환한 것을 정답지로 놓고 하는 것이니\n",
        "# 하기 전에 맞게 변환이 되었는지 확인!!!!!!\n",
        "np.log1p(208500)"
      ]
    },
    {
      "attachments": {},
      "cell_type": "markdown",
      "metadata": {
        "id": "LZHkCI6gANDq"
      },
      "source": [
        "#### 모델의 종류들 : 평가는 root-mean-squared-error 로 평가\n",
        "\n",
        "        Ridge Regression\n",
        "        Lasso Regression\n",
        "        ElasticNet Regression\n",
        "        Support Vector Machine\n",
        "        Random Forest\n",
        "        XG Boost"
      ]
    },
    {
      "attachments": {},
      "cell_type": "markdown",
      "metadata": {
        "id": "Y64-yNBKANDq"
      },
      "source": [
        "##### 평가 및 kfold 사용 준비"
      ]
    },
    {
      "cell_type": "code",
      "execution_count": null,
      "metadata": {
        "id": "lxFTedeiANDq"
      },
      "outputs": [],
      "source": []
    },
    {
      "cell_type": "code",
      "execution_count": null,
      "metadata": {
        "id": "mBhtU2KQANDr"
      },
      "outputs": [],
      "source": []
    },
    {
      "attachments": {},
      "cell_type": "markdown",
      "metadata": {
        "id": "aYK8dlhoANDr"
      },
      "source": [
        "##### 참고) 평가지표"
      ]
    },
    {
      "attachments": {},
      "cell_type": "markdown",
      "metadata": {
        "id": "3P9WW9kOANDr"
      },
      "source": [
        "<img src=\"img/01.png\">\n",
        "<img src=\"img/02.png\">\n",
        "<img src=\"img/03.png\">\n",
        "<img src=\"img/04.png\">\n",
        "<img src=\"img/05.png\">\n",
        "<img src=\"img/06.png\">"
      ]
    },
    {
      "attachments": {},
      "cell_type": "markdown",
      "metadata": {
        "id": "EFIrKjvvANDr"
      },
      "source": [
        "* RMSLE 의 특징 : 하지만 kaggle 에서의 평가 지표는 RMSE 임!<br>\n",
        "<img src=\"img/07.png\">\n",
        "<img src=\"img/08.png\">\n",
        "<img src=\"img/09.png\">"
      ]
    },
    {
      "attachments": {},
      "cell_type": "markdown",
      "metadata": {
        "id": "3ML-pGGPANDr"
      },
      "source": [
        "ref ) https://bkshin.tistory.com/entry/%EB%A8%B8%EC%8B%A0%EB%9F%AC%EB%8B%9D-17-%ED%9A%8C%EA%B7%80-%ED%8F%89%EA%B0%80-%EC%A7%80%ED%91%9C"
      ]
    },
    {
      "attachments": {},
      "cell_type": "markdown",
      "metadata": {
        "id": "xXSKHJIQANDs"
      },
      "source": [
        "* Scikit-Learn의 평가 지표"
      ]
    },
    {
      "attachments": {},
      "cell_type": "markdown",
      "metadata": {
        "id": "c_ITgl-vANDs"
      },
      "source": [
        "<img src=\"img/10.png\">"
      ]
    },
    {
      "attachments": {},
      "cell_type": "markdown",
      "metadata": {
        "id": "JMSjXvELANDs"
      },
      "source": [
        "##### Rigid "
      ]
    },
    {
      "attachments": {},
      "cell_type": "markdown",
      "metadata": {
        "id": "yu9ff8s3ANDs"
      },
      "source": [
        "* ref ) https://scikit-learn.org/stable/modules/generated/sklearn.kernel_ridge.KernelRidge.html#sklearn.kernel_ridge.KernelRidge"
      ]
    },
    {
      "cell_type": "code",
      "execution_count": null,
      "metadata": {
        "id": "qKZh7qewANDs"
      },
      "outputs": [],
      "source": [
        "import time"
      ]
    },
    {
      "cell_type": "code",
      "execution_count": null,
      "metadata": {
        "id": "4S2kMZVaANDs",
        "outputId": "ee86aec6-10cb-44a4-c788-17583666bd4d"
      },
      "outputs": [
        {
          "ename": "SyntaxError",
          "evalue": "invalid syntax (2415351536.py, line 1)",
          "output_type": "error",
          "traceback": [
            "\u001b[1;36m  Cell \u001b[1;32mIn[150], line 1\u001b[1;36m\u001b[0m\n\u001b[1;33m    ~\u001b[0m\n\u001b[1;37m     ^\u001b[0m\n\u001b[1;31mSyntaxError\u001b[0m\u001b[1;31m:\u001b[0m invalid syntax\n"
          ]
        }
      ],
      "source": []
    },
    {
      "cell_type": "code",
      "execution_count": null,
      "metadata": {
        "id": "3lP5f1eGANDt",
        "outputId": "e3fc7e1d-bc6d-4381-9874-ae6ce5e64968"
      },
      "outputs": [
        {
          "name": "stdout",
          "output_type": "stream",
          "text": [
            "Kernel Ridge mean score: 0.11196564169797972\n",
            "Kernel Ridge std: 0.007929655583876236\n"
          ]
        }
      ],
      "source": [
        "score = rmsle_cv(KR_best)\n",
        "print(\"Kernel Ridge mean score:\", score.mean())\n",
        "print(\"Kernel Ridge std:\", score.std())"
      ]
    },
    {
      "attachments": {},
      "cell_type": "markdown",
      "metadata": {
        "id": "9UWpcDHmANDt"
      },
      "source": [
        "* 위의 부분을 너무 많이 설정을 하게 되면, 좀 자세히 찾을 수 있겠지만, 너무 시간이 오래 걸리는 부분들이 발생을 한다. 그래서 아래와 같이 randomSearchCV를 사용해보려고 함!!!"
      ]
    },
    {
      "cell_type": "code",
      "execution_count": null,
      "metadata": {
        "id": "nRUuA5oyANDt",
        "outputId": "1ddb57d8-8770-4894-f1d6-14daecebe7d6"
      },
      "outputs": [
        {
          "name": "stdout",
          "output_type": "stream",
          "text": [
            "RandomizedSearchCV took 7.21 seconds for 20 candidates parameter settings.\n",
            "KernelRidge(alpha=0.1, coef0=1.5, degree=2, gamma=0.0008211879055212056,\n",
            "            kernel='polynomial')\n"
          ]
        }
      ],
      "source": [
        "~"
      ]
    },
    {
      "cell_type": "code",
      "execution_count": null,
      "metadata": {
        "id": "6LpMSObBANDu",
        "outputId": "137cbb6e-8eb7-459c-8dd0-6115805ca3c7"
      },
      "outputs": [
        {
          "name": "stdout",
          "output_type": "stream",
          "text": [
            "Kernel Ridge mean score: 0.11242370382925089\n",
            "Kernel Ridge std: 0.008361009490468354\n"
          ]
        }
      ],
      "source": [
        "~"
      ]
    },
    {
      "cell_type": "code",
      "execution_count": null,
      "metadata": {
        "id": "6mVNCKhKANDu"
      },
      "outputs": [],
      "source": [
        "~"
      ]
    },
    {
      "cell_type": "code",
      "execution_count": null,
      "metadata": {
        "id": "fpww08yZANDu"
      },
      "outputs": [],
      "source": []
    },
    {
      "attachments": {},
      "cell_type": "markdown",
      "metadata": {
        "id": "xYSvGlRQANDu"
      },
      "source": [
        "##### Lasso Regression"
      ]
    },
    {
      "attachments": {},
      "cell_type": "markdown",
      "metadata": {
        "id": "fmzI2ESIANDu"
      },
      "source": [
        "* ref) https://scikit-learn.org/stable/modules/generated/sklearn.linear_model.Lasso.html"
      ]
    },
    {
      "cell_type": "code",
      "execution_count": null,
      "metadata": {
        "id": "bKXNz3wDANDu"
      },
      "outputs": [],
      "source": [
        "~~~"
      ]
    },
    {
      "attachments": {},
      "cell_type": "markdown",
      "metadata": {
        "id": "n6EvO4fAANDu"
      },
      "source": [
        "##### ElasticNet Regression"
      ]
    },
    {
      "cell_type": "code",
      "execution_count": null,
      "metadata": {
        "id": "0qTNatbFANDu"
      },
      "outputs": [],
      "source": []
    },
    {
      "attachments": {},
      "cell_type": "markdown",
      "metadata": {
        "id": "UNZHbC1hANDu"
      },
      "source": [
        "##### Support Vector Machine"
      ]
    },
    {
      "attachments": {},
      "cell_type": "markdown",
      "metadata": {
        "id": "pHvYjaQeANDv"
      },
      "source": [
        "* SVR : Support Vector Machine Regression    \n",
        "    https://scikit-learn.org/stable/modules/generated/sklearn.svm.SVR.html"
      ]
    },
    {
      "cell_type": "code",
      "execution_count": null,
      "metadata": {
        "id": "lVVFm3mZANDv"
      },
      "outputs": [],
      "source": []
    },
    {
      "attachments": {},
      "cell_type": "markdown",
      "metadata": {
        "id": "aqg4bu4eANDv"
      },
      "source": [
        "##### Random Forest"
      ]
    },
    {
      "cell_type": "code",
      "execution_count": null,
      "metadata": {
        "id": "GB070NPVANDv"
      },
      "outputs": [],
      "source": [
        "from sklearn.model_selection import GridSearchCV,RandomizedSearchCV,learning_curve, cross_val_score, KFold\n",
        "from sklearn.ensemble import RandomForestRegressor\n",
        "from sklearn.metrics import accuracy_score, mean_squared_error"
      ]
    },
    {
      "attachments": {},
      "cell_type": "markdown",
      "metadata": {
        "id": "j_rDFbZ4ANDv"
      },
      "source": [
        "* ref) https://scikit-learn.org/stable/modules/generated/sklearn.ensemble.RandomForestRegressor.html"
      ]
    },
    {
      "cell_type": "code",
      "execution_count": null,
      "metadata": {
        "id": "FS8p09ETANDv"
      },
      "outputs": [],
      "source": []
    },
    {
      "cell_type": "code",
      "execution_count": null,
      "metadata": {
        "id": "fkGc_65HANDv"
      },
      "outputs": [],
      "source": []
    },
    {
      "cell_type": "code",
      "execution_count": null,
      "metadata": {
        "id": "lZHV1fb_ANDv"
      },
      "outputs": [],
      "source": []
    },
    {
      "attachments": {},
      "cell_type": "markdown",
      "metadata": {
        "id": "5Ohv-flaANDv"
      },
      "source": [
        "##### XG Boost¶"
      ]
    },
    {
      "cell_type": "code",
      "execution_count": null,
      "metadata": {
        "id": "_0HjEpAyANDv"
      },
      "outputs": [],
      "source": []
    },
    {
      "attachments": {},
      "cell_type": "markdown",
      "metadata": {
        "id": "cV7y9qRuANDw"
      },
      "source": [
        "### Ensemble - Stacked Regression and GridSearch"
      ]
    },
    {
      "cell_type": "code",
      "execution_count": null,
      "metadata": {
        "id": "nJAcTSq5ANDw",
        "outputId": "ab1d17ff-92c8-4cd9-b3ec-b5386ade35fe"
      },
      "outputs": [
        {
          "name": "stdout",
          "output_type": "stream",
          "text": [
            "source: https://rasbt.github.io/mlxtend/user_guide/regressor/StackingCVRegressor/\n"
          ]
        },
        {
          "data": {
            "text/html": [
              "<img src=\"https://rasbt.github.io/mlxtend/user_guide/regressor/StackingCVRegressor_files/stacking_cv_regressor_overview.png\"/>"
            ],
            "text/plain": [
              "<IPython.core.display.Image object>"
            ]
          },
          "execution_count": 62,
          "metadata": {},
          "output_type": "execute_result"
        }
      ],
      "source": [
        "print(\"source: https://rasbt.github.io/mlxtend/user_guide/regressor/StackingCVRegressor/\")\n",
        "Image(url= \"https://rasbt.github.io/mlxtend/user_guide/regressor/StackingCVRegressor_files/stacking_cv_regressor_overview.png\")"
      ]
    },
    {
      "cell_type": "code",
      "execution_count": null,
      "metadata": {
        "id": "sE1nvDZdANDw",
        "outputId": "1ebb1987-54cc-4d7c-855a-fde25d8a0e25"
      },
      "outputs": [
        {
          "name": "stdout",
          "output_type": "stream",
          "text": [
            "Fitting 6 folds for each of 1 candidates, totalling 6 fits\n"
          ]
        },
        {
          "name": "stderr",
          "output_type": "stream",
          "text": [
            "C:\\Users\\TFG5076XG\\anaconda3\\lib\\site-packages\\xgboost\\data.py:112: UserWarning: Use subset (sliced data) of np.ndarray is not recommended because it will generate extra copies and increase memory consumption\n",
            "  warnings.warn(\n"
          ]
        },
        {
          "name": "stdout",
          "output_type": "stream",
          "text": [
            "StackingRegressor(meta_regressor=XGBRegressor(base_score=None, booster=None,\n",
            "                                              colsample_bylevel=None,\n",
            "                                              colsample_bynode=None,\n",
            "                                              colsample_bytree=0.4, gamma=0.1,\n",
            "                                              gpu_id=None,\n",
            "                                              importance_type='gain',\n",
            "                                              interaction_constraints=None,\n",
            "                                              learning_rate=0.005,\n",
            "                                              max_delta_step=None, max_depth=2,\n",
            "                                              min_child_weight=0, missing=nan,\n",
            "                                              monotone_constraints=None,\n",
            "                                              n_estimators=1480, n_jobs=N...\n",
            "                                           monotone_constraints=None,\n",
            "                                           n_estimators=870, n_jobs=None,\n",
            "                                           num_parallel_tree=None,\n",
            "                                           random_state=None, reg_alpha=None,\n",
            "                                           reg_lambda=None,\n",
            "                                           scale_pos_weight=None, subsample=0.8,\n",
            "                                           tree_method=None,\n",
            "                                           validate_parameters=None,\n",
            "                                           verbosity=None),\n",
            "                              SVR(C=0.1, coef0=1.6, degree=2, epsilon=0.03,\n",
            "                                  gamma='auto', kernel='poly'),\n",
            "                              KernelRidge(alpha=0.93, coef0=1.5, gamma=0.001,\n",
            "                                          kernel='polynomial')])\n"
          ]
        }
      ],
      "source": [
        "XGB = XGBRegressor()\n",
        "\n",
        "ELNET = ElasticNet(random_state = 1)\n",
        "LCV=Lasso(random_state = 1)\n",
        "SV = SVR()\n",
        "KR = KernelRidge()\n",
        "XG = XGBRegressor()\n",
        "stack = StackingRegressor(regressors = [ELNET,LCV,XG,SV,KR], meta_regressor = XGB)\n",
        "\n",
        "params = {       \n",
        "        # mlxtend : 0.17 이하 버전기준..\n",
        "    \n",
        "#               'meta-xgbregressor__n_estimators' : [740*2],#740\n",
        "#               'meta-xgbregressor__learning_rate': [0.01/2], #0.01\n",
        "#                'meta-xgbregressor__min_child_weight':[0],\n",
        "#               'meta-xgbregressor__gamma':[0.1],\n",
        "#               'meta-xgbregressor__max_depth': [2],\n",
        "#               'meta-xgbregressor__subsample':[0.65],\n",
        "#               'meta-xgbregressor__colsample_bytree':[0.4],\n",
        "#               'meta-xgbregressor__reg_alpha':[0],\n",
        "#               'meta-xgbregressor__reg_lambda':[1],\n",
        "    \n",
        "        # mlxtend : 0.17 버전 기준 : http://rasbt.github.io/mlxtend/user_guide/regressor/StackingRegressor/\n",
        "                'meta_regressor__n_estimators' : [740*2],#740\n",
        "              'meta_regressor__learning_rate': [0.01/2], #0.01\n",
        "               'meta_regressor__min_child_weight':[0],\n",
        "              'meta_regressor__gamma':[0.1],\n",
        "              'meta_regressor__max_depth': [2],\n",
        "              'meta_regressor__subsample':[0.65],\n",
        "              'meta_regressor__colsample_bytree':[0.4],\n",
        "              'meta_regressor__reg_alpha':[0],\n",
        "              'meta_regressor__reg_lambda':[1],\n",
        "              \n",
        "              'lasso__alpha':[0.00244736842105],\n",
        "              'elasticnet__alpha':[0.0276315789474],\n",
        "              'elasticnet__l1_ratio':[0.09],\n",
        "              'xgbregressor__min_child_weight':[0.2],\n",
        "              'xgbregressor__n_estimators' : [870],\n",
        "              'xgbregressor__learning_rate': [0.04],\n",
        "              'xgbregressor__gamma':[0],\n",
        "              'xgbregressor__max_depth': [3],\n",
        "              'xgbregressor__subsample':[0.8],\n",
        "              'xgbregressor__colsample_bytree':[0.7],\n",
        "    \n",
        "              'kernelridge__alpha':[0.93],\n",
        "              'kernelridge__coef0':[1.5],\n",
        "              'kernelridge__degree':[3],\n",
        "              'kernelridge__gamma':[0.001],\n",
        "              'kernelridge__kernel':['polynomial'],\n",
        "              'kernelridge__kernel_params':[None],\n",
        "              \n",
        "              'svr__coef0':[1.6],\n",
        "              'svr__kernel':['poly'],\n",
        "              'svr__epsilon':[0.03],\n",
        "              'svr__gamma': ['auto'],\n",
        "              'svr__degree': [2],\n",
        "              'svr__C':[0.1]\n",
        "        }\n",
        "\n",
        "\n",
        "grid = GridSearchCV(estimator = stack, param_grid=params,cv=kfold,refit=True, verbose=1,n_jobs=-1,\n",
        "                    scoring=\"neg_mean_squared_error\")\n",
        "grid.fit(X_train, y_df)\n",
        "grid_best = grid.best_estimator_\n",
        "print(grid_best)\n"
      ]
    },
    {
      "cell_type": "code",
      "execution_count": null,
      "metadata": {
        "id": "AQWWAM19ANDw",
        "outputId": "84c3cd36-1c88-48e1-be56-592ca79d0ce2"
      },
      "outputs": [
        {
          "name": "stderr",
          "output_type": "stream",
          "text": [
            "C:\\Users\\TFG5076XG\\anaconda3\\lib\\site-packages\\xgboost\\data.py:112: UserWarning: Use subset (sliced data) of np.ndarray is not recommended because it will generate extra copies and increase memory consumption\n",
            "  warnings.warn(\n",
            "C:\\Users\\TFG5076XG\\anaconda3\\lib\\site-packages\\xgboost\\data.py:112: UserWarning: Use subset (sliced data) of np.ndarray is not recommended because it will generate extra copies and increase memory consumption\n",
            "  warnings.warn(\n",
            "C:\\Users\\TFG5076XG\\anaconda3\\lib\\site-packages\\xgboost\\data.py:112: UserWarning: Use subset (sliced data) of np.ndarray is not recommended because it will generate extra copies and increase memory consumption\n",
            "  warnings.warn(\n",
            "C:\\Users\\TFG5076XG\\anaconda3\\lib\\site-packages\\xgboost\\data.py:112: UserWarning: Use subset (sliced data) of np.ndarray is not recommended because it will generate extra copies and increase memory consumption\n",
            "  warnings.warn(\n",
            "C:\\Users\\TFG5076XG\\anaconda3\\lib\\site-packages\\xgboost\\data.py:112: UserWarning: Use subset (sliced data) of np.ndarray is not recommended because it will generate extra copies and increase memory consumption\n",
            "  warnings.warn(\n",
            "C:\\Users\\TFG5076XG\\anaconda3\\lib\\site-packages\\xgboost\\data.py:112: UserWarning: Use subset (sliced data) of np.ndarray is not recommended because it will generate extra copies and increase memory consumption\n",
            "  warnings.warn(\n",
            "C:\\Users\\TFG5076XG\\anaconda3\\lib\\site-packages\\xgboost\\data.py:112: UserWarning: Use subset (sliced data) of np.ndarray is not recommended because it will generate extra copies and increase memory consumption\n",
            "  warnings.warn(\n",
            "C:\\Users\\TFG5076XG\\anaconda3\\lib\\site-packages\\xgboost\\data.py:112: UserWarning: Use subset (sliced data) of np.ndarray is not recommended because it will generate extra copies and increase memory consumption\n",
            "  warnings.warn(\n",
            "C:\\Users\\TFG5076XG\\anaconda3\\lib\\site-packages\\xgboost\\data.py:112: UserWarning: Use subset (sliced data) of np.ndarray is not recommended because it will generate extra copies and increase memory consumption\n",
            "  warnings.warn(\n",
            "C:\\Users\\TFG5076XG\\anaconda3\\lib\\site-packages\\xgboost\\data.py:112: UserWarning: Use subset (sliced data) of np.ndarray is not recommended because it will generate extra copies and increase memory consumption\n",
            "  warnings.warn(\n",
            "C:\\Users\\TFG5076XG\\anaconda3\\lib\\site-packages\\xgboost\\data.py:112: UserWarning: Use subset (sliced data) of np.ndarray is not recommended because it will generate extra copies and increase memory consumption\n",
            "  warnings.warn(\n",
            "C:\\Users\\TFG5076XG\\anaconda3\\lib\\site-packages\\xgboost\\data.py:112: UserWarning: Use subset (sliced data) of np.ndarray is not recommended because it will generate extra copies and increase memory consumption\n",
            "  warnings.warn(\n"
          ]
        },
        {
          "name": "stdout",
          "output_type": "stream",
          "text": [
            "Stacking mean score: 0.10965167617103806\n"
          ]
        },
        {
          "name": "stderr",
          "output_type": "stream",
          "text": [
            "C:\\Users\\TFG5076XG\\anaconda3\\lib\\site-packages\\xgboost\\data.py:112: UserWarning: Use subset (sliced data) of np.ndarray is not recommended because it will generate extra copies and increase memory consumption\n",
            "  warnings.warn(\n",
            "C:\\Users\\TFG5076XG\\anaconda3\\lib\\site-packages\\xgboost\\data.py:112: UserWarning: Use subset (sliced data) of np.ndarray is not recommended because it will generate extra copies and increase memory consumption\n",
            "  warnings.warn(\n",
            "C:\\Users\\TFG5076XG\\anaconda3\\lib\\site-packages\\xgboost\\data.py:112: UserWarning: Use subset (sliced data) of np.ndarray is not recommended because it will generate extra copies and increase memory consumption\n",
            "  warnings.warn(\n",
            "C:\\Users\\TFG5076XG\\anaconda3\\lib\\site-packages\\xgboost\\data.py:112: UserWarning: Use subset (sliced data) of np.ndarray is not recommended because it will generate extra copies and increase memory consumption\n",
            "  warnings.warn(\n",
            "C:\\Users\\TFG5076XG\\anaconda3\\lib\\site-packages\\xgboost\\data.py:112: UserWarning: Use subset (sliced data) of np.ndarray is not recommended because it will generate extra copies and increase memory consumption\n",
            "  warnings.warn(\n",
            "C:\\Users\\TFG5076XG\\anaconda3\\lib\\site-packages\\xgboost\\data.py:112: UserWarning: Use subset (sliced data) of np.ndarray is not recommended because it will generate extra copies and increase memory consumption\n",
            "  warnings.warn(\n",
            "C:\\Users\\TFG5076XG\\anaconda3\\lib\\site-packages\\xgboost\\data.py:112: UserWarning: Use subset (sliced data) of np.ndarray is not recommended because it will generate extra copies and increase memory consumption\n",
            "  warnings.warn(\n",
            "C:\\Users\\TFG5076XG\\anaconda3\\lib\\site-packages\\xgboost\\data.py:112: UserWarning: Use subset (sliced data) of np.ndarray is not recommended because it will generate extra copies and increase memory consumption\n",
            "  warnings.warn(\n",
            "C:\\Users\\TFG5076XG\\anaconda3\\lib\\site-packages\\xgboost\\data.py:112: UserWarning: Use subset (sliced data) of np.ndarray is not recommended because it will generate extra copies and increase memory consumption\n",
            "  warnings.warn(\n",
            "C:\\Users\\TFG5076XG\\anaconda3\\lib\\site-packages\\xgboost\\data.py:112: UserWarning: Use subset (sliced data) of np.ndarray is not recommended because it will generate extra copies and increase memory consumption\n",
            "  warnings.warn(\n",
            "C:\\Users\\TFG5076XG\\anaconda3\\lib\\site-packages\\xgboost\\data.py:112: UserWarning: Use subset (sliced data) of np.ndarray is not recommended because it will generate extra copies and increase memory consumption\n",
            "  warnings.warn(\n"
          ]
        },
        {
          "name": "stdout",
          "output_type": "stream",
          "text": [
            "Stacking std: 0.007711620983802349\n"
          ]
        },
        {
          "name": "stderr",
          "output_type": "stream",
          "text": [
            "C:\\Users\\TFG5076XG\\anaconda3\\lib\\site-packages\\xgboost\\data.py:112: UserWarning: Use subset (sliced data) of np.ndarray is not recommended because it will generate extra copies and increase memory consumption\n",
            "  warnings.warn(\n"
          ]
        }
      ],
      "source": [
        "print(\"Stacking mean score:\", rmsle_cv(grid_best).mean())\n",
        "print(\"Stacking std:\", rmsle_cv(grid_best).std())"
      ]
    },
    {
      "cell_type": "code",
      "execution_count": null,
      "metadata": {
        "id": "pyiR5zorANDw",
        "outputId": "90f6ceb9-9f62-4d26-d2c6-8325d5fb15dd"
      },
      "outputs": [
        {
          "name": "stderr",
          "output_type": "stream",
          "text": [
            "C:\\Users\\TFG5076XG\\anaconda3\\lib\\site-packages\\xgboost\\data.py:112: UserWarning: Use subset (sliced data) of np.ndarray is not recommended because it will generate extra copies and increase memory consumption\n",
            "  warnings.warn(\n"
          ]
        }
      ],
      "source": [
        "y_submission_st = np.expm1(grid.predict(X_test))"
      ]
    },
    {
      "attachments": {},
      "cell_type": "markdown",
      "metadata": {
        "id": "fWUufujdANDw"
      },
      "source": [
        "#### Ensemble - Averaging"
      ]
    },
    {
      "cell_type": "code",
      "execution_count": null,
      "metadata": {
        "id": "572HRzFbANDx"
      },
      "outputs": [],
      "source": []
    },
    {
      "cell_type": "code",
      "execution_count": null,
      "metadata": {
        "id": "-ormoHeiANDx"
      },
      "outputs": [],
      "source": []
    },
    {
      "cell_type": "code",
      "execution_count": null,
      "metadata": {
        "id": "UHUtyUA6ANDx",
        "outputId": "204e4ce7-6d3a-41a2-ad58-87090b32a6cd"
      },
      "outputs": [
        {
          "data": {
            "text/plain": [
              "array([124056.85026802, 163477.36877579, 190004.76706499, ...,\n",
              "       160385.34579887, 116675.410491  , 221924.31341818])"
            ]
          },
          "execution_count": 102,
          "metadata": {},
          "output_type": "execute_result"
        }
      ],
      "source": [
        "y_submission_avg"
      ]
    },
    {
      "attachments": {},
      "cell_type": "markdown",
      "metadata": {
        "id": "vZj3wA_FANDx"
      },
      "source": [
        "* 제출 준비"
      ]
    },
    {
      "cell_type": "code",
      "execution_count": null,
      "metadata": {
        "id": "_PsSkZY-ANDx"
      },
      "outputs": [],
      "source": [
        "my_submission = pd.DataFrame()\n",
        "my_submission['Id'] = test_id\n",
        "my_submission['SalePrice'] = y_submission_avg\n",
        "my_submission.to_csv('submission_trail_ver_0-1.csv',index=False)\n"
      ]
    },
    {
      "attachments": {},
      "cell_type": "markdown",
      "metadata": {
        "id": "DrQ9E_-1ANDx"
      },
      "source": [
        "<img src=\"img/11.png\">"
      ]
    },
    {
      "attachments": {},
      "cell_type": "markdown",
      "metadata": {
        "id": "r3in_Lq7ANDx"
      },
      "source": [
        "### To Do List"
      ]
    },
    {
      "attachments": {},
      "cell_type": "markdown",
      "metadata": {
        "id": "dhbaos7nANDx"
      },
      "source": [
        "Mission : 위의 성능보다 더 나은 모델을 만들어 제출하시오!!!"
      ]
    },
    {
      "cell_type": "code",
      "execution_count": null,
      "metadata": {
        "id": "A4attHWYANDy"
      },
      "outputs": [],
      "source": []
    }
  ],
  "metadata": {
    "colab": {
      "provenance": []
    },
    "kernelspec": {
      "display_name": "Python 3",
      "language": "python",
      "name": "python3"
    },
    "language_info": {
      "codemirror_mode": {
        "name": "ipython",
        "version": 3
      },
      "file_extension": ".py",
      "mimetype": "text/x-python",
      "name": "python",
      "nbconvert_exporter": "python",
      "pygments_lexer": "ipython3",
      "version": "3.10.9"
    },
    "toc": {
      "base_numbering": 1,
      "nav_menu": {},
      "number_sections": true,
      "sideBar": true,
      "skip_h1_title": false,
      "title_cell": "Table of Contents",
      "title_sidebar": "Contents",
      "toc_cell": false,
      "toc_position": {},
      "toc_section_display": true,
      "toc_window_display": false
    },
    "varInspector": {
      "cols": {
        "lenName": 16,
        "lenType": 16,
        "lenVar": 40
      },
      "kernels_config": {
        "python": {
          "delete_cmd_postfix": "",
          "delete_cmd_prefix": "del ",
          "library": "var_list.py",
          "varRefreshCmd": "print(var_dic_list())"
        },
        "r": {
          "delete_cmd_postfix": ") ",
          "delete_cmd_prefix": "rm(",
          "library": "var_list.r",
          "varRefreshCmd": "cat(var_dic_list()) "
        }
      },
      "types_to_exclude": [
        "module",
        "function",
        "builtin_function_or_method",
        "instance",
        "_Feature"
      ],
      "window_display": false
    }
  },
  "nbformat": 4,
  "nbformat_minor": 0
}
